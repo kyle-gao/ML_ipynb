{
  "nbformat": 4,
  "nbformat_minor": 0,
  "metadata": {
    "colab": {
      "name": "Pytorch_CNN_practice.ipynb",
      "provenance": [],
      "authorship_tag": "ABX9TyNJQ/MB6Bh1u/LPoBYiz2W7",
      "include_colab_link": true
    },
    "kernelspec": {
      "name": "python3",
      "display_name": "Python 3"
    }
  },
  "cells": [
    {
      "cell_type": "markdown",
      "metadata": {
        "id": "view-in-github",
        "colab_type": "text"
      },
      "source": [
        "<a href=\"https://colab.research.google.com/github/kyle-gao/ML_ipynb/blob/master/Pytorch_CNN_practice.ipynb\" target=\"_parent\"><img src=\"https://colab.research.google.com/assets/colab-badge.svg\" alt=\"Open In Colab\"/></a>"
      ]
    },
    {
      "cell_type": "code",
      "metadata": {
        "id": "P7GNR8zEggsw",
        "colab_type": "code",
        "colab": {}
      },
      "source": [
        "import torch\n",
        "import torch.nn as nn\n",
        "import torchvision\n",
        "from torchsummary import summary"
      ],
      "execution_count": 57,
      "outputs": []
    },
    {
      "cell_type": "code",
      "metadata": {
        "id": "NxlzqkMRqrVi",
        "colab_type": "code",
        "colab": {}
      },
      "source": [
        "transform=torchvision.transforms.Compose([\n",
        "                               torchvision.transforms.ToTensor(),\n",
        "                               torchvision.transforms.Normalize(\n",
        "                                 (1), (0.5))\n",
        "                             ])\n",
        "\n",
        "batch_size = 32\n",
        "\n",
        "train_loader = torch.utils.data.DataLoader(\n",
        "  torchvision.datasets.FashionMNIST('/files/', train=True, download=True,\n",
        "                             transform = transform), batch_size=batch_size, shuffle=True)\n",
        "\n",
        "test_loader = torch.utils.data.DataLoader(\n",
        "  torchvision.datasets.FashionMNIST('/files/', train=False, download=True, \n",
        "                                    transform = transform),  batch_size=batch_size, shuffle=True)"
      ],
      "execution_count": 96,
      "outputs": []
    },
    {
      "cell_type": "code",
      "metadata": {
        "id": "Wgr0Ub1nifGD",
        "colab_type": "code",
        "colab": {
          "base_uri": "https://localhost:8080/",
          "height": 476
        },
        "outputId": "bcd968b0-606d-4812-e1f8-8111336a77b8"
      },
      "source": [
        "class Model(nn.Module):\n",
        "  def __init__(self):\n",
        "    super(Model,self).__init__()\n",
        "\n",
        "    self.conv1 = nn.Conv2d(1,32,3,1) #in Channel, out Channel, kernel, stride\n",
        "    self.conv2 = nn.Conv2d(32,64,3,1)\n",
        "\n",
        "    self.dropout1 = nn.Dropout2d(0.2)\n",
        "    self.dropout2 = nn.Dropout(0.2)\n",
        "\n",
        "    self.dense1 = nn.Linear(1600, 128)\n",
        "    self.dense2 = nn.Linear(128,10)\n",
        "  \n",
        "  def forward(self,x):\n",
        "    x = self.conv1(x)\n",
        "    x = nn.functional.relu(x)\n",
        "    x = x = nn.functional.max_pool2d(x,2)\n",
        "    x = self.dropout1(x)\n",
        "\n",
        "    x = self.conv2(x)\n",
        "    x = nn.functional.relu(x)\n",
        "    x = nn.functional.max_pool2d(x,2)\n",
        "    x = torch.flatten(x,1)\n",
        "    #print(x.shape) #print shape to caculate dense input dim\n",
        "    x = self.dense1(x)\n",
        "    x = self.dropout2(x)\n",
        "    x = self.dense2(x)\n",
        "    return nn.functional.log_softmax(x, dim=1)\n",
        "\n",
        "conv = Model()\n",
        "print(conv)\n",
        "from torchsummary import summary\n",
        "\n",
        "summary(conv, (1, 28, 28))"
      ],
      "execution_count": 97,
      "outputs": [
        {
          "output_type": "stream",
          "text": [
            "Model(\n",
            "  (conv1): Conv2d(1, 32, kernel_size=(3, 3), stride=(1, 1))\n",
            "  (conv2): Conv2d(32, 64, kernel_size=(3, 3), stride=(1, 1))\n",
            "  (dropout1): Dropout2d(p=0.2, inplace=False)\n",
            "  (dropout2): Dropout(p=0.2, inplace=False)\n",
            "  (dense1): Linear(in_features=1600, out_features=128, bias=True)\n",
            "  (dense2): Linear(in_features=128, out_features=10, bias=True)\n",
            ")\n",
            "----------------------------------------------------------------\n",
            "        Layer (type)               Output Shape         Param #\n",
            "================================================================\n",
            "            Conv2d-1           [-1, 32, 26, 26]             320\n",
            "         Dropout2d-2           [-1, 32, 13, 13]               0\n",
            "            Conv2d-3           [-1, 64, 11, 11]          18,496\n",
            "            Linear-4                  [-1, 128]         204,928\n",
            "           Dropout-5                  [-1, 128]               0\n",
            "            Linear-6                   [-1, 10]           1,290\n",
            "================================================================\n",
            "Total params: 225,034\n",
            "Trainable params: 225,034\n",
            "Non-trainable params: 0\n",
            "----------------------------------------------------------------\n",
            "Input size (MB): 0.00\n",
            "Forward/backward pass size (MB): 0.27\n",
            "Params size (MB): 0.86\n",
            "Estimated Total Size (MB): 1.13\n",
            "----------------------------------------------------------------\n"
          ],
          "name": "stdout"
        }
      ]
    },
    {
      "cell_type": "code",
      "metadata": {
        "id": "lV0FSrUL_aQW",
        "colab_type": "code",
        "colab": {
          "base_uri": "https://localhost:8080/",
          "height": 34
        },
        "outputId": "ee01248a-3729-43b3-a9bb-571c50d02844"
      },
      "source": [
        "it = iter(train_loader)\n",
        "test_batch, _ = next(it)\n",
        "print(conv.forward(test_batch).shape)"
      ],
      "execution_count": 98,
      "outputs": [
        {
          "output_type": "stream",
          "text": [
            "torch.Size([32, 10])\n"
          ],
          "name": "stdout"
        }
      ]
    },
    {
      "cell_type": "code",
      "metadata": {
        "id": "1bbvC-kUw3zv",
        "colab_type": "code",
        "colab": {}
      },
      "source": [
        "def train(model, train_loader):\n",
        "\n",
        "  loss_fn = nn.CrossEntropyLoss()\n",
        "  optimizer = torch.optim.Adam(conv.parameters())\n",
        "\n",
        "  for epoch in range(epochs):\n",
        "    epoch_loss = 0.0\n",
        "    i = 0\n",
        "    for _,data in enumerate(train_loader, 0):\n",
        "      i = i + 1\n",
        "      inputs, labels = data\n",
        "\n",
        "      optimizer.zero_grad()\n",
        "\n",
        "      outputs = model(inputs)\n",
        "\n",
        "      loss = loss_fn(outputs,labels)\n",
        "      loss.backward()\n",
        "      optimizer.step()\n",
        "\n",
        "      epoch_loss = epoch_loss + loss\n",
        "\n",
        "\n",
        "    print('epoch: %d loss: %.3f' %\n",
        "    (epoch + 1, epoch_loss / i))\n",
        "\n",
        "    "
      ],
      "execution_count": 109,
      "outputs": []
    },
    {
      "cell_type": "code",
      "metadata": {
        "id": "3yDGaFCWCvzo",
        "colab_type": "code",
        "colab": {
          "base_uri": "https://localhost:8080/",
          "height": 51
        },
        "outputId": "975b11e1-3afe-4297-dc5f-68f7f8bad225"
      },
      "source": [
        "train(conv,train_loader)"
      ],
      "execution_count": 110,
      "outputs": [
        {
          "output_type": "stream",
          "text": [
            "epoch: 1 loss: 0.656\n",
            "epoch: 2 loss: 0.396\n"
          ],
          "name": "stdout"
        }
      ]
    },
    {
      "cell_type": "code",
      "metadata": {
        "id": "ZaQ5veNz6HJP",
        "colab_type": "code",
        "colab": {}
      },
      "source": [
        "def evaluate(model):\n",
        "    correct = 0 \n",
        "    model.eval()\n",
        "    for img, labels in test_loader:\n",
        "        #print(test_imgs.shape)\n",
        "        output = model(img)\n",
        "        predicted = torch.max(output,1)[1]\n",
        "        correct += (predicted == labels).sum()\n",
        "    print(\"Test accuracy:{:.3f}% \".format( float(correct) / (len(test_loader)*batch_size)))"
      ],
      "execution_count": 111,
      "outputs": []
    },
    {
      "cell_type": "code",
      "metadata": {
        "id": "LjJx3TwH8iiZ",
        "colab_type": "code",
        "colab": {
          "base_uri": "https://localhost:8080/",
          "height": 34
        },
        "outputId": "d4e78cc5-d4a0-4a06-9c22-f36a90b2f9e8"
      },
      "source": [
        "evaluate(conv)"
      ],
      "execution_count": 112,
      "outputs": [
        {
          "output_type": "stream",
          "text": [
            "Test accuracy:0.862% \n"
          ],
          "name": "stdout"
        }
      ]
    }
  ]
}