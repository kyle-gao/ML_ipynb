{
  "nbformat": 4,
  "nbformat_minor": 0,
  "metadata": {
    "colab": {
      "name": "TF_GradientTape_MatMulTest.ipynb",
      "provenance": [],
      "collapsed_sections": [],
      "authorship_tag": "ABX9TyPjzc3RKzfGoElGAWYc3YOA",
      "include_colab_link": true
    },
    "kernelspec": {
      "name": "python3",
      "display_name": "Python 3"
    }
  },
  "cells": [
    {
      "cell_type": "markdown",
      "metadata": {
        "id": "view-in-github",
        "colab_type": "text"
      },
      "source": [
        "<a href=\"https://colab.research.google.com/github/kyle-gao/ML_ipynb/blob/master/TF_GradientTape_MatMulTest.ipynb\" target=\"_parent\"><img src=\"https://colab.research.google.com/assets/colab-badge.svg\" alt=\"Open In Colab\"/></a>"
      ]
    },
    {
      "cell_type": "markdown",
      "metadata": {
        "id": "4LkyuSZ0hTcq"
      },
      "source": [
        "I'm implementing a hand-made naive matrix multplication compatible with tf.Gradient.Tape.\n",
        "\n",
        "\n",
        "The intention is to benchmark speed for future custom linalg operations (such as the diagonal attention mechanism from Longformer)."
      ]
    },
    {
      "cell_type": "code",
      "metadata": {
        "id": "2QaZEDj1DVOx"
      },
      "source": [
        "import tensorflow as tf\n",
        "import time\n",
        "import matplotlib.pyplot as plt"
      ],
      "execution_count": 1,
      "outputs": []
    },
    {
      "cell_type": "code",
      "metadata": {
        "id": "rz5-GD7HFyUO"
      },
      "source": [
        "A=tf.Variable(tf.random.normal((2,3)))\n",
        "B=tf.Variable(tf.random.normal((3,2)))"
      ],
      "execution_count": 2,
      "outputs": []
    },
    {
      "cell_type": "markdown",
      "metadata": {
        "id": "TW_ypmZVOQus"
      },
      "source": [
        "We use tf.TensorArray when we have computation in a loop since we can't assign values to eager tensors in normal circumstances.\n",
        "\n",
        "\n",
        "We need to have the functions return TensorArray.stack()\n",
        "\n",
        "#Example: Naive Matrix multiplication"
      ]
    },
    {
      "cell_type": "code",
      "metadata": {
        "id": "26RyVRkIG7JP",
        "outputId": "2128c311-9099-47aa-9cfb-15ef4e3484e3",
        "colab": {
          "base_uri": "https://localhost:8080/",
          "height": 68
        }
      },
      "source": [
        "#We note that tf.TensorArray() creates one dimensional arrays\n",
        "#For computations requiring nested loops, we need to nest TensorArray\n",
        "\n",
        "def get_col(A,B,col):\n",
        "  (m,k)=tf.shape(A)\n",
        "  (k,n)=tf.shape(B)\n",
        "  C_col=tf.TensorArray(A.dtype, size=n)\n",
        "  for i in range(n): #inner loop must be rows since want list of rows\n",
        "    sum=0.0\n",
        "    for l in range(k):\n",
        "      sum=sum+A[col,l]*B[l,i]\n",
        "    C_col=C_col.write(i,sum) #TensorArray.write() to assign values\n",
        "  return C_col.stack() #must return .stack() which returns a tensor, since we can't make a TensorArray of TensorArray, .concat() is also an option but buggier.\n",
        "\n",
        "def matrix_multiply(A,B):\n",
        "  (m,k)=tf.shape(A)\n",
        "  (k,n)=tf.shape(B)\n",
        "  C=tf.TensorArray(A.dtype, size=m,element_shape=(n,))\n",
        "  for col in range(m): #outer loop is columns since we want list of rows.\n",
        "    C=C.write(col,get_col(A,B,col))\n",
        "  return C.stack() \n",
        "\n",
        "#test\n",
        "A=tf.Variable(tf.random.normal((2,3)))\n",
        "B=tf.Variable(tf.random.normal((3,4)))\n",
        "matrix_multiply(A,B)-tf.matmul(A,B)"
      ],
      "execution_count": 34,
      "outputs": [
        {
          "output_type": "execute_result",
          "data": {
            "text/plain": [
              "<tf.Tensor: shape=(2, 4), dtype=float32, numpy=\n",
              "array([[0., 0., 0., 0.],\n",
              "       [0., 0., 0., 0.]], dtype=float32)>"
            ]
          },
          "metadata": {
            "tags": []
          },
          "execution_count": 34
        }
      ]
    },
    {
      "cell_type": "code",
      "metadata": {
        "id": "ChnvGmF2HH6r",
        "outputId": "ffa21c06-ca05-47bb-c1e2-ed3bb459463a",
        "colab": {
          "base_uri": "https://localhost:8080/",
          "height": 136
        }
      },
      "source": [
        "with tf.GradientTape() as tape:\n",
        "    M=matrix_multiply(A,B) #make sure the arguments are tf.Variable\n",
        "    norm=tf.norm(M)\n",
        "print(tape.gradient(norm,(A,B)))"
      ],
      "execution_count": 4,
      "outputs": [
        {
          "output_type": "stream",
          "text": [
            "(<tf.Tensor: shape=(2, 3), dtype=float32, numpy=\n",
            "array([[-0.06420016, -3.1879365 , -0.52598125],\n",
            "       [ 0.23336388,  0.63821113,  0.12002391]], dtype=float32)>, <tf.Tensor: shape=(3, 4), dtype=float32, numpy=\n",
            "array([[-0.25122416,  0.57766974,  0.30479246,  0.10148753],\n",
            "       [-0.39062908,  1.1474692 ,  0.25855574,  0.03113993],\n",
            "       [ 0.1977827 , -0.74560505,  0.01133072,  0.06788995]],\n",
            "      dtype=float32)>)\n"
          ],
          "name": "stdout"
        }
      ]
    },
    {
      "cell_type": "markdown",
      "metadata": {
        "id": "_OlJtaPrNnzS"
      },
      "source": [
        "#Test\n",
        "how slow is a naive implementation?"
      ]
    },
    {
      "cell_type": "code",
      "metadata": {
        "id": "mv1mlnvcRGP2"
      },
      "source": [
        "def time_matmul(n, mul):\n",
        "  A = tf.Variable(tf.random.normal((n,n)))\n",
        "  B = tf.Variable(tf.random.normal((n,n)))\n",
        "  start = time.time()\n",
        "  out = mul(A,B)\n",
        "  end = time.time()\n",
        "  return end-start"
      ],
      "execution_count": 14,
      "outputs": []
    },
    {
      "cell_type": "code",
      "metadata": {
        "id": "KjkcYcm0TMea"
      },
      "source": [
        "sizes = range(5,25,5)"
      ],
      "execution_count": 17,
      "outputs": []
    },
    {
      "cell_type": "code",
      "metadata": {
        "id": "FQ08tgx6Tb4p"
      },
      "source": [
        "naive_times=[]\n",
        "tf_times=[]\n",
        "for size in sizes:\n",
        "  naive_times.append(time_matmul(size,matrix_multiply))\n",
        "  tf_times.append(time_matmul(size,tf.matmul))"
      ],
      "execution_count": 18,
      "outputs": []
    },
    {
      "cell_type": "code",
      "metadata": {
        "id": "Gf9ByGqOefYO",
        "outputId": "76daefa0-dca9-4028-d42e-8a0e4fc06049",
        "colab": {
          "base_uri": "https://localhost:8080/",
          "height": 34
        }
      },
      "source": [
        "time_matmul(30, matrix_multiply)"
      ],
      "execution_count": 16,
      "outputs": [
        {
          "output_type": "execute_result",
          "data": {
            "text/plain": [
              "6.502772092819214"
            ]
          },
          "metadata": {
            "tags": []
          },
          "execution_count": 16
        }
      ]
    },
    {
      "cell_type": "code",
      "metadata": {
        "id": "YpGA-e4kef9b",
        "outputId": "137a6f55-81bf-4448-dad3-6094594bc56c",
        "colab": {
          "base_uri": "https://localhost:8080/",
          "height": 312
        }
      },
      "source": [
        "plt1=plt.plot(sizes,naive_times,label='naive')\n",
        "plt2=plt.plot(sizes,tf_times,label='tensorflow')\n",
        "plt.legend(loc=\"upper left\")\n",
        "plt.xlabel(\"Matrix Size\");\n",
        "plt.ylabel(\"Time (S)\");\n",
        "plt.title(\"Matrix Multiplication benchmark on CPU\");"
      ],
      "execution_count": 33,
      "outputs": [
        {
          "output_type": "execute_result",
          "data": {
            "text/plain": [
              "Text(0.5, 1.0, 'Matrix Multiplication benchmark on CPU')"
            ]
          },
          "metadata": {
            "tags": []
          },
          "execution_count": 33
        },
        {
          "output_type": "display_data",
          "data": {
            "image/png": "[encoded data removed]",
            "text/plain": [
              "<Figure size 432x288 with 1 Axes>"
            ]
          },
          "metadata": {
            "tags": [],
            "needs_background": "light"
          }
        }
      ]
    },
    {
      "cell_type": "markdown",
      "metadata": {
        "id": "Av50Ymdgg11h"
      },
      "source": [
        "It looks like custom linalg functions should be implemented in c++ CUDA as ops https://www.tensorflow.org/guide/create_op.\n",
        "Unfortunately, back prop gradients must be handcoded.\n",
        "\n",
        "Even on the CPU the naive implementation horribly underperforms, let alone the GPU where tf.matmul is optimized for."
      ]
    }
  ]
}