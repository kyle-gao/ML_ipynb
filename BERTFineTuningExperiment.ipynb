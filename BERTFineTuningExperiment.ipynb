{
  "nbformat": 4,
  "nbformat_minor": 0,
  "metadata": {
    "colab": {
      "name": "Untitled12.ipynb",
      "provenance": [],
      "authorship_tag": "ABX9TyM5JHlh0rvi4kc0OvAuBZUY",
      "include_colab_link": true
    },
    "kernelspec": {
      "name": "python3",
      "display_name": "Python 3"
    },
    "accelerator": "GPU"
  },
  "cells": [
    {
      "cell_type": "markdown",
      "metadata": {
        "id": "view-in-github",
        "colab_type": "text"
      },
      "source": [
        "<a href=\"https://colab.research.google.com/github/kyle-gao/ML_ipynb/blob/master/BERTFineTuningExperiment.ipynb\" target=\"_parent\"><img src=\"https://colab.research.google.com/assets/colab-badge.svg\" alt=\"Open In Colab\"/></a>"
      ]
    },
    {
      "cell_type": "code",
      "metadata": {
        "id": "-olzS7PJnAnq",
        "colab_type": "code",
        "colab": {}
      },
      "source": [
        "##### Copyright Yi Lin(Kyle) Gao."
      ],
      "execution_count": null,
      "outputs": []
    },
    {
      "cell_type": "markdown",
      "metadata": {
        "colab_type": "text",
        "id": "vXLA5InzXydn"
      },
      "source": [
        "##### Copyright 2019 The TensorFlow Authors."
      ]
    },
    {
      "cell_type": "code",
      "metadata": {
        "cellView": "form",
        "colab_type": "code",
        "id": "RuRlpLL-X0R_",
        "colab": {}
      },
      "source": [
        "#@title Licensed under the Apache License, Version 2.0 (the \"License\");\n",
        "# you may not use this file except in compliance with the License.\n",
        "# You may obtain a copy of the License at\n",
        "#\n",
        "# https://www.apache.org/licenses/LICENSE-2.0\n",
        "#\n",
        "# Unless required by applicable law or agreed to in writing, software\n",
        "# distributed under the License is distributed on an \"AS IS\" BASIS,\n",
        "# WITHOUT WARRANTIES OR CONDITIONS OF ANY KIND, either express or implied.\n",
        "# See the License for the specific language governing permissions and\n",
        "# limitations under the License."
      ],
      "execution_count": null,
      "outputs": []
    },
    {
      "cell_type": "code",
      "metadata": {
        "id": "S8wg-S_g38Dn",
        "colab_type": "code",
        "colab": {
          "base_uri": "https://localhost:8080/",
          "height": 217
        },
        "outputId": "43660168-b274-41f1-f3ee-90f21e40d2b8"
      },
      "source": [
        "!pip install -q tf-models-official==2.3.0                                                     l"
      ],
      "execution_count": 1,
      "outputs": [
        {
          "output_type": "stream",
          "text": [
            "\u001b[K     |████████████████████████████████| 849kB 9.5MB/s \n",
            "\u001b[K     |████████████████████████████████| 358kB 29.0MB/s \n",
            "\u001b[K     |████████████████████████████████| 1.1MB 31.1MB/s \n",
            "\u001b[K     |████████████████████████████████| 174kB 40.4MB/s \n",
            "\u001b[K     |████████████████████████████████| 102kB 12.4MB/s \n",
            "\u001b[K     |████████████████████████████████| 36.6MB 83kB/s \n",
            "\u001b[K     |████████████████████████████████| 235kB 60.1MB/s \n",
            "\u001b[?25h  Building wheel for l (setup.py) ... \u001b[?25l\u001b[?25hdone\n",
            "  Building wheel for py-cpuinfo (setup.py) ... \u001b[?25l\u001b[?25hdone\n",
            "  Building wheel for betterpath (setup.py) ... \u001b[?25l\u001b[?25hdone\n",
            "  Building wheel for vcversioner (setup.py) ... \u001b[?25l\u001b[?25hdone\n"
          ],
          "name": "stdout"
        }
      ]
    },
    {
      "cell_type": "code",
      "metadata": {
        "id": "uvT7P7copxnv",
        "colab_type": "code",
        "colab": {}
      },
      "source": [
        "import os\n",
        "\n",
        "import numpy as np\n",
        "import matplotlib.pyplot as plt\n",
        "\n",
        "import tensorflow as tf\n",
        "\n",
        "import tensorflow_hub as hub\n",
        "import tensorflow_datasets as tfds\n",
        "tfds.disable_progress_bar()\n",
        "\n",
        "from official.modeling import tf_utils\n",
        "from official import nlp\n",
        "from official.nlp import bert\n",
        "\n",
        "# Load the required submodules\n",
        "import official.nlp.optimization\n",
        "import official.nlp.bert.bert_models\n",
        "import official.nlp.bert.configs\n",
        "import official.nlp.bert.run_classifier\n",
        "import official.nlp.bert.tokenization\n",
        "import official.nlp.data.classifier_data_lib\n",
        "import official.nlp.modeling.losses\n",
        "import official.nlp.modeling.models\n",
        "import official.nlp.modeling.networks"
      ],
      "execution_count": 2,
      "outputs": []
    },
    {
      "cell_type": "code",
      "metadata": {
        "id": "iDe1KzV132UN",
        "colab_type": "code",
        "colab": {}
      },
      "source": [
        "gs_folder_bert = \"gs://cloud-tpu-checkpoints/bert/keras_bert/uncased_L-12_H-768_A-12\"\n",
        "tf.io.gfile.listdir(gs_folder_bert)\n",
        "hub_url_bert = \"https://tfhub.dev/tensorflow/bert_en_uncased_L-12_H-768_A-12/2\""
      ],
      "execution_count": 3,
      "outputs": []
    },
    {
      "cell_type": "code",
      "metadata": {
        "id": "kGjpdEPk40mJ",
        "colab_type": "code",
        "colab": {
          "base_uri": "https://localhost:8080/",
          "height": 237
        },
        "outputId": "7f90da8e-4e43-4e66-988d-007263a2924a"
      },
      "source": [
        "\"\"\"\n",
        "Number of labels: 2.\n",
        "Size of training dataset: 3668.\n",
        "Size of evaluation dataset: 408.\n",
        "Maximum sequence length of training and evaluation dataset: 128.\n",
        "glue Microsoft research paraphrase corpus.\"\"\"\n",
        "\n",
        "glue, info = tfds.load('glue/mrpc', with_info=True,\n",
        "                       # It's small, load the whole dataset\n",
        "                       batch_size=-1)"
      ],
      "execution_count": 4,
      "outputs": [
        {
          "output_type": "stream",
          "text": [
            "\u001b[1mDownloading and preparing dataset glue/mrpc/1.0.0 (download: 1.43 MiB, generated: Unknown size, total: 1.43 MiB) to /root/tensorflow_datasets/glue/mrpc/1.0.0...\u001b[0m\n"
          ],
          "name": "stdout"
        },
        {
          "output_type": "stream",
          "text": [
            "/usr/local/lib/python3.6/dist-packages/urllib3/connectionpool.py:847: InsecureRequestWarning: Unverified HTTPS request is being made. Adding certificate verification is strongly advised. See: https://urllib3.readthedocs.io/en/latest/advanced-usage.html#ssl-warnings\n",
            "  InsecureRequestWarning)\n",
            "/usr/local/lib/python3.6/dist-packages/urllib3/connectionpool.py:847: InsecureRequestWarning: Unverified HTTPS request is being made. Adding certificate verification is strongly advised. See: https://urllib3.readthedocs.io/en/latest/advanced-usage.html#ssl-warnings\n",
            "  InsecureRequestWarning)\n",
            "/usr/local/lib/python3.6/dist-packages/urllib3/connectionpool.py:847: InsecureRequestWarning: Unverified HTTPS request is being made. Adding certificate verification is strongly advised. See: https://urllib3.readthedocs.io/en/latest/advanced-usage.html#ssl-warnings\n",
            "  InsecureRequestWarning)\n"
          ],
          "name": "stderr"
        },
        {
          "output_type": "stream",
          "text": [
            "Shuffling and writing examples to /root/tensorflow_datasets/glue/mrpc/1.0.0.incomplete858SP8/glue-train.tfrecord\n",
            "Shuffling and writing examples to /root/tensorflow_datasets/glue/mrpc/1.0.0.incomplete858SP8/glue-validation.tfrecord\n",
            "Shuffling and writing examples to /root/tensorflow_datasets/glue/mrpc/1.0.0.incomplete858SP8/glue-test.tfrecord\n",
            "\u001b[1mDataset glue downloaded and prepared to /root/tensorflow_datasets/glue/mrpc/1.0.0. Subsequent calls will reuse this data.\u001b[0m\n"
          ],
          "name": "stdout"
        }
      ]
    },
    {
      "cell_type": "code",
      "metadata": {
        "id": "Lyu7RoHC49n5",
        "colab_type": "code",
        "colab": {
          "base_uri": "https://localhost:8080/",
          "height": 126
        },
        "outputId": "0585d8e2-39c3-476d-c97e-2c77f2c23cff"
      },
      "source": [
        "info.features\n",
        "#each element in glue is a dict of with keys idx,label,sentence1,sentence2\n",
        "#need to preprocess"
      ],
      "execution_count": 5,
      "outputs": [
        {
          "output_type": "execute_result",
          "data": {
            "text/plain": [
              "FeaturesDict({\n",
              "    'idx': tf.int32,\n",
              "    'label': ClassLabel(shape=(), dtype=tf.int64, num_classes=2),\n",
              "    'sentence1': Text(shape=(), dtype=tf.string),\n",
              "    'sentence2': Text(shape=(), dtype=tf.string),\n",
              "})"
            ]
          },
          "metadata": {
            "tags": []
          },
          "execution_count": 5
        }
      ]
    },
    {
      "cell_type": "code",
      "metadata": {
        "id": "8qWtJ2t_6ELq",
        "colab_type": "code",
        "colab": {
          "base_uri": "https://localhost:8080/",
          "height": 35
        },
        "outputId": "d35fa457-8cd5-4708-a731-1643a6c580eb"
      },
      "source": [
        "tokenizer = bert.tokenization.FullTokenizer(\n",
        "    vocab_file=os.path.join(gs_folder_bert, \"vocab.txt\"),\n",
        "     do_lower_case=True)\n",
        "\n",
        "print(\"Vocab size:\", len(tokenizer.vocab))"
      ],
      "execution_count": 6,
      "outputs": [
        {
          "output_type": "stream",
          "text": [
            "Vocab size: 30522\n"
          ],
          "name": "stdout"
        }
      ]
    },
    {
      "cell_type": "code",
      "metadata": {
        "id": "RYmurC2h6WU1",
        "colab_type": "code",
        "colab": {}
      },
      "source": [
        "def encode_sentence(s):\n",
        "  tokens = list(tokenizer.tokenize(s.numpy())) #list of string tokens (words and word fragments)\n",
        "  tokens.append('[SEP]')\n",
        "  return tokenizer.convert_tokens_to_ids(tokens)\n",
        "\n",
        "glue_train = glue['train']\n",
        "\n",
        "sentence1 = tf.ragged.constant([\n",
        "    encode_sentence(s) for s in glue_train[\"sentence1\"]]) #ragged tensors are tensors of variable \"lengths\"\n",
        "sentence2 = tf.ragged.constant([\n",
        "    encode_sentence(s) for s in glue_train[\"sentence2\"]])"
      ],
      "execution_count": 12,
      "outputs": []
    },
    {
      "cell_type": "code",
      "metadata": {
        "id": "x5QfyZWZ_ZY1",
        "colab_type": "code",
        "colab": {}
      },
      "source": [
        "def encode_sentence(s, tokenizer):\n",
        "   tokens = list(tokenizer.tokenize(s))\n",
        "   tokens.append('[SEP]')\n",
        "   return tokenizer.convert_tokens_to_ids(tokens)\n",
        "   \n",
        "def bert_encode(glue_dict, tokenizer):\n",
        "    #Returns a dict\n",
        "    # 'input_word_ids': tokenized ids of CLS + sentence1 + SEP + sentence2\n",
        "    # 'input_mask': input_mask, #padding mask up to len 103, 0s where padded\n",
        "    # 'input_type_ids': input_type_ids} #mask of len 103, 0s for sentence1 or padding, 1 for sentence2\n",
        "\n",
        "    num_examples = len(glue_dict['sentence1'])\n",
        "\n",
        "    sentence1 = tf.ragged.constant([\n",
        "      encode_sentence(s, tokenizer)\n",
        "      for s in np.array(glue_dict[\"sentence1\"])])\n",
        "    sentence2 = tf.ragged.constant([\n",
        "      encode_sentence(s, tokenizer)\n",
        "       for s in np.array(glue_dict[\"sentence2\"])])\n",
        "    \n",
        "    cls = [tokenizer.convert_tokens_to_ids(['[CLS]'])]*sentence1.shape[0]\n",
        "    input_word_ids = tf.concat([cls, sentence1, sentence2], axis=-1)\n",
        "    #cls tells BERT its a classification task\n",
        "    #sentence1, 'CLS', sentence2\n",
        "\n",
        "    #padding pask #0s where padded, 1 where not padded, pads up sequence length of 103\n",
        "    input_mask = tf.ones_like(input_word_ids).to_tensor()\n",
        "\n",
        "    #labels 0s for input sentence1, 1 for input sentence 2\n",
        "    type_cls = tf.zeros_like(cls)\n",
        "    type_s1 = tf.zeros_like(sentence1)\n",
        "    type_s2 = tf.ones_like(sentence2)\n",
        "    input_type_ids = tf.concat([type_cls, type_s1, type_s2], axis=-1).to_tensor()\n",
        "\n",
        "    inputs = {\n",
        "      'input_word_ids': input_word_ids.to_tensor(),\n",
        "      'input_mask': input_mask,\n",
        "      'input_type_ids': input_type_ids} \n",
        "\n",
        "    return inputs\n"
      ],
      "execution_count": 13,
      "outputs": []
    },
    {
      "cell_type": "code",
      "metadata": {
        "id": "oPMVBjuBCkFN",
        "colab_type": "code",
        "colab": {}
      },
      "source": [
        "glue_train = bert_encode(glue['train'], tokenizer)\n",
        "glue_train_labels = glue['train']['label']\n",
        "\n",
        "glue_validation = bert_encode(glue['validation'], tokenizer)\n",
        "glue_validation_labels = glue['validation']['label']\n",
        "\n",
        "glue_test = bert_encode(glue['test'], tokenizer)\n",
        "glue_test_labels  = glue['test']['label']"
      ],
      "execution_count": 324,
      "outputs": []
    },
    {
      "cell_type": "code",
      "metadata": {
        "id": "Em84B0JCC9S5",
        "colab_type": "code",
        "colab": {
          "base_uri": "https://localhost:8080/",
          "height": 217
        },
        "outputId": "3115d9ed-7ee0-4178-c50e-a9d7eefc658f"
      },
      "source": [
        "import json\n",
        "\n",
        "bert_config_file = os.path.join(gs_folder_bert, \"bert_config.json\")\n",
        "config_dict = json.loads(tf.io.gfile.GFile(bert_config_file).read())\n",
        "\n",
        "bert_config = bert.configs.BertConfig.from_dict(config_dict)\n",
        "\n",
        "config_dict"
      ],
      "execution_count": 298,
      "outputs": [
        {
          "output_type": "execute_result",
          "data": {
            "text/plain": [
              "{'attention_probs_dropout_prob': 0.1,\n",
              " 'hidden_act': 'gelu',\n",
              " 'hidden_dropout_prob': 0.1,\n",
              " 'hidden_size': 768,\n",
              " 'initializer_range': 0.02,\n",
              " 'intermediate_size': 3072,\n",
              " 'max_position_embeddings': 512,\n",
              " 'num_attention_heads': 12,\n",
              " 'num_hidden_layers': 12,\n",
              " 'type_vocab_size': 2,\n",
              " 'vocab_size': 30522}"
            ]
          },
          "metadata": {
            "tags": []
          },
          "execution_count": 298
        }
      ]
    },
    {
      "cell_type": "code",
      "metadata": {
        "id": "o9psWR-WDS8Q",
        "colab_type": "code",
        "colab": {}
      },
      "source": [
        "bert_classifier, bert_encoder = bert.bert_models.classifier_model(\n",
        "    bert_config, num_labels=2)"
      ],
      "execution_count": 16,
      "outputs": []
    },
    {
      "cell_type": "code",
      "metadata": {
        "id": "YaXVOm7YDVW7",
        "colab_type": "code",
        "colab": {
          "base_uri": "https://localhost:8080/",
          "height": 220
        },
        "outputId": "fc5d15de-ba31-4123-d96f-9444bd6736ff"
      },
      "source": [
        "tf.keras.utils.plot_model(bert_classifier, show_shapes=True, dpi=48) #takes in the encoded sentence and the 2 masks as a dict"
      ],
      "execution_count": 17,
      "outputs": [
        {
          "output_type": "execute_result",
          "data": {
            "image/png": "[encoded data removed]",
            "text/plain": [
              "<IPython.core.display.Image object>"
            ]
          },
          "metadata": {
            "tags": []
          },
          "execution_count": 17
        }
      ]
    },
    {
      "cell_type": "code",
      "metadata": {
        "id": "zCe95Da8DX-i",
        "colab_type": "code",
        "colab": {
          "base_uri": "https://localhost:8080/",
          "height": 199
        },
        "outputId": "71faf085-57cf-43f6-ce2e-b6975afb0008"
      },
      "source": [
        "glue_batch = {key: val[:10] for key, val in glue_train.items()}\n",
        "bert_classifier(\n",
        "    glue_batch, training=True\n",
        ").numpy()"
      ],
      "execution_count": 18,
      "outputs": [
        {
          "output_type": "execute_result",
          "data": {
            "text/plain": [
              "array([[-0.01276865,  0.00675366],\n",
              "       [-0.09909599,  0.07504182],\n",
              "       [-0.05628411, -0.0542238 ],\n",
              "       [ 0.05289662,  0.04070969],\n",
              "       [-0.23486392,  0.07673847],\n",
              "       [-0.00078663,  0.00539429],\n",
              "       [ 0.03175328,  0.11529471],\n",
              "       [-0.01853238,  0.11385218],\n",
              "       [-0.18106887,  0.05376534],\n",
              "       [-0.18105456,  0.06458932]], dtype=float32)"
            ]
          },
          "metadata": {
            "tags": []
          },
          "execution_count": 18
        }
      ]
    },
    {
      "cell_type": "markdown",
      "metadata": {
        "id": "PXqVudg6D3AV",
        "colab_type": "text"
      },
      "source": [
        "The bert classifier takes batched dictionary input (Expected the following keys: ['input_word_ids', 'input_mask', 'input_type_ids'])\n",
        "\n",
        "Returns a batch of logits for classes."
      ]
    },
    {
      "cell_type": "code",
      "metadata": {
        "id": "9Y8I-jY3Dpw0",
        "colab_type": "code",
        "colab": {
          "base_uri": "https://localhost:8080/",
          "height": 35
        },
        "outputId": "1955cd2a-6969-4b5f-e508-d9e777d8ef41"
      },
      "source": [
        "checkpoint = tf.train.Checkpoint(model=bert_encoder)\n",
        "checkpoint.restore(\n",
        "    os.path.join(gs_folder_bert, 'bert_model.ckpt')).assert_consumed()"
      ],
      "execution_count": 321,
      "outputs": [
        {
          "output_type": "execute_result",
          "data": {
            "text/plain": [
              "<tensorflow.python.training.tracking.util.CheckpointLoadStatus at 0x7fd8cc2feeb8>"
            ]
          },
          "metadata": {
            "tags": []
          },
          "execution_count": 321
        }
      ]
    },
    {
      "cell_type": "code",
      "metadata": {
        "id": "9hG3kOhhDuEd",
        "colab_type": "code",
        "colab": {}
      },
      "source": [
        "# Set up epochs and steps\n",
        "\n",
        "epochs = 3\n",
        "batch_size = 32\n",
        "eval_batch_size = 32\n",
        "\n",
        "train_data_size = len(glue_train_labels)\n",
        "steps_per_epoch = int(train_data_size / batch_size)\n",
        "num_train_steps = steps_per_epoch * epochs\n",
        "warmup_steps = int(epochs * train_data_size * 0.1 / batch_size)\n",
        "\n",
        "\"\"\"This is the AdamW optimizer with warmup and decay, can import for other models\"\"\"\n",
        "# creates an optimizer with learning rate schedule\n",
        "optimizer = nlp.optimization.create_optimizer(\n",
        "    2e-5, num_train_steps=num_train_steps, num_warmup_steps=warmup_steps)"
      ],
      "execution_count": 322,
      "outputs": []
    },
    {
      "cell_type": "code",
      "metadata": {
        "id": "KuxVUD_XG34V",
        "colab_type": "code",
        "colab": {
          "base_uri": "https://localhost:8080/",
          "height": 145
        },
        "outputId": "1c184bcd-3fe4-4dda-e9f6-307da1fdf83b"
      },
      "source": [
        "metrics = [tf.keras.metrics.SparseCategoricalAccuracy('accuracy', dtype=tf.float32)]\n",
        "loss = tf.keras.losses.SparseCategoricalCrossentropy(from_logits=True)\n",
        "\n",
        "bert_classifier.compile(\n",
        "    optimizer=optimizer,\n",
        "    loss=loss,\n",
        "    metrics=metrics)\n",
        "\n",
        "bert_classifier.fit(\n",
        "      glue_train, glue_train_labels,\n",
        "      validation_data=(glue_validation, glue_validation_labels),\n",
        "      batch_size=32,\n",
        "      epochs=epochs)"
      ],
      "execution_count": 325,
      "outputs": [
        {
          "output_type": "stream",
          "text": [
            "Epoch 1/3\n",
            "115/115 [==============================] - 75s 652ms/step - loss: 0.6230 - accuracy: 0.6145 - val_loss: 0.5044 - val_accuracy: 0.7598\n",
            "Epoch 2/3\n",
            "115/115 [==============================] - 77s 667ms/step - loss: 0.4405 - accuracy: 0.7917 - val_loss: 0.4394 - val_accuracy: 0.8137\n",
            "Epoch 3/3\n",
            "115/115 [==============================] - 79s 684ms/step - loss: 0.3146 - accuracy: 0.8670 - val_loss: 0.4439 - val_accuracy: 0.8260\n"
          ],
          "name": "stdout"
        },
        {
          "output_type": "execute_result",
          "data": {
            "text/plain": [
              "<tensorflow.python.keras.callbacks.History at 0x7fd8ca5f0c18>"
            ]
          },
          "metadata": {
            "tags": []
          },
          "execution_count": 325
        }
      ]
    },
    {
      "cell_type": "code",
      "metadata": {
        "id": "HuK86Q2JG91J",
        "colab_type": "code",
        "colab": {
          "base_uri": "https://localhost:8080/",
          "height": 381
        },
        "outputId": "2fa2a0ba-4095-40d8-9709-c7aba4127175"
      },
      "source": [
        "input_dict = {\"sentence1\":[\"Sing, goddess, of the anger of Achilleus, son of Peleus, the accursed anger which brought uncounted anguish on the Achaians\",\"I learned today that smoophesx has three sides.\",\"I know that smoophesx has 3 + 1 sides.\",\"6 apples + 6 apples\",\"6 apples + 6 apples\"],\n",
        "        \"sentence2\":[\"Rage—Goddess, sing the rage of Peleus' son Achilles,murderous, doomed, that cost the Achaeans countless losses\",\"I learned today that smoophesx has four sides.\",\"I know that smoophesx has 4 sides.\", \"16 apples\",\"12 apples\"]}\n",
        "#Martin's and Robert's translation of the Illiad's opening lines\n",
        "#Martin's and Robert's translation of the Illiad's opening lines\n",
        "#And a pair of sentence I wrote to confuse the mode\n",
        "my_input = bert_encode(input_dict,tokenizer)\n",
        "results = bert_classifier.predict(my_input)\n",
        "probs = tf.nn.sigmoid(results)\n",
        "for i in range(len(probs)):\n",
        "  print(input_dict['sentence1'][i])\n",
        "  print(input_dict['sentence2'][i])\n",
        "  print( \"matches {}%\".format(tf.math.round(100*probs[i,0])))\n",
        "  print()"
      ],
      "execution_count": 327,
      "outputs": [
        {
          "output_type": "stream",
          "text": [
            "Sing, goddess, of the anger of Achilleus, son of Peleus, the accursed anger which brought uncounted anguish on the Achaians\n",
            "Rage—Goddess, sing the rage of Peleus' son Achilles,murderous, doomed, that cost the Achaeans countless losses\n",
            "matches 62.0%\n",
            "\n",
            "I learned today that smoophesx has three sides.\n",
            "I learned today that smoophesx has four sides.\n",
            "matches 13.0%\n",
            "\n",
            "I know that smoophesx has 3 + 1 sides.\n",
            "I know that smoophesx has 4 sides.\n",
            "matches 16.0%\n",
            "\n",
            "6 apples + 6 apples\n",
            "16 apples\n",
            "matches 47.0%\n",
            "\n",
            "6 apples + 6 apples\n",
            "12 apples\n",
            "matches 43.0%\n",
            "\n"
          ],
          "name": "stdout"
        }
      ]
    },
    {
      "cell_type": "markdown",
      "metadata": {
        "id": "PnH4teD7Sr7X",
        "colab_type": "text"
      },
      "source": [
        "It is seems that the bert_classifier does understand the meaning of a sentence on some level.\n",
        "\n",
        "Sentence pair 1 differs quite a bit in structure but has similar meaning.\n",
        "\n",
        "Sentence pair 2 is very similar structurally, it contains an invented word; yet the model can reason that three sides != four sides.\n",
        "\n",
        "Sentence pair 3 shows that the model does not understand addition, (at least inside a sentence). This would be interesting to replicate on a SciBERT model. "
      ]
    },
    {
      "cell_type": "code",
      "metadata": {
        "id": "NuLb8FLj4xvU",
        "colab_type": "code",
        "colab": {}
      },
      "source": [
        "variables = [\"apple\", \"pie\",\"elephant\",\"x\",\"crumpledututt\",\"smorples\",\"dunderbuss\"]"
      ],
      "execution_count": 48,
      "outputs": []
    },
    {
      "cell_type": "code",
      "metadata": {
        "id": "jPhPfUur60CP",
        "colab_type": "code",
        "colab": {}
      },
      "source": [
        "length = 3668 #test_set which we will use to train bert_classifer for some addition.\n",
        "randidx = np.random.permutation(range(length))"
      ],
      "execution_count": 86,
      "outputs": []
    },
    {
      "cell_type": "code",
      "metadata": {
        "id": "7y3KveaM9FsC",
        "colab_type": "code",
        "colab": {}
      },
      "source": [
        "glue_train = glue['train']\n",
        "sentence1 = glue_train['sentence1'].numpy()\n",
        "sentence2 = glue_train['sentence2'].numpy()\n",
        "labels = glue_train_labels.numpy()"
      ],
      "execution_count": 328,
      "outputs": []
    },
    {
      "cell_type": "code",
      "metadata": {
        "id": "4cuQIEqnFUZt",
        "colab_type": "code",
        "colab": {}
      },
      "source": [
        "summand = np.random.randint((20), size = (length,2))\n",
        "sum = np.sum(summand, axis = -1)\n",
        "\n",
        "new_sentence1 = []\n",
        "new_sentence2 = []\n",
        "var_num = len(variables)\n",
        "#We insert the addition in place of periods or colons\n",
        "#We have 0.1 chance that a variable shifts\n",
        "#and about 0.3 chance that the sum ammount changes\n",
        "#the label changes to 0 the sum changes by a non zero amount or at least one of the 3 variables differs from the others.\n",
        "\n",
        "for i in range(length):\n",
        "  shift1 = np.random.choice([0, 1], p=[0.9,0.1])\n",
        "  shift2 = np.random.choice([0, 1], p=[0.9,0.1])\n",
        "  shift3 = np.random.choice([0, 1], p=[0.9,0.1])\n",
        "  var_string1 = variables[(shift1+i)%(var_num)]\n",
        "  var_string2 = variables[(shift2+i)%(var_num)]\n",
        "  var_string3 = variables[(shift3+i)%(var_num)]\n",
        "  sum_shift = np.random.choice([0, 1], p=[0.7,0.3])*np.random.randint(0,50)\n",
        "\n",
        "\n",
        "  math_string = f\", {summand[i,0]} {var_string1} + {summand[i,1]} {var_string2},\"\n",
        "  math_string_2= f\", {summand[i,0]} {var_string1} + {summand[i,1]} {var_string2}. \"\n",
        "  new_sentence1.append(sentence1[i].decode().replace(\" ,\",math_string).replace(\" .\",math_string_2))\n",
        "\n",
        "\n",
        "  math_string = f\", {sum[i]+sum_shift} {var_string3},\"\n",
        "  math_string_2= f\", {sum[i]+sum_shift} {var_string3}. \"\n",
        "  new_sentence2.append(sentence2[i].decode().replace(\" ,\",math_string).replace(\" .\",math_string_2))\n",
        "\n",
        "  #label=0 means matching sentence\n",
        "  if not (shift1 == shift2 == shift3):\n",
        "    labels[i]=1\n",
        "  if not sum_shift == 0:\n",
        "    labels[i]=1\n",
        "  "
      ],
      "execution_count": 317,
      "outputs": []
    },
    {
      "cell_type": "code",
      "metadata": {
        "id": "cnhzooo7QAvF",
        "colab_type": "code",
        "colab": {
          "base_uri": "https://localhost:8080/",
          "height": 90
        },
        "outputId": "1e15e276-4319-4b66-975e-0391a13a15df"
      },
      "source": [
        "idx=1\n",
        "print(new_sentence1[idx])\n",
        "print(new_sentence2[idx])\n",
        "print(labels[idx])\n",
        "print(f\"original label {glue_train_labels[idx]}\")"
      ],
      "execution_count": 318,
      "outputs": [
        {
          "output_type": "stream",
          "text": [
            "Less than 20 percent of Boise 's sales would come from making lumber and paper after the OfficeMax purchase is completed, 18 pie + 2 elephant. \n",
            "Less than 20 percent of Boise 's sales would come from making lumber and paper after the OfficeMax purchase is complete, 20 pie, assuming those businesses aren 't sold, 20 pie. \n",
            "1\n",
            "original label 0\n"
          ],
          "name": "stdout"
        }
      ]
    },
    {
      "cell_type": "code",
      "metadata": {
        "id": "Cogwn5YohL06",
        "colab_type": "code",
        "colab": {
          "base_uri": "https://localhost:8080/",
          "height": 90
        },
        "outputId": "9d01f65a-90d5-44bd-8e5b-7221267d3e2f"
      },
      "source": [
        "idx=33\n",
        "print(new_sentence1[idx])\n",
        "print(new_sentence2[idx])\n",
        "print(labels[idx])\n",
        "print(f\"original label {glue_train_labels[idx]}\")"
      ],
      "execution_count": 319,
      "outputs": [
        {
          "output_type": "stream",
          "text": [
            "A passer-by found Ben hiding along a dirt road in Spanish Fork Canyon about 7 p.m., 15 smorples + 19 smorples, with his hands still taped together but his feet free, 15 smorples + 19 smorples. \n",
            "A passer-by found the boy hiding along a dirt road in Spanish Fork Canyon about 7 p.m. Thursday, 81 smorples, with his feet free but his hands still taped, 81 smorples. \n",
            "1\n",
            "original label 1\n"
          ],
          "name": "stdout"
        }
      ]
    },
    {
      "cell_type": "code",
      "metadata": {
        "id": "28FnrS4KWabz",
        "colab_type": "code",
        "colab": {}
      },
      "source": [
        "glue_dict = {\"sentence1\": new_sentence1,\"sentence2\": new_sentence2}\n",
        "new_train = bert_encode(glue_dict,tokenizer)"
      ],
      "execution_count": 329,
      "outputs": []
    },
    {
      "cell_type": "code",
      "metadata": {
        "id": "mtwL7BuPWllb",
        "colab_type": "code",
        "colab": {
          "base_uri": "https://localhost:8080/",
          "height": 145
        },
        "outputId": "ccee5764-d06f-480f-d473-4e5dd22a14e4"
      },
      "source": [
        "optimizer = nlp.optimization.create_optimizer(\n",
        "    2e-5, num_train_steps=num_train_steps, num_warmup_steps=warmup_steps)\n",
        "bert_classifier.compile(\n",
        "    optimizer=optimizer,\n",
        "    loss=loss,\n",
        "    metrics=metrics)\n",
        "bert_classifier.fit(\n",
        "      new_train, labels,\n",
        "      validation_data=(glue_validation, glue_validation_labels),\n",
        "      batch_size=32,\n",
        "      epochs=epochs)"
      ],
      "execution_count": 330,
      "outputs": [
        {
          "output_type": "stream",
          "text": [
            "Epoch 1/3\n",
            "115/115 [==============================] - 163s 1s/step - loss: 0.3374 - accuracy: 0.8486 - val_loss: 0.3848 - val_accuracy: 0.8309\n",
            "Epoch 2/3\n",
            "115/115 [==============================] - 164s 1s/step - loss: 0.2113 - accuracy: 0.9177 - val_loss: 0.4326 - val_accuracy: 0.8554\n",
            "Epoch 3/3\n",
            "115/115 [==============================] - 164s 1s/step - loss: 0.1242 - accuracy: 0.9588 - val_loss: 0.4471 - val_accuracy: 0.8480\n"
          ],
          "name": "stdout"
        },
        {
          "output_type": "execute_result",
          "data": {
            "text/plain": [
              "<tensorflow.python.keras.callbacks.History at 0x7fd8cb0f2e10>"
            ]
          },
          "metadata": {
            "tags": []
          },
          "execution_count": 330
        }
      ]
    },
    {
      "cell_type": "code",
      "metadata": {
        "id": "hjatAUgxf4Fu",
        "colab_type": "code",
        "colab": {
          "base_uri": "https://localhost:8080/",
          "height": 381
        },
        "outputId": "d6233eca-a097-4275-b6c5-12cd6fceeb6d"
      },
      "source": [
        "input_dict = {\"sentence1\":[\"Sing, goddess, of the anger of Achilleus, son of Peleus, the accursed anger which brought uncounted anguish on the Achaians\",\"I learned today that smoophesx has three sides.\",\"I know that smoophesx has 3 + 1 sides.\",\"6 apples + 6 apples\",\"6 apples + 6 apples\"],\n",
        "        \"sentence2\":[\"Rage—Goddess, sing the rage of Peleus' son Achilles,murderous, doomed, that cost the Achaeans countless losses\",\"I learned today that smoophesx has four sides.\",\"I know that smoophesx has 4 sides.\", \"16 apples\",\"12 apples\"]}\n",
        "#Martin's and Robert's translation of the Illiad's opening lines\n",
        "#And a pair of sentence I wrote to confuse the mode\n",
        "my_input = bert_encode(input_dict,tokenizer)\n",
        "results = bert_classifier.predict(my_input)\n",
        "probs = tf.nn.sigmoid(results)\n",
        "for i in range(len(probs)):\n",
        "  print(input_dict['sentence1'][i])\n",
        "  print(input_dict['sentence2'][i])\n",
        "  print( \"matches {}%\".format(tf.math.round(100*probs[i,0])))\n",
        "  print()"
      ],
      "execution_count": 331,
      "outputs": [
        {
          "output_type": "stream",
          "text": [
            "Sing, goddess, of the anger of Achilleus, son of Peleus, the accursed anger which brought uncounted anguish on the Achaians\n",
            "Rage—Goddess, sing the rage of Peleus' son Achilles,murderous, doomed, that cost the Achaeans countless losses\n",
            "matches 66.0%\n",
            "\n",
            "I learned today that smoophesx has three sides.\n",
            "I learned today that smoophesx has four sides.\n",
            "matches 7.0%\n",
            "\n",
            "I know that smoophesx has 3 + 1 sides.\n",
            "I know that smoophesx has 4 sides.\n",
            "matches 8.0%\n",
            "\n",
            "6 apples + 6 apples\n",
            "16 apples\n",
            "matches 40.0%\n",
            "\n",
            "6 apples + 6 apples\n",
            "12 apples\n",
            "matches 30.0%\n",
            "\n"
          ],
          "name": "stdout"
        }
      ]
    },
    {
      "cell_type": "markdown",
      "metadata": {
        "id": "iNQSGjb4gyEE",
        "colab_type": "text"
      },
      "source": [
        "It looks like the effort was wasted. In retrospect the dataset we tried to teach addition on was too hacked togheter. SciBERT might offer better pretraining for mathematics."
      ]
    }
  ]
}