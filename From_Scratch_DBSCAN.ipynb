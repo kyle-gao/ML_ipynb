{
  "nbformat": 4,
  "nbformat_minor": 0,
  "metadata": {
    "colab": {
      "name": "DBSCAN_from_scratch.ipynb",
      "provenance": [],
      "collapsed_sections": [],
      "authorship_tag": "ABX9TyNkew0m6xW5o+mM1Mc7ADO8",
      "include_colab_link": true
    },
    "kernelspec": {
      "name": "python3",
      "display_name": "Python 3"
    }
  },
  "cells": [
    {
      "cell_type": "markdown",
      "metadata": {
        "id": "view-in-github",
        "colab_type": "text"
      },
      "source": [
        "<a href=\"https://colab.research.google.com/github/kyle-gao/ML_ipynb/blob/master/DBSCAN_from_scratch.ipynb\" target=\"_parent\"><img src=\"https://colab.research.google.com/assets/colab-badge.svg\" alt=\"Open In Colab\"/></a>"
      ]
    },
    {
      "cell_type": "markdown",
      "metadata": {
        "id": "sNkHtpURpHdU",
        "colab_type": "text"
      },
      "source": [
        "Copyright 2020 Yi Lin(Kyle) Gao\n",
        "\n",
        "Licensed under the Apache License, Version 2.0 (the \"License\"); you may not use this file except in compliance with the License. You may obtain a copy of the License at http://www.apache.org/licenses/LICENSE-2.0 .\n"
      ]
    },
    {
      "cell_type": "code",
      "metadata": {
        "id": "6or3Rxfzoj67",
        "colab_type": "code",
        "colab": {}
      },
      "source": [
        "import numpy as np\n",
        "import matplotlib.pyplot as plt\n"
      ],
      "execution_count": null,
      "outputs": []
    },
    {
      "cell_type": "code",
      "metadata": {
        "id": "BAanRrV1opEr",
        "colab_type": "code",
        "colab": {}
      },
      "source": [
        "centroid1 = [3,2.7]\n",
        "centroid2 = [-4,-1.6]\n",
        "sigma1 = [1,1]\n",
        "sigma2 = [1.5,2]\n",
        "cluster1 = np.random.normal(centroid1,sigma1, (100,2))\n",
        "cluster2 = np.random.normal(centroid2,sigma2, (150,2))\n",
        "noise = np.random.normal([0,0],[10,10],(10,2))"
      ],
      "execution_count": 323,
      "outputs": []
    },
    {
      "cell_type": "code",
      "metadata": {
        "id": "E8yyT_2WqCAy",
        "colab_type": "code",
        "colab": {
          "base_uri": "https://localhost:8080/",
          "height": 269
        },
        "outputId": "4fdbac02-3c9d-4714-b86f-a3b104329bd4"
      },
      "source": [
        "plt.scatter(cluster1[:,0],cluster1[:,1])\n",
        "plt.scatter(cluster2[:,0],cluster2[:,1])\n",
        "plt.scatter(noise[:,0],noise[:,1])\n",
        "plt.xlim(-20, 10)\n",
        "plt.ylim(-10, 10)\n",
        "plt.show()"
      ],
      "execution_count": 324,
      "outputs": [
        {
          "output_type": "display_data",
          "data": {
            "image/png": "[encoded data removed]",
            "text/plain": [
              "<Figure size 432x288 with 1 Axes>"
            ]
          },
          "metadata": {
            "tags": [],
            "needs_background": "light"
          }
        }
      ]
    },
    {
      "cell_type": "code",
      "metadata": {
        "id": "V3M8BGVRzOCd",
        "colab_type": "code",
        "colab": {}
      },
      "source": [
        "def find_neighbours(eps, q, points):\n",
        "  \"\"\"\n",
        "  inputs:\n",
        "  eps - float, radius of neighbourhood\n",
        "  q - vector, center of neighbourhood\n",
        "  points - list of vectors, list of points to be scanned\n",
        "  returns:\n",
        "  a np.array containing the indices of points p in points within eps of q.\n",
        "\n",
        "  \"\"\"\n",
        "  dist = np.linalg.norm(q-points, axis = 1)\n",
        "  return np.where(dist < eps)[0]"
      ],
      "execution_count": null,
      "outputs": []
    },
    {
      "cell_type": "code",
      "metadata": {
        "id": "pOa5t3oGpRaL",
        "colab_type": "code",
        "colab": {}
      },
      "source": [
        "pts = np.concatenate((cluster1,cluster2,noise),axis=0)\n",
        "np.random.shuffle(pts)"
      ],
      "execution_count": 374,
      "outputs": []
    },
    {
      "cell_type": "code",
      "metadata": {
        "id": "wIyj3CNV62S9",
        "colab_type": "code",
        "colab": {}
      },
      "source": [
        "def dbscan(points, eps, minpts):\n",
        "  \"\"\"\n",
        "  inputs:\n",
        "  points - a list of vectors\n",
        "  eps - float, radius of neighbourhood\n",
        "  minpts - minimum density\n",
        "  returns: \n",
        "  labels - a list of int labels. -1 corresponds to noise, n > 0 correspond to nth cluster\n",
        "  \"\"\"\n",
        "  labels = np.zeros(len(points))\n",
        "  c = 0\n",
        "  for idx in range(len(points)):\n",
        "    if labels[idx] != 0:  #skip visited points\n",
        "      continue\n",
        "    neighbours = find_neighbours(eps,points[idx], points)\n",
        "    if len(neighbours) < minpts: #assign to noise if neighbourhood does not meet density requirement\n",
        "      labels[idx] = -1 \n",
        "    else:\n",
        "      c = c +1.0\n",
        "      labels[idx] = c\n",
        "      expand_cluster(points, eps, minpts, labels, neighbours, c)\n",
        "  return labels"
      ],
      "execution_count": 369,
      "outputs": []
    },
    {
      "cell_type": "code",
      "metadata": {
        "id": "LwVxcXpKA-NL",
        "colab_type": "code",
        "colab": {}
      },
      "source": [
        "def expand_cluster(points, eps, minpts, labels, neighbours, c):\n",
        "  \"\"\"\n",
        "  collect density reachable points from neighbours and assign them to the corresponding cluster.\n",
        "  inputs:\n",
        "  points - a list of vectors\n",
        "  eps - float, radius of neighbourhood\n",
        "  minpts - minimum density\n",
        "  neighbours - a list of indexes of points corresponding to a neighbourhood\n",
        "  c - int, a cluster label\n",
        "\n",
        "  \"\"\"\n",
        "\n",
        "  i = 0 #i indexes postion in neighbours, a list of index.\n",
        "  while i<len(neighbours):\n",
        "    q_idx = neighbours[i]\n",
        "    i = i+1\n",
        "    if labels[q_idx] == -1:\n",
        "      labels[q_idx] = c\n",
        "    if labels[q_idx] == 0:\n",
        "      labels[q_idx] = c\n",
        "      q_neighbours = find_neighbours(eps,points[q_idx],points)\n",
        "      if len(q_neighbours) > minpts:\n",
        "        neighbours=np.append(neighbours,q_neighbours)     "
      ],
      "execution_count": 370,
      "outputs": []
    },
    {
      "cell_type": "code",
      "metadata": {
        "id": "6x4MWpObGU5w",
        "colab_type": "code",
        "colab": {
          "base_uri": "https://localhost:8080/",
          "height": 269
        },
        "outputId": "f108da2d-69dc-45c4-aaeb-ad33a1a68aef"
      },
      "source": [
        "c1 = pts[scanned_points==1]\n",
        "c2 = pts[scanned_points==2]\n",
        "noise = pts[scanned_points==-1]\n",
        "\n",
        "plt.scatter(c1[:,0],c1[:,1])\n",
        "plt.scatter(c2[:,0],c2[:,1])\n",
        "plt.scatter(noise[:,0],noise[:,1])\n",
        "plt.xlim(-20, 10)\n",
        "\n",
        "plt.ylim(-10, 10)\n",
        "plt.show()"
      ],
      "execution_count": 379,
      "outputs": [
        {
          "output_type": "display_data",
          "data": {
            "image/png": "[encoded data removed]",
            "text/plain": [
              "<Figure size 432x288 with 1 Axes>"
            ]
          },
          "metadata": {
            "tags": [],
            "needs_background": "light"
          }
        }
      ]
    }
  ]
}
