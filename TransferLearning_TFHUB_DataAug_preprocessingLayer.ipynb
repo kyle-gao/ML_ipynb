{
  "nbformat": 4,
  "nbformat_minor": 0,
  "metadata": {
    "colab": {
      "name": "TransferLearning-TFHUB_DataAug-preprocessingLayer",
      "provenance": [],
      "authorship_tag": "ABX9TyMsy59IPx4bu5ja1u0NLVvx",
      "include_colab_link": true
    },
    "kernelspec": {
      "name": "python3",
      "display_name": "Python 3"
    },
    "accelerator": "GPU"
  },
  "cells": [
    {
      "cell_type": "markdown",
      "metadata": {
        "id": "view-in-github",
        "colab_type": "text"
      },
      "source": [
        "<a href=\"https://colab.research.google.com/github/kyle-gao/ML_ipynb/blob/master/TransferLearning_TFHUB_DataAug_preprocessingLayer.ipynb\" target=\"_parent\"><img src=\"https://colab.research.google.com/assets/colab-badge.svg\" alt=\"Open In Colab\"/></a>"
      ]
    },
    {
      "cell_type": "markdown",
      "metadata": {
        "id": "f1kcR_tmTEfj",
        "colab_type": "text"
      },
      "source": [
        "Copyright 2020 Yi Lin(Kyle) Gao\n",
        "\n",
        "Licensed under the Apache License, Version 2.0 (the \"License\"); you may not use this file except in compliance with the License. You may obtain a copy of the License at http://www.apache.org/licenses/LICENSE-2.0 ."
      ]
    },
    {
      "cell_type": "code",
      "metadata": {
        "id": "7gEnF2UZtHMi",
        "colab_type": "code",
        "colab": {}
      },
      "source": [
        "import tensorflow as tf\n",
        "import tensorflow_hub as tfhub\n",
        "import tensorflow_datasets as tfds\n"
      ],
      "execution_count": 1,
      "outputs": []
    },
    {
      "cell_type": "code",
      "metadata": {
        "id": "mIPaRo8NznV5",
        "colab_type": "code",
        "colab": {
          "base_uri": "https://localhost:8080/",
          "height": 35
        },
        "outputId": "421915b4-6077-4e8b-ab25-833dce374915"
      },
      "source": [
        "print(tf.__version__)"
      ],
      "execution_count": 2,
      "outputs": [
        {
          "output_type": "stream",
          "text": [
            "2.3.0\n"
          ],
          "name": "stdout"
        }
      ]
    },
    {
      "cell_type": "code",
      "metadata": {
        "id": "lk35eIcj9Afl",
        "colab_type": "code",
        "colab": {}
      },
      "source": [
        "(train,test), info = tfds.load('tf_flowers', split = [\"train[:80%]\",\"train[80%:]\"], as_supervised = True, with_info=True)"
      ],
      "execution_count": 3,
      "outputs": []
    },
    {
      "cell_type": "code",
      "metadata": {
        "id": "7znv0E_EKB5V",
        "colab_type": "code",
        "colab": {}
      },
      "source": [
        "num_classes = info.features['label'].num_classes"
      ],
      "execution_count": 4,
      "outputs": []
    },
    {
      "cell_type": "markdown",
      "metadata": {
        "id": "DS-uSLAmCCfp",
        "colab_type": "text"
      },
      "source": [
        "# Data Augmentation with tf.keras.layers.experimental.preprocessing\n",
        "These can be applied to datasets via .map() or added directly to the model.\n"
      ]
    },
    {
      "cell_type": "code",
      "metadata": {
        "id": "WPsyqrtiACdq",
        "colab_type": "code",
        "colab": {}
      },
      "source": [
        "resize_and_rescale = preprocessing = tf.keras.Sequential([\n",
        "                             tf.keras.layers.experimental.preprocessing.Resizing(224,224),\n",
        "                             tf.keras.layers.experimental.preprocessing.Rescaling(1./255.0)\n",
        "])"
      ],
      "execution_count": 5,
      "outputs": []
    },
    {
      "cell_type": "code",
      "metadata": {
        "id": "rGQdGLWhAjSm",
        "colab_type": "code",
        "colab": {}
      },
      "source": [
        "augment = tf.keras.Sequential([\n",
        "                             tf.keras.layers.experimental.preprocessing.RandomFlip(\"horizontal_and_vertical\"),\n",
        "                             tf.keras.layers.experimental.preprocessing.RandomTranslation(0.2,0.2),\n",
        "                             tf.keras.layers.experimental.preprocessing.RandomZoom(0.2,0.2)                                                          \n",
        "])"
      ],
      "execution_count": 6,
      "outputs": []
    },
    {
      "cell_type": "markdown",
      "metadata": {
        "id": "8UNMEjoS9bpL",
        "colab_type": "text"
      },
      "source": [
        "Pipeline and preprocessing"
      ]
    },
    {
      "cell_type": "code",
      "metadata": {
        "id": "r_87DUZICqL5",
        "colab_type": "code",
        "colab": {}
      },
      "source": [
        "def preprocessing (ds, batch_size = 32, augment_ds = False, shuffle_ds = False):\n",
        "  ds = ds.cache()\n",
        "  if shuffle_ds:\n",
        "    ds = ds.shuffle(1024)\n",
        "  ds = ds.padded_batch(batch_size) #use ds.padded_batch() here since images are of different shape before resize_and_resize()\n",
        "  ds = ds.map((lambda x,y : (resize_and_rescale(x),y)),num_parallel_calls= tf.data.experimental.AUTOTUNE)\n",
        "  if augment_ds:\n",
        "    ds = ds.map((lambda x,y : (augment(x),y)),num_parallel_calls= tf.data.experimental.AUTOTUNE)\n",
        "  ds = ds.prefetch(tf.data.experimental.AUTOTUNE)\n",
        "  return ds"
      ],
      "execution_count": 7,
      "outputs": []
    },
    {
      "cell_type": "code",
      "metadata": {
        "id": "2QEw4M8CEF1j",
        "colab_type": "code",
        "colab": {}
      },
      "source": [
        "train = preprocessing(train, 32, shuffle_ds = True,augment_ds = True)\n",
        "test = preprocessing(test, 32)"
      ],
      "execution_count": 8,
      "outputs": []
    },
    {
      "cell_type": "markdown",
      "metadata": {
        "id": "TZIPeeczPVp4",
        "colab_type": "text"
      },
      "source": [
        "#Import mobilenet as a tfhub.KerasLayer"
      ]
    },
    {
      "cell_type": "code",
      "metadata": {
        "id": "_1spuii3-4u0",
        "colab_type": "code",
        "colab": {}
      },
      "source": [
        "mobile_net_features_vec = tfhub.KerasLayer(\"https://tfhub.dev/google/tf2-preview/mobilenet_v2/feature_vector/4\" , input_shape = (224,224,3))"
      ],
      "execution_count": 9,
      "outputs": []
    },
    {
      "cell_type": "code",
      "metadata": {
        "id": "tQ8sYQkZJWy6",
        "colab_type": "code",
        "colab": {
          "base_uri": "https://localhost:8080/",
          "height": 272
        },
        "outputId": "eeee8436-37a2-4b3d-a739-9580fe163940"
      },
      "source": [
        "model = tf.keras.Sequential([mobile_net_features_vec,\n",
        "                             tf.keras.layers.Dense(128, activation = 'relu'),\n",
        "                             tf.keras.layers.Dense(num_classes, activation = 'softmax')])\n",
        "model.compile(optimizer = 'adam', loss = \"sparse_categorical_crossentropy\", metrics = \"acc\")\n",
        "model.summary()"
      ],
      "execution_count": 10,
      "outputs": [
        {
          "output_type": "stream",
          "text": [
            "Model: \"sequential_2\"\n",
            "_________________________________________________________________\n",
            "Layer (type)                 Output Shape              Param #   \n",
            "=================================================================\n",
            "keras_layer (KerasLayer)     (None, 1280)              2257984   \n",
            "_________________________________________________________________\n",
            "dense (Dense)                (None, 128)               163968    \n",
            "_________________________________________________________________\n",
            "dense_1 (Dense)              (None, 5)                 645       \n",
            "=================================================================\n",
            "Total params: 2,422,597\n",
            "Trainable params: 164,613\n",
            "Non-trainable params: 2,257,984\n",
            "_________________________________________________________________\n"
          ],
          "name": "stdout"
        }
      ]
    },
    {
      "cell_type": "code",
      "metadata": {
        "id": "P2eO7p0o9pFP",
        "colab_type": "code",
        "colab": {
          "base_uri": "https://localhost:8080/",
          "height": 381
        },
        "outputId": "b29b9eed-a27d-4428-aaaf-efb44edc5a0e"
      },
      "source": [
        "log = model.fit(train, validation_data=test, epochs = 10, verbose = 1)"
      ],
      "execution_count": 11,
      "outputs": [
        {
          "output_type": "stream",
          "text": [
            "Epoch 1/10\n",
            "92/92 [==============================] - 31s 332ms/step - loss: 0.7570 - acc: 0.7108 - val_loss: 0.4713 - val_acc: 0.8256\n",
            "Epoch 2/10\n",
            "92/92 [==============================] - 28s 303ms/step - loss: 0.5306 - acc: 0.8011 - val_loss: 0.3850 - val_acc: 0.8678\n",
            "Epoch 3/10\n",
            "92/92 [==============================] - 28s 302ms/step - loss: 0.4749 - acc: 0.8232 - val_loss: 0.4024 - val_acc: 0.8556\n",
            "Epoch 4/10\n",
            "92/92 [==============================] - 28s 302ms/step - loss: 0.4692 - acc: 0.8317 - val_loss: 0.4613 - val_acc: 0.8447\n",
            "Epoch 5/10\n",
            "92/92 [==============================] - 28s 302ms/step - loss: 0.4470 - acc: 0.8307 - val_loss: 0.3727 - val_acc: 0.8787\n",
            "Epoch 6/10\n",
            "92/92 [==============================] - 28s 302ms/step - loss: 0.4020 - acc: 0.8569 - val_loss: 0.3490 - val_acc: 0.8856\n",
            "Epoch 7/10\n",
            "92/92 [==============================] - 28s 302ms/step - loss: 0.4029 - acc: 0.8379 - val_loss: 0.3383 - val_acc: 0.8896\n",
            "Epoch 8/10\n",
            "92/92 [==============================] - 28s 301ms/step - loss: 0.3926 - acc: 0.8512 - val_loss: 0.3775 - val_acc: 0.8569\n",
            "Epoch 9/10\n",
            "92/92 [==============================] - 28s 301ms/step - loss: 0.3559 - acc: 0.8689 - val_loss: 0.3870 - val_acc: 0.8678\n",
            "Epoch 10/10\n",
            "92/92 [==============================] - 28s 304ms/step - loss: 0.3554 - acc: 0.8634 - val_loss: 0.3267 - val_acc: 0.8787\n"
          ],
          "name": "stdout"
        }
      ]
    },
    {
      "cell_type": "markdown",
      "metadata": {
        "id": "XSvR8VBbIlYr",
        "colab_type": "text"
      },
      "source": [
        "# We compare with a convolutional model."
      ]
    },
    {
      "cell_type": "code",
      "metadata": {
        "id": "LbY6Xhz8FhSR",
        "colab_type": "code",
        "colab": {
          "base_uri": "https://localhost:8080/",
          "height": 417
        },
        "outputId": "3bbf4db6-71c9-4799-d942-ec962641fee6"
      },
      "source": [
        "conv = tf.keras.Sequential([\n",
        "  tf.keras.layers.Conv2D(32, 3, padding='same', activation='relu',input_shape = (224,224,3)),\n",
        "  tf.keras.layers.MaxPooling2D(),\n",
        "  tf.keras.layers.Conv2D(64, 3, padding='same', activation='relu'),\n",
        "  tf.keras.layers.MaxPooling2D(),\n",
        "  tf.keras.layers.Flatten(),\n",
        "  tf.keras.layers.Dense(128, activation='relu'),\n",
        "  tf.keras.layers.Dense(num_classes, activation = 'softmax')\n",
        "])\n",
        "conv.compile(optimizer = 'Adam', loss = \"sparse_categorical_crossentropy\", metrics = \"acc\")\n",
        "conv.summary()"
      ],
      "execution_count": 27,
      "outputs": [
        {
          "output_type": "stream",
          "text": [
            "Model: \"sequential_9\"\n",
            "_________________________________________________________________\n",
            "Layer (type)                 Output Shape              Param #   \n",
            "=================================================================\n",
            "conv2d_14 (Conv2D)           (None, 224, 224, 32)      896       \n",
            "_________________________________________________________________\n",
            "max_pooling2d_14 (MaxPooling (None, 112, 112, 32)      0         \n",
            "_________________________________________________________________\n",
            "conv2d_15 (Conv2D)           (None, 112, 112, 64)      18496     \n",
            "_________________________________________________________________\n",
            "max_pooling2d_15 (MaxPooling (None, 56, 56, 64)        0         \n",
            "_________________________________________________________________\n",
            "flatten_6 (Flatten)          (None, 200704)            0         \n",
            "_________________________________________________________________\n",
            "dense_14 (Dense)             (None, 128)               25690240  \n",
            "_________________________________________________________________\n",
            "dense_15 (Dense)             (None, 5)                 645       \n",
            "=================================================================\n",
            "Total params: 25,710,277\n",
            "Trainable params: 25,710,277\n",
            "Non-trainable params: 0\n",
            "_________________________________________________________________\n"
          ],
          "name": "stdout"
        }
      ]
    },
    {
      "cell_type": "code",
      "metadata": {
        "id": "tYRlCaoxPGcZ",
        "colab_type": "code",
        "colab": {
          "base_uri": "https://localhost:8080/",
          "height": 437
        },
        "outputId": "af57d518-7ccf-4c2a-f8d7-fb38d4bbabba"
      },
      "source": [
        "log2 = conv.fit(train, validation_data=test, epochs = 10, verbose = 1)"
      ],
      "execution_count": 28,
      "outputs": [
        {
          "output_type": "stream",
          "text": [
            "Epoch 1/10\n",
            "      2/Unknown - 0s 58ms/step - loss: 4.1507 - acc: 0.2188WARNING:tensorflow:Callbacks method `on_train_batch_end` is slow compared to the batch time (batch time: 0.0178s vs `on_train_batch_end` time: 0.0481s). Check your callbacks.\n"
          ],
          "name": "stdout"
        },
        {
          "output_type": "stream",
          "text": [
            "WARNING:tensorflow:Callbacks method `on_train_batch_end` is slow compared to the batch time (batch time: 0.0178s vs `on_train_batch_end` time: 0.0481s). Check your callbacks.\n"
          ],
          "name": "stderr"
        },
        {
          "output_type": "stream",
          "text": [
            "92/92 [==============================] - 28s 309ms/step - loss: 1.6895 - acc: 0.3566 - val_loss: 1.2723 - val_acc: 0.4809\n",
            "Epoch 2/10\n",
            "92/92 [==============================] - 29s 311ms/step - loss: 1.2862 - acc: 0.4431 - val_loss: 1.2307 - val_acc: 0.4768\n",
            "Epoch 3/10\n",
            "92/92 [==============================] - 28s 309ms/step - loss: 1.1989 - acc: 0.5058 - val_loss: 1.1092 - val_acc: 0.5518\n",
            "Epoch 4/10\n",
            "92/92 [==============================] - 28s 309ms/step - loss: 1.1238 - acc: 0.5283 - val_loss: 1.0323 - val_acc: 0.5995\n",
            "Epoch 5/10\n",
            "92/92 [==============================] - 28s 305ms/step - loss: 1.0729 - acc: 0.5616 - val_loss: 1.0472 - val_acc: 0.5926\n",
            "Epoch 6/10\n",
            "92/92 [==============================] - 28s 310ms/step - loss: 1.0472 - acc: 0.5858 - val_loss: 0.9867 - val_acc: 0.5886\n",
            "Epoch 7/10\n",
            "92/92 [==============================] - 28s 309ms/step - loss: 1.0208 - acc: 0.6001 - val_loss: 1.0516 - val_acc: 0.5777\n",
            "Epoch 8/10\n",
            "92/92 [==============================] - 28s 305ms/step - loss: 0.9730 - acc: 0.6219 - val_loss: 1.1214 - val_acc: 0.5749\n",
            "Epoch 9/10\n",
            "92/92 [==============================] - 28s 308ms/step - loss: 0.9613 - acc: 0.6175 - val_loss: 0.9153 - val_acc: 0.6240\n",
            "Epoch 10/10\n",
            "92/92 [==============================] - 28s 309ms/step - loss: 0.9235 - acc: 0.6379 - val_loss: 0.9846 - val_acc: 0.6104\n"
          ],
          "name": "stdout"
        }
      ]
    },
    {
      "cell_type": "code",
      "metadata": {
        "id": "bcC8dgPYRkwL",
        "colab_type": "code",
        "colab": {}
      },
      "source": [
        "import matplotlib.pyplot as plt"
      ],
      "execution_count": 30,
      "outputs": []
    },
    {
      "cell_type": "code",
      "metadata": {
        "id": "pv6BuNokR5HU",
        "colab_type": "code",
        "colab": {
          "base_uri": "https://localhost:8080/",
          "height": 295
        },
        "outputId": "5de39092-172b-421a-da35-91e2bdfab611"
      },
      "source": [
        "plt.plot(log.history['acc'],label=\"MobileNet\")\n",
        "plt.plot(log2.history['acc'],label=\"Conv Model\")\n",
        "plt.legend()\n",
        "plt.xlabel(\"epoch\")\n",
        "plt.ylabel(\"accuracy\")\n",
        "plt.title(\"Accuracy for mobilenet(transfer learning) vs Convolutional Model\")\n",
        "plt.show()"
      ],
      "execution_count": 41,
      "outputs": [
        {
          "output_type": "display_data",
          "data": {
            "image/png": "[encoded data removed]",
            "text/plain": [
              "<Figure size 432x288 with 1 Axes>"
            ]
          },
          "metadata": {
            "tags": [],
            "needs_background": "light"
          }
        }
      ]
    },
    {
      "cell_type": "code",
      "metadata": {
        "id": "aYSqDa3bR-hC",
        "colab_type": "code",
        "colab": {
          "base_uri": "https://localhost:8080/",
          "height": 295
        },
        "outputId": "248f774a-d864-40b4-8b42-c8406861150c"
      },
      "source": [
        "plt.plot(log.history['val_acc'],label=\"MobileNet\")\n",
        "plt.plot(log2.history['val_acc'],label=\"Conv Model\")\n",
        "plt.legend()\n",
        "plt.xlabel(\"epoch\")\n",
        "plt.ylabel(\"accuracy\")\n",
        "plt.title(\"Validation Accuracy for MobilenetV2(transfer learning) vs Convolutional Model\")\n",
        "plt.show()"
      ],
      "execution_count": 42,
      "outputs": [
        {
          "output_type": "display_data",
          "data": {
            "image/png": "[encoded data removed]",
            "text/plain": [
              "<Figure size 432x288 with 1 Axes>"
            ]
          },
          "metadata": {
            "tags": [],
            "needs_background": "light"
          }
        }
      ]
    }
  ]
}