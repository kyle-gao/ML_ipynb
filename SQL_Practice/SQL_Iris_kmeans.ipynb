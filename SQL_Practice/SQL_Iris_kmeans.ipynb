{
  "nbformat": 4,
  "nbformat_minor": 0,
  "metadata": {
    "colab": {
      "name": "SQL_Iris_kmeans.ipynb",
      "provenance": []
    },
    "kernelspec": {
      "name": "python3",
      "display_name": "Python 3"
    }
  },
  "cells": [
    {
      "cell_type": "code",
      "metadata": {
        "id": "wIRpHSwLK7vU",
        "colab_type": "code",
        "colab": {}
      },
      "source": [
        "import sklearn as sk\n",
        "import numpy as np\n",
        "import sqlite3 as sql\n",
        "import matplotlib.pyplot as plt\n",
        "from sklearn.datasets import load_iris"
      ],
      "execution_count": 184,
      "outputs": []
    },
    {
      "cell_type": "markdown",
      "metadata": {
        "id": "-XVKoK9PD0Ad",
        "colab_type": "text"
      },
      "source": [
        "We will\n",
        "\n",
        "\n",
        "1.   load the iris dataseta and write it to a sql database\n",
        "2.   load the data from the sql database and run a simple k-means clustering on it.\n",
        "3. write the results to the sql database\n"
      ]
    },
    {
      "cell_type": "code",
      "metadata": {
        "id": "zxtZXM0gLfqM",
        "colab_type": "code",
        "colab": {}
      },
      "source": [
        "irisdata = load_iris()"
      ],
      "execution_count": 185,
      "outputs": []
    },
    {
      "cell_type": "code",
      "metadata": {
        "id": "Pwklu5L7Opw7",
        "colab_type": "code",
        "colab": {}
      },
      "source": [
        "def query(db,query):\n",
        "  connection = sql.connect(db)\n",
        "  return connection.cursor().execute(query).fetchall()\n",
        "  connection.commit()\n",
        "  connection.close()"
      ],
      "execution_count": 187,
      "outputs": []
    },
    {
      "cell_type": "code",
      "metadata": {
        "id": "vDVedIL5YMIa",
        "colab_type": "code",
        "colab": {}
      },
      "source": [
        "query(\"IRIS.db\", \"CREATE TABLE Iris_Table (Id INTEGER PRIMARY KEY, sepal_length INTEGER, sepal_width INTEGER, \\\n",
        "petal_length INTEGER, petal_width INTEGER,Target INTEGER)\");\n",
        "#.Execute() can't pass variables to table names or column names (anti injection)\n",
        "#ALTER TABLE ADD can only add 1 column at a time, so create them at CREATE TABLE"
      ],
      "execution_count": 230,
      "outputs": []
    },
    {
      "cell_type": "code",
      "metadata": {
        "id": "YCSbCDpNa5RG",
        "colab_type": "code",
        "colab": {
          "base_uri": "https://localhost:8080/",
          "height": 35
        },
        "outputId": "f25d2c4d-8b95-49e3-8158-ee70720408ab"
      },
      "source": [
        "target = irisdata.target.astype(np.float64) #Convert the dtype to the same as values or sql gets angry\n",
        "idx = np.arange(150).astype(np.float64) #We add a index column for id purposes #This will be PRIMARY KEY\n",
        "values = [tuple([idx[i]])+tuple(irisdata.data[i])+ tuple([target[i]]) for i in range(len(irisdata.target))]\n",
        "#List of 5-tuples\n",
        "print(values[0])"
      ],
      "execution_count": 229,
      "outputs": [
        {
          "output_type": "stream",
          "text": [
            "(0.0, 5.1, 3.5, 1.4, 0.2, 0.0)\n"
          ],
          "name": "stdout"
        }
      ]
    },
    {
      "cell_type": "code",
      "metadata": {
        "id": "srNMLUVLcbmQ",
        "colab_type": "code",
        "colab": {}
      },
      "source": [
        "connection = sql.connect(\"IRIS.db\")\n",
        "for v in values:\n",
        "  connection.cursor().execute(\"INSERT INTO Iris_Table (Id, sepal_length,\\\n",
        "   sepal_width, petal_length, petal_width, Target) VALUES (?,?,?,?,?,?)\",v);\n",
        "connection.commit();\n",
        "connection.close();"
      ],
      "execution_count": 231,
      "outputs": []
    },
    {
      "cell_type": "code",
      "metadata": {
        "id": "ajzJv8GnDQo8",
        "colab_type": "code",
        "colab": {}
      },
      "source": [
        "data = query(\"IRIS.db\", \"SELECT sepal_length,sepal_width,petal_length, petal_width FROM Iris_Table\")\n",
        "target = query(\"IRIS.db\", \"SELECT target from Iris_Table\")\n",
        "data = [list(d) for d in data]\n",
        "target = [t[0] for t in target]"
      ],
      "execution_count": 254,
      "outputs": []
    },
    {
      "cell_type": "code",
      "metadata": {
        "id": "jppi7a5kExt9",
        "colab_type": "code",
        "colab": {
          "base_uri": "https://localhost:8080/",
          "height": 69
        },
        "outputId": "09026f5e-ba0b-47ab-ad4e-e2a5ac75b93c"
      },
      "source": [
        "from sklearn.cluster import KMeans\n",
        "model = KMeans(n_clusters = 3);\n",
        "#Since there are 3 types of irises in the dataset, we expect 3 clusters\n",
        "#of course since this algorithm is unsupervised, it has no idea which cluster label\n",
        "#belongs to which iris.\n",
        "model.fit(data)"
      ],
      "execution_count": 262,
      "outputs": [
        {
          "output_type": "execute_result",
          "data": {
            "text/plain": [
              "KMeans(algorithm='auto', copy_x=True, init='k-means++', max_iter=300,\n",
              "       n_clusters=3, n_init=10, n_jobs=None, precompute_distances='auto',\n",
              "       random_state=None, tol=0.0001, verbose=0)"
            ]
          },
          "metadata": {
            "tags": []
          },
          "execution_count": 262
        }
      ]
    },
    {
      "cell_type": "code",
      "metadata": {
        "id": "UCdFKERIHO_i",
        "colab_type": "code",
        "colab": {
          "base_uri": "https://localhost:8080/",
          "height": 139
        },
        "outputId": "ebcb7b82-7e76-4896-9e98-b07f7211ed5d"
      },
      "source": [
        "#Since the data was already ordered, we see that\n",
        "#the labelling scheme of KMeans matched that of the data\n",
        "model.labels_"
      ],
      "execution_count": 264,
      "outputs": [
        {
          "output_type": "execute_result",
          "data": {
            "text/plain": [
              "array([0, 0, 0, 0, 0, 0, 0, 0, 0, 0, 0, 0, 0, 0, 0, 0, 0, 0, 0, 0, 0, 0,\n",
              "       0, 0, 0, 0, 0, 0, 0, 0, 0, 0, 0, 0, 0, 0, 0, 0, 0, 0, 0, 0, 0, 0,\n",
              "       0, 0, 0, 0, 0, 0, 1, 1, 2, 1, 1, 1, 1, 1, 1, 1, 1, 1, 1, 1, 1, 1,\n",
              "       1, 1, 1, 1, 1, 1, 1, 1, 1, 1, 1, 2, 1, 1, 1, 1, 1, 1, 1, 1, 1, 1,\n",
              "       1, 1, 1, 1, 1, 1, 1, 1, 1, 1, 1, 1, 2, 1, 2, 2, 2, 2, 1, 2, 2, 2,\n",
              "       2, 2, 2, 1, 1, 2, 2, 2, 2, 1, 2, 1, 2, 1, 2, 2, 1, 1, 2, 2, 2, 2,\n",
              "       2, 1, 2, 2, 2, 2, 1, 2, 2, 2, 1, 2, 2, 2, 1, 2, 2, 1], dtype=int32)"
            ]
          },
          "metadata": {
            "tags": []
          },
          "execution_count": 264
        }
      ]
    },
    {
      "cell_type": "code",
      "metadata": {
        "id": "4Nvf3TWjI_SZ",
        "colab_type": "code",
        "colab": {
          "base_uri": "https://localhost:8080/",
          "height": 35
        },
        "outputId": "3e51e2a0-3e80-4218-9e6f-2433eecb3df7"
      },
      "source": [
        "acc = np.sum(model.labels_ == target)/len(target)\n",
        "print(\"Accuracy : {}\".format(acc))"
      ],
      "execution_count": 271,
      "outputs": [
        {
          "output_type": "stream",
          "text": [
            "Accuracy : 0.8933333333333333\n"
          ],
          "name": "stdout"
        }
      ]
    },
    {
      "cell_type": "code",
      "metadata": {
        "id": "zYbOC06LJhLp",
        "colab_type": "code",
        "colab": {}
      },
      "source": [
        "labels = model.labels_.astype(np.float64)\n",
        "labels = [(labels[i],idx[i]) for i in range(len(target))]"
      ],
      "execution_count": 285,
      "outputs": []
    },
    {
      "cell_type": "code",
      "metadata": {
        "id": "xE-VBbHwJ7X3",
        "colab_type": "code",
        "colab": {}
      },
      "source": [
        "query(\"IRIS.db\", \"ALTER TABLE Iris_Table ADD Kmeans_prediction INTEGER\");"
      ],
      "execution_count": null,
      "outputs": []
    },
    {
      "cell_type": "code",
      "metadata": {
        "id": "24o4XP7rKkyo",
        "colab_type": "code",
        "colab": {}
      },
      "source": [
        "connection = sql.connect(\"IRIS.db\");\n",
        "connection.cursor().executemany(\"UPDATE Iris_Table SET Kmeans_prediction = ? WHERE ID = ?\", labels)\n",
        "connection.commit();\n",
        "connection.close();"
      ],
      "execution_count": 288,
      "outputs": []
    }
  ]
}