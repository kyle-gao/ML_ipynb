{
  "nbformat": 4,
  "nbformat_minor": 0,
  "metadata": {
    "colab": {
      "name": "SQL_and_Pandas_practice.ipynb",
      "provenance": []
    },
    "kernelspec": {
      "name": "python3",
      "display_name": "Python 3"
    }
  },
  "cells": [
    {
      "cell_type": "code",
      "metadata": {
        "id": "CCSTHev17YyB",
        "colab_type": "code",
        "colab": {}
      },
      "source": [
        "import sqlite3 as sql\n",
        "import pandas as pd\n",
        "import sklearn\n",
        "import numpy as np\n",
        "import matplotlib.pyplot as plt\n",
        "from sklearn.model_selection import train_test_split"
      ],
      "execution_count": 1145,
      "outputs": []
    },
    {
      "cell_type": "code",
      "metadata": {
        "id": "S77SZR2wAScM",
        "colab_type": "code",
        "colab": {}
      },
      "source": [
        "train_path = \"Titanic/train.csv\"\n",
        "test_path = \"Titanic/train.csv\"\n",
        "train_df = pd.read_csv(train_path)"
      ],
      "execution_count": 1146,
      "outputs": []
    },
    {
      "cell_type": "code",
      "metadata": {
        "id": "3y99UIlxA6a_",
        "colab_type": "code",
        "colab": {}
      },
      "source": [
        "traindb = sql.connect(\"Titanic.db\")\n",
        "#Shuffles and split the data\n",
        "train, val = train_test_split(train_df, test_size = 0.15)\n",
        "train.to_sql(\"Train_DB\",traindb)\n",
        "val.to_sql(\"Val_DB\",traindb)\n",
        "traindb.close()"
      ],
      "execution_count": 1147,
      "outputs": []
    },
    {
      "cell_type": "code",
      "metadata": {
        "id": "QtcS3a6OKbx-",
        "colab_type": "code",
        "colab": {
          "base_uri": "https://localhost:8080/",
          "height": 197
        },
        "outputId": "c917607d-ac1e-47ab-f580-8f4861047280"
      },
      "source": [
        "train.head()"
      ],
      "execution_count": 1148,
      "outputs": [
        {
          "output_type": "execute_result",
          "data": {
            "text/html": [
              "<div>\n",
              "<style scoped>\n",
              "    .dataframe tbody tr th:only-of-type {\n",
              "        vertical-align: middle;\n",
              "    }\n",
              "\n",
              "    .dataframe tbody tr th {\n",
              "        vertical-align: top;\n",
              "    }\n",
              "\n",
              "    .dataframe thead th {\n",
              "        text-align: right;\n",
              "    }\n",
              "</style>\n",
              "<table border=\"1\" class=\"dataframe\">\n",
              "  <thead>\n",
              "    <tr style=\"text-align: right;\">\n",
              "      <th></th>\n",
              "      <th>PassengerId</th>\n",
              "      <th>Survived</th>\n",
              "      <th>Pclass</th>\n",
              "      <th>Name</th>\n",
              "      <th>Sex</th>\n",
              "      <th>Age</th>\n",
              "      <th>SibSp</th>\n",
              "      <th>Parch</th>\n",
              "      <th>Ticket</th>\n",
              "      <th>Fare</th>\n",
              "      <th>Cabin</th>\n",
              "      <th>Embarked</th>\n",
              "    </tr>\n",
              "  </thead>\n",
              "  <tbody>\n",
              "    <tr>\n",
              "      <th>466</th>\n",
              "      <td>467</td>\n",
              "      <td>0</td>\n",
              "      <td>2</td>\n",
              "      <td>Campbell, Mr. William</td>\n",
              "      <td>male</td>\n",
              "      <td>NaN</td>\n",
              "      <td>0</td>\n",
              "      <td>0</td>\n",
              "      <td>239853</td>\n",
              "      <td>0.0000</td>\n",
              "      <td>NaN</td>\n",
              "      <td>S</td>\n",
              "    </tr>\n",
              "    <tr>\n",
              "      <th>88</th>\n",
              "      <td>89</td>\n",
              "      <td>1</td>\n",
              "      <td>1</td>\n",
              "      <td>Fortune, Miss. Mabel Helen</td>\n",
              "      <td>female</td>\n",
              "      <td>23.0</td>\n",
              "      <td>3</td>\n",
              "      <td>2</td>\n",
              "      <td>19950</td>\n",
              "      <td>263.0000</td>\n",
              "      <td>C23 C25 C27</td>\n",
              "      <td>S</td>\n",
              "    </tr>\n",
              "    <tr>\n",
              "      <th>601</th>\n",
              "      <td>602</td>\n",
              "      <td>0</td>\n",
              "      <td>3</td>\n",
              "      <td>Slabenoff, Mr. Petco</td>\n",
              "      <td>male</td>\n",
              "      <td>NaN</td>\n",
              "      <td>0</td>\n",
              "      <td>0</td>\n",
              "      <td>349214</td>\n",
              "      <td>7.8958</td>\n",
              "      <td>NaN</td>\n",
              "      <td>S</td>\n",
              "    </tr>\n",
              "    <tr>\n",
              "      <th>387</th>\n",
              "      <td>388</td>\n",
              "      <td>1</td>\n",
              "      <td>2</td>\n",
              "      <td>Buss, Miss. Kate</td>\n",
              "      <td>female</td>\n",
              "      <td>36.0</td>\n",
              "      <td>0</td>\n",
              "      <td>0</td>\n",
              "      <td>27849</td>\n",
              "      <td>13.0000</td>\n",
              "      <td>NaN</td>\n",
              "      <td>S</td>\n",
              "    </tr>\n",
              "    <tr>\n",
              "      <th>311</th>\n",
              "      <td>312</td>\n",
              "      <td>1</td>\n",
              "      <td>1</td>\n",
              "      <td>Ryerson, Miss. Emily Borie</td>\n",
              "      <td>female</td>\n",
              "      <td>18.0</td>\n",
              "      <td>2</td>\n",
              "      <td>2</td>\n",
              "      <td>PC 17608</td>\n",
              "      <td>262.3750</td>\n",
              "      <td>B57 B59 B63 B66</td>\n",
              "      <td>C</td>\n",
              "    </tr>\n",
              "  </tbody>\n",
              "</table>\n",
              "</div>"
            ],
            "text/plain": [
              "     PassengerId  Survived  Pclass  ...      Fare            Cabin  Embarked\n",
              "466          467         0       2  ...    0.0000              NaN         S\n",
              "88            89         1       1  ...  263.0000      C23 C25 C27         S\n",
              "601          602         0       3  ...    7.8958              NaN         S\n",
              "387          388         1       2  ...   13.0000              NaN         S\n",
              "311          312         1       1  ...  262.3750  B57 B59 B63 B66         C\n",
              "\n",
              "[5 rows x 12 columns]"
            ]
          },
          "metadata": {
            "tags": []
          },
          "execution_count": 1148
        }
      ]
    },
    {
      "cell_type": "code",
      "metadata": {
        "id": "rVs7VyddC2DN",
        "colab_type": "code",
        "colab": {}
      },
      "source": [
        "#We combine SibSp(siblings) and Parch(parent/child) into a single column\n",
        "\n",
        "def add_groupsize(df):\n",
        "    sibs=df.pop(\"SibSp\")\n",
        "    parch=df.pop(\"Parch\")\n",
        "    groupsize=1+sibs+parch\n",
        "    return df.join(groupsize.rename(\"Family Size\"))\n",
        "train = add_groupsize(train);\n",
        "val = add_groupsize(val);"
      ],
      "execution_count": 1149,
      "outputs": []
    },
    {
      "cell_type": "code",
      "metadata": {
        "id": "EeL202w7M8Cq",
        "colab_type": "code",
        "colab": {}
      },
      "source": [
        "y_train = train.pop(\"Survived\")\n",
        "y_val = val.pop(\"Survived\")"
      ],
      "execution_count": 1150,
      "outputs": []
    },
    {
      "cell_type": "markdown",
      "metadata": {
        "id": "fQQ3VkB-BM_3",
        "colab_type": "text"
      },
      "source": [
        "We make sqlite databases from the pd.Dataframes"
      ]
    },
    {
      "cell_type": "code",
      "metadata": {
        "id": "pEXfLA3EDxhE",
        "colab_type": "code",
        "colab": {}
      },
      "source": [
        "def query(database, query_str):\n",
        "  connection = sql.connect(database)\n",
        "  return connection.cursor().execute(query_str).fetchall()\n",
        "  connection.close()"
      ],
      "execution_count": 1151,
      "outputs": []
    },
    {
      "cell_type": "markdown",
      "metadata": {
        "id": "UJLN_SGSO-Xf",
        "colab_type": "text"
      },
      "source": [
        "# Data Manipulation and Plots"
      ]
    },
    {
      "cell_type": "markdown",
      "metadata": {
        "id": "UOGaJNPfWSf0",
        "colab_type": "text"
      },
      "source": [
        "Pandas manipulation"
      ]
    },
    {
      "cell_type": "code",
      "metadata": {
        "id": "NNA4NghcMpha",
        "colab_type": "code",
        "colab": {
          "base_uri": "https://localhost:8080/",
          "height": 87
        },
        "outputId": "4bebce6d-7e2b-4301-a4d1-ac956da082b6"
      },
      "source": [
        "survived_by_sex_df = pd.concat([train, y_train], axis=1).groupby([\"Sex\",\"Survived\"]).count().Fare.unstack()\n",
        "print(survived_by_sex_df)\n",
        "\n",
        "survived_by_age_df = pd.concat([train,y_train], axis=1).pivot(columns='Survived').Age"
      ],
      "execution_count": 1152,
      "outputs": [
        {
          "output_type": "stream",
          "text": [
            "Survived    0    1\n",
            "Sex               \n",
            "female     70  190\n",
            "male      406   91\n"
          ],
          "name": "stdout"
        }
      ]
    },
    {
      "cell_type": "code",
      "metadata": {
        "id": "Zn69T38nMtCY",
        "colab_type": "code",
        "colab": {
          "base_uri": "https://localhost:8080/",
          "height": 566
        },
        "outputId": "93fcfb36-45f1-4dde-f532-24b7cb5d26a0"
      },
      "source": [
        "plt1 = survived_by_sex.plot(kind='bar',stacked=True).set_ylabel('Passenger Count');\n",
        "plt2 = survived_by_age_df.plot(kind = 'hist', stacked=True).set_xlabel('Age')"
      ],
      "execution_count": 1153,
      "outputs": [
        {
          "output_type": "display_data",
          "data": {
            "image/png": "[encoded data removed]",
            "text/plain": [
              "<Figure size 432x288 with 1 Axes>"
            ]
          },
          "metadata": {
            "tags": [],
            "needs_background": "light"
          }
        },
        {
          "output_type": "display_data",
          "data": {
            "image/png": "[encoded data removed]",
            "text/plain": [
              "<Figure size 432x288 with 1 Axes>"
            ]
          },
          "metadata": {
            "tags": [],
            "needs_background": "light"
          }
        }
      ]
    },
    {
      "cell_type": "markdown",
      "metadata": {
        "id": "dKnqhdTIWU2Y",
        "colab_type": "text"
      },
      "source": [
        "SQL manipulation"
      ]
    },
    {
      "cell_type": "code",
      "metadata": {
        "id": "ZEerZIQPOyMR",
        "colab_type": "code",
        "colab": {
          "base_uri": "https://localhost:8080/",
          "height": 34
        },
        "outputId": "6c8b85d6-5e60-4123-8350-09acd0e9fb46"
      },
      "source": [
        "survived = np.asarray(query(\"Titanic.db\", \"SELECT COUNT(Survived) from Train_DB WHERE Survived=1 GROUP BY Sex \")).flatten()\n",
        "not_survived = np.asarray(query(\"Titanic.db\", \"SELECT COUNT(Survived) FROM Train_DB WHERE Survived = 0 GROUP BY Sex \")).flatten()\n",
        "print(survived) #(female,male)"
      ],
      "execution_count": 1154,
      "outputs": [
        {
          "output_type": "stream",
          "text": [
            "[190  91]\n"
          ],
          "name": "stdout"
        }
      ]
    },
    {
      "cell_type": "code",
      "metadata": {
        "id": "BdiEH5KbS5hO",
        "colab_type": "code",
        "colab": {
          "base_uri": "https://localhost:8080/",
          "height": 278
        },
        "outputId": "1b7b0a97-513c-4ecc-f6db-c46756641599"
      },
      "source": [
        "plt1 = plt.bar([1,2], not_survived, width = 0.5 );\n",
        "plt2 = plt.bar([1,2], survived, bottom = not_survived, width = 0.5);\n",
        "plt.xticks([1,2], labels = [\"Female\", \"Male\"]);\n",
        "plt.legend((plt1[0], plt2[0]), ('Died', 'Survived'));\n",
        "plt.xlabel(\"Sex\");\n",
        "plt.ylabel(\"Passenger Count\");\n",
        "plt.show()"
      ],
      "execution_count": 1155,
      "outputs": [
        {
          "output_type": "display_data",
          "data": {
            "image/png": "[encoded data removed]",
            "text/plain": [
              "<Figure size 432x288 with 1 Axes>"
            ]
          },
          "metadata": {
            "tags": [],
            "needs_background": "light"
          }
        }
      ]
    },
    {
      "cell_type": "code",
      "metadata": {
        "id": "CUTgi4j2USWu",
        "colab_type": "code",
        "colab": {}
      },
      "source": [
        "survived = np.asarray(query(\"Titanic.db\", \"SELECT Age from Train_DB WHERE Survived=1 AND Age != 'None'\")).flatten()\n",
        "not_survived = np.asarray(query(\"Titanic.db\", \"SELECT Age from Train_DB WHERE Survived=0 AND Age != 'None'\")).flatten()"
      ],
      "execution_count": 1156,
      "outputs": []
    },
    {
      "cell_type": "code",
      "metadata": {
        "id": "DfCo4yrXbSro",
        "colab_type": "code",
        "colab": {
          "base_uri": "https://localhost:8080/",
          "height": 280
        },
        "outputId": "bc271866-727f-441d-c6cb-f1bff5a04404"
      },
      "source": [
        "plt1 = plt.hist([not_survived,survived],10,density= False, histtype='bar', stacked= True)\n",
        "plt.legend( ('Died', 'Survived'));\n",
        "plt.xlabel(\"Age\")\n",
        "plt.ylabel(\"Count\")\n",
        "plt.show()"
      ],
      "execution_count": 1157,
      "outputs": [
        {
          "output_type": "display_data",
          "data": {
            "image/png": "[encoded data removed]",
            "text/plain": [
              "<Figure size 432x288 with 1 Axes>"
            ]
          },
          "metadata": {
            "tags": [],
            "needs_background": "light"
          }
        }
      ]
    },
    {
      "cell_type": "markdown",
      "metadata": {
        "id": "ZZH89jEsGP4Y",
        "colab_type": "text"
      },
      "source": [
        "#Pandas Feature Engineering\n",
        "\n",
        "\n"
      ]
    },
    {
      "cell_type": "code",
      "metadata": {
        "id": "exXgSWPRGJjn",
        "colab_type": "code",
        "colab": {
          "base_uri": "https://localhost:8080/",
          "height": 0
        },
        "outputId": "c6fd0d14-e755-4038-a957-a5c3e78c621a"
      },
      "source": [
        "train.isna().sum()"
      ],
      "execution_count": 1158,
      "outputs": [
        {
          "output_type": "execute_result",
          "data": {
            "text/plain": [
              "PassengerId      0\n",
              "Pclass           0\n",
              "Name             0\n",
              "Sex              0\n",
              "Age            149\n",
              "Ticket           0\n",
              "Fare             0\n",
              "Cabin          578\n",
              "Embarked         2\n",
              "Family Size      0\n",
              "dtype: int64"
            ]
          },
          "metadata": {
            "tags": []
          },
          "execution_count": 1158
        }
      ]
    },
    {
      "cell_type": "code",
      "metadata": {
        "id": "hTtfPNkvGM5y",
        "colab_type": "code",
        "colab": {}
      },
      "source": [
        "#fill unknown age with mean\n",
        "train.Age.fillna((train.Age.mean()),inplace = True)\n",
        "val.Age.fillna((val.Age.mean()),inplace = True)"
      ],
      "execution_count": 1159,
      "outputs": []
    },
    {
      "cell_type": "code",
      "metadata": {
        "id": "bKR3yYY-HO3D",
        "colab_type": "code",
        "colab": {}
      },
      "source": [
        "#fill unkown age with \"Unknown\" \n",
        "#keep first letter of cabin as cabin section\n",
        "def firstletter(str):\n",
        "    #replaces NaN values with string \"Unknown\"\n",
        "    #otherwise return the first letter of the string\n",
        "    if pd.isna(str):\n",
        "        return \"Unknown\"\n",
        "    else:\n",
        "        return str[0]\n",
        "\n",
        "train['Cabin']=train['Cabin'].apply(firstletter)\n",
        "val['Cabin']=val['Cabin'].apply(firstletter)"
      ],
      "execution_count": 1160,
      "outputs": []
    },
    {
      "cell_type": "code",
      "metadata": {
        "id": "j9Z7_mkUHjXg",
        "colab_type": "code",
        "colab": {}
      },
      "source": [
        "train.Embarked.fillna((train.Embarked.mode()[0]),inplace = True)\n",
        "val.Embarked.fillna((val.Embarked.mode()[0]),inplace = True)"
      ],
      "execution_count": 1161,
      "outputs": []
    },
    {
      "cell_type": "code",
      "metadata": {
        "id": "sNDmjQVHH4rG",
        "colab_type": "code",
        "colab": {
          "base_uri": "https://localhost:8080/",
          "height": 0
        },
        "outputId": "37f89e32-386a-4bf1-ff0f-aa5568c76822"
      },
      "source": [
        "train.isna().sum()"
      ],
      "execution_count": 1162,
      "outputs": [
        {
          "output_type": "execute_result",
          "data": {
            "text/plain": [
              "PassengerId    0\n",
              "Pclass         0\n",
              "Name           0\n",
              "Sex            0\n",
              "Age            0\n",
              "Ticket         0\n",
              "Fare           0\n",
              "Cabin          0\n",
              "Embarked       0\n",
              "Family Size    0\n",
              "dtype: int64"
            ]
          },
          "metadata": {
            "tags": []
          },
          "execution_count": 1162
        }
      ]
    },
    {
      "cell_type": "markdown",
      "metadata": {
        "id": "bLiKeEOUIoLR",
        "colab_type": "text"
      },
      "source": [
        "#SQL Database feature engineering"
      ]
    },
    {
      "cell_type": "code",
      "metadata": {
        "id": "TxaRoQ5kIuTe",
        "colab_type": "code",
        "colab": {}
      },
      "source": [
        "train_average_age = query(\"Titanic.db\",\"SELECT AVG(Age) FROM Train_db\")[0][0]\n",
        "val_average_age = query(\"Titanic.db\",\"SELECT AVG(Age) FROM Val_db\")[0][0]"
      ],
      "execution_count": 1163,
      "outputs": []
    },
    {
      "cell_type": "code",
      "metadata": {
        "id": "p0L4DP4RRMMN",
        "colab_type": "code",
        "colab": {}
      },
      "source": [
        "#Update values of NONE with the average age in the Age column\n",
        "connection = sql.connect(\"Titanic.db\")\n",
        "connection.cursor().execute(\"UPDATE Train_db SET Age = (?) WHERE Age IS NULL\", (train_average_age,))\n",
        "connection.commit()\n",
        "connection.close()\n",
        "\n",
        "connection = sql.connect(\"Titanic.db\")\n",
        "connection.cursor().execute(\"UPDATE Val_db SET Age = (?) WHERE Age IS NULL\", (val_average_age,))\n",
        "connection.commit()\n",
        "connection.close()"
      ],
      "execution_count": 1164,
      "outputs": []
    },
    {
      "cell_type": "code",
      "metadata": {
        "id": "N_25phRZRJWV",
        "colab_type": "code",
        "colab": {
          "base_uri": "https://localhost:8080/",
          "height": 34
        },
        "outputId": "b93c6981-80e0-4a85-98a5-2f1fc3459688"
      },
      "source": [
        "query(\"Titanic.db\", \"SELECT AGE from Train_db where Age IS NULL\") #No more null"
      ],
      "execution_count": 1165,
      "outputs": [
        {
          "output_type": "execute_result",
          "data": {
            "text/plain": [
              "[]"
            ]
          },
          "metadata": {
            "tags": []
          },
          "execution_count": 1165
        }
      ]
    },
    {
      "cell_type": "markdown",
      "metadata": {
        "id": "wrZuMabJbGd2",
        "colab_type": "text"
      },
      "source": [
        "Merge SibSP and Parch into Familty_size"
      ]
    },
    {
      "cell_type": "code",
      "metadata": {
        "id": "AKHdGXyZXvcH",
        "colab_type": "code",
        "colab": {}
      },
      "source": [
        "sumgroup = query(\"Titanic.db\", \"SELECT Parch + SibSp + 1,Passengerid FROM Train_db\")\n",
        "query(\"Titanic.db\", \"ALTER TABLE TRAIN_db ADD FamilySize int \")\n",
        "#sqlite3 doesnt support ALTER TABLE DROP so we'll just keep sibsp and parch\n",
        "connection = sql.connect(\"Titanic.db\")\n",
        "connection.executemany(\"UPDATE Train_db SET FamilySize = (?) WHERE PassengerId = (?)\", sumgroup) #To update the entire column, we need to index by unique row labels PassengerId (or Index) and call execute many\n",
        "connection.commit()\n",
        "connection.close()"
      ],
      "execution_count": 1166,
      "outputs": []
    },
    {
      "cell_type": "code",
      "metadata": {
        "id": "ZjH4y0-Ptmvh",
        "colab_type": "code",
        "colab": {}
      },
      "source": [
        "sumgroupval = query(\"Titanic.db\", \"SELECT Parch + SibSp + 1,Passengerid FROM Val_db\")\n",
        "query(\"Titanic.db\", \"ALTER TABLE Val_db ADD FamilySize int \")\n",
        "#sqlite3 doesnt support ALTER TABLE DROP so we'll just keep sibsp and parch\n",
        "connection = sql.connect(\"Titanic.db\")\n",
        "connection.executemany(\"UPDATE Val_db SET FamilySize = (?) WHERE PassengerId = (?)\", sumgroupval) #To update the entire column, we need to index by unique row labels PassengerId (or Index) and call execute many\n",
        "connection.commit()\n",
        "connection.close()"
      ],
      "execution_count": 1167,
      "outputs": []
    },
    {
      "cell_type": "markdown",
      "metadata": {
        "id": "gVvdwC_WNGMg",
        "colab_type": "text"
      },
      "source": [
        "Fill Null in embarked with the mode"
      ]
    },
    {
      "cell_type": "code",
      "metadata": {
        "id": "_RE-tX5MeMCS",
        "colab_type": "code",
        "colab": {}
      },
      "source": [
        "train_embarked_mode = query(\"Titanic.db\",\"SELECT Embarked FROM Train_db GROUP BY [Embarked] ORDER BY COUNT(*) DESC\")[0] #Sort by most common, take first\n",
        "val_embarked_mode=query(\"Titanic.db\",\"SELECT Embarked FROM Val_db GROUP BY [Embarked] ORDER BY COUNT(*) DESC\")[0]"
      ],
      "execution_count": 1168,
      "outputs": []
    },
    {
      "cell_type": "code",
      "metadata": {
        "id": "utIQdk9_sQcz",
        "colab_type": "code",
        "colab": {}
      },
      "source": [
        "connection = sql.connect(\"Titanic.db\")\n",
        "\n",
        "connection.cursor().execute(\"UPDATE Train_db SET Embarked = (?) WHERE Embarked IS NULL\", train_embarked_mode)\n",
        "\n",
        "connection.cursor().execute(\"UPDATE Val_db SET Embarked = (?) WHERE Embarked IS NULL\", val_embarked_mode)\n",
        "\n",
        "connection.commit()\n",
        "connection.close()"
      ],
      "execution_count": 1169,
      "outputs": []
    },
    {
      "cell_type": "markdown",
      "metadata": {
        "id": "fnztg6iztPpL",
        "colab_type": "text"
      },
      "source": [
        "Replace Cabin with first Letter of Cabin(Cabin Section) or \"Unknown\""
      ]
    },
    {
      "cell_type": "code",
      "metadata": {
        "id": "UjcWI9eFtNvo",
        "colab_type": "code",
        "colab": {}
      },
      "source": [
        "connection = sql.connect(\"Titanic.db\")\n",
        "connection.execute(\"UPDATE Train_db SET Cabin = SUBSTR(Cabin, 1, 1)\")\n",
        "connection.execute(\"UPDATE Val_db SET Cabin = SUBSTR(Cabin, 1, 1)\")\n",
        "connection.commit()\n",
        "connection.close()"
      ],
      "execution_count": 1170,
      "outputs": []
    },
    {
      "cell_type": "markdown",
      "metadata": {
        "id": "FviAF1XJv3Bf",
        "colab_type": "text"
      },
      "source": [
        "#Classification"
      ]
    },
    {
      "cell_type": "code",
      "metadata": {
        "id": "SDcW8Aqav2r6",
        "colab_type": "code",
        "colab": {}
      },
      "source": [
        "from sklearn.ensemble import RandomForestClassifier"
      ],
      "execution_count": 1171,
      "outputs": []
    },
    {
      "cell_type": "code",
      "metadata": {
        "id": "VPmBtfxXwQ3V",
        "colab_type": "code",
        "colab": {}
      },
      "source": [
        "train.pop('Ticket');\n",
        "train.pop('PassengerId');\n",
        "train.pop('Name');"
      ],
      "execution_count": 1172,
      "outputs": []
    },
    {
      "cell_type": "code",
      "metadata": {
        "id": "BYjt8eM7wXRb",
        "colab_type": "code",
        "colab": {}
      },
      "source": [
        "val.pop('Ticket');\n",
        "val.pop('PassengerId');\n",
        "val.pop('Name');"
      ],
      "execution_count": 1173,
      "outputs": []
    },
    {
      "cell_type": "code",
      "metadata": {
        "id": "E3uZWcNRxt97",
        "colab_type": "code",
        "colab": {}
      },
      "source": [
        "def obj_to_int(df,col):\n",
        "  df[col] = df[col].astype(\"category\")\n",
        "  df[col] = df[col].cat.codes"
      ],
      "execution_count": 1174,
      "outputs": []
    },
    {
      "cell_type": "code",
      "metadata": {
        "id": "K8Fq-OE6yjKt",
        "colab_type": "code",
        "colab": {}
      },
      "source": [
        "obj_to_int(val,\"Sex\")\n",
        "obj_to_int(val,\"Cabin\")\n",
        "obj_to_int(val,\"Embarked\")\n",
        "obj_to_int(train,\"Sex\")\n",
        "obj_to_int(train,\"Cabin\")\n",
        "obj_to_int(train,\"Embarked\")"
      ],
      "execution_count": 1175,
      "outputs": []
    },
    {
      "cell_type": "code",
      "metadata": {
        "id": "ZGiRqBkCv_Ps",
        "colab_type": "code",
        "colab": {
          "base_uri": "https://localhost:8080/",
          "height": 158
        },
        "outputId": "cee4bb3d-4d06-4a1b-91bf-4af706dc1e2d"
      },
      "source": [
        "classifier = rf = RandomForestClassifier(criterion='gini', \n",
        "                             n_estimators=300,\n",
        "                             min_samples_split=10,\n",
        "                             min_samples_leaf=1,\n",
        "                             max_features='auto')\n",
        "classifier.fit(train, y_train)"
      ],
      "execution_count": 1176,
      "outputs": [
        {
          "output_type": "execute_result",
          "data": {
            "text/plain": [
              "RandomForestClassifier(bootstrap=True, ccp_alpha=0.0, class_weight=None,\n",
              "                       criterion='gini', max_depth=None, max_features='auto',\n",
              "                       max_leaf_nodes=None, max_samples=None,\n",
              "                       min_impurity_decrease=0.0, min_impurity_split=None,\n",
              "                       min_samples_leaf=1, min_samples_split=10,\n",
              "                       min_weight_fraction_leaf=0.0, n_estimators=300,\n",
              "                       n_jobs=None, oob_score=False, random_state=None,\n",
              "                       verbose=0, warm_start=False)"
            ]
          },
          "metadata": {
            "tags": []
          },
          "execution_count": 1176
        }
      ]
    },
    {
      "cell_type": "code",
      "metadata": {
        "id": "VZfpoxg-zyFn",
        "colab_type": "code",
        "colab": {
          "base_uri": "https://localhost:8080/",
          "height": 34
        },
        "outputId": "ff0cf356-34ee-45b8-d77e-567b869a88d9"
      },
      "source": [
        "predictions = classifier.predict(val)\n",
        "accuracy = (y_val == predictions).sum()/len(predictions)\n",
        "print(\"Accuracy of {}%\".format(int(100*accuracy)))"
      ],
      "execution_count": 1177,
      "outputs": [
        {
          "output_type": "stream",
          "text": [
            "Accuracy of 81%\n"
          ],
          "name": "stdout"
        }
      ]
    },
    {
      "cell_type": "code",
      "metadata": {
        "id": "mi0EAK4x58wW",
        "colab_type": "code",
        "colab": {}
      },
      "source": [
        "test_df = pd.read_csv(test_path)\n",
        "test_connect = sql.connect(\"Titanic_test.db\")\n",
        "test_df.to_sql(\"Test_db\",test_connect)"
      ],
      "execution_count": 1178,
      "outputs": []
    },
    {
      "cell_type": "code",
      "metadata": {
        "id": "ZxmohtWs0gWz",
        "colab_type": "code",
        "colab": {}
      },
      "source": [
        "\n",
        "\n",
        "test_df.Age.fillna((test_df.Age.mean()),inplace = True)\n",
        "test_df.Embarked.fillna((test_df.Embarked.mode()[0]),inplace = True)\n",
        "test_df['Cabin']=test_df['Cabin'].apply(firstletter)\n",
        "test_df = add_groupsize(test_df);\n",
        "test_df.pop('Ticket');\n",
        "test_df.pop('PassengerId');\n",
        "test_df.pop('Name');\n",
        "test_df.pop(\"Survived\");\n",
        "obj_to_int(test_df,\"Sex\");\n",
        "obj_to_int(test_df,\"Cabin\");\n",
        "obj_to_int(test_df,\"Embarked\");"
      ],
      "execution_count": 1179,
      "outputs": []
    },
    {
      "cell_type": "code",
      "metadata": {
        "id": "W9BL9KXn1ivI",
        "colab_type": "code",
        "colab": {}
      },
      "source": [
        "predictions_test = classifier.predict(test_df)"
      ],
      "execution_count": 1180,
      "outputs": []
    },
    {
      "cell_type": "code",
      "metadata": {
        "id": "2__JUEln_G7F",
        "colab_type": "code",
        "colab": {}
      },
      "source": [
        "ids = query(\"Titanic_test.db\", \"SELECT PassengerID from Test_db\")"
      ],
      "execution_count": 1181,
      "outputs": []
    },
    {
      "cell_type": "code",
      "metadata": {
        "id": "Zyqq9h7N4kGs",
        "colab_type": "code",
        "colab": {}
      },
      "source": [
        "prediction_col = [(int(predictions_test[i]),ids[i][0]) for i in range(len(ids))]"
      ],
      "execution_count": 1182,
      "outputs": []
    },
    {
      "cell_type": "code",
      "metadata": {
        "id": "1VATXco05dSz",
        "colab_type": "code",
        "colab": {}
      },
      "source": [
        "connection = sql.connect(\"Titanic_test.db\")\n",
        "connection.cursor().execute(\"ALTER TABLE Test_db ADD Predictions int\")\n",
        "connection.cursor().executemany(\"UPDATE Test_db SET Predictions = (?) WHERE PassengerId = (?)\",prediction_col)\n",
        "connection.commit()\n",
        "connection.close()"
      ],
      "execution_count": 1184,
      "outputs": []
    },
    {
      "cell_type": "code",
      "metadata": {
        "id": "CDYUwxaxCxgN",
        "colab_type": "code",
        "colab": {
          "base_uri": "https://localhost:8080/",
          "height": 34
        },
        "outputId": "16ef81a8-1a17-42d1-eeeb-082a820bd8e5"
      },
      "source": [
        "query(\"Titanic_test.db\", \"SELECT COUNT(*) FROM test_db GROUP BY Predictions \")"
      ],
      "execution_count": 1192,
      "outputs": [
        {
          "output_type": "execute_result",
          "data": {
            "text/plain": [
              "[(598,), (293,)]"
            ]
          },
          "metadata": {
            "tags": []
          },
          "execution_count": 1192
        }
      ]
    }
  ]
}