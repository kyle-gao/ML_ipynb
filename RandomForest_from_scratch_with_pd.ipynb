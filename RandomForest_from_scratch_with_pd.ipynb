{
  "nbformat": 4,
  "nbformat_minor": 0,
  "metadata": {
    "colab": {
      "name": "RandomForest_from_scratch_with_pd.ipynb",
      "provenance": [],
      "collapsed_sections": [],
      "authorship_tag": "ABX9TyNQik1fsS2fRD5nL8o9DW1r",
      "include_colab_link": true
    },
    "kernelspec": {
      "name": "python3",
      "display_name": "Python 3"
    }
  },
  "cells": [
    {
      "cell_type": "markdown",
      "metadata": {
        "id": "view-in-github",
        "colab_type": "text"
      },
      "source": [
        "<a href=\"https://colab.research.google.com/github/kyle-gao/ML_ipynb/blob/master/RandomForest_from_scratch_with_pd.ipynb\" target=\"_parent\"><img src=\"https://colab.research.google.com/assets/colab-badge.svg\" alt=\"Open In Colab\"/></a>"
      ]
    },
    {
      "cell_type": "markdown",
      "metadata": {
        "id": "XnzCT_WQ3P2t",
        "colab_type": "text"
      },
      "source": [
        "Copyright 2020 Yi Lin(Kyle) Gao\n",
        "\n",
        "Licensed under the Apache License, Version 2.0 (the \"License\"); you may not use this file except in compliance with the License. You may obtain a copy of the License at http://www.apache.org/licenses/LICENSE-2.0 .\n"
      ]
    },
    {
      "cell_type": "code",
      "metadata": {
        "id": "L4s1cHumPqXI",
        "colab_type": "code",
        "colab": {}
      },
      "source": [
        "import numpy as np\n",
        "import pandas as pd\n",
        "from sklearn import datasets\n",
        "from collections import OrderedDict"
      ],
      "execution_count": 336,
      "outputs": []
    },
    {
      "cell_type": "code",
      "metadata": {
        "id": "CweAKT_sQPkC",
        "colab_type": "code",
        "colab": {}
      },
      "source": [
        "iris = datasets.load_iris()"
      ],
      "execution_count": 337,
      "outputs": []
    },
    {
      "cell_type": "code",
      "metadata": {
        "id": "IUblpQUW5wrx",
        "colab_type": "code",
        "colab": {}
      },
      "source": [
        "x = iris.data\n",
        "y = iris.target[:,np.newaxis]"
      ],
      "execution_count": 338,
      "outputs": []
    },
    {
      "cell_type": "code",
      "metadata": {
        "id": "BIQa2HJeQnI3",
        "colab_type": "code",
        "colab": {}
      },
      "source": [
        "columns = ['Sepal Length', 'Sepal Width', 'Petal Length', 'Petal Width', \"Target\"]\n",
        "df = pd.DataFrame(np.concatenate((x,y),axis=1), columns =  columns)\n",
        "df.Target = df.Target.astype('category')"
      ],
      "execution_count": 339,
      "outputs": []
    },
    {
      "cell_type": "markdown",
      "metadata": {
        "id": "F76RHG0_m_3P",
        "colab_type": "text"
      },
      "source": [
        "We shuffle the rows of the dataframe, and split into train and test sets. "
      ]
    },
    {
      "cell_type": "code",
      "metadata": {
        "id": "SM6qGdZAms_G",
        "colab_type": "code",
        "colab": {}
      },
      "source": [
        "#len(df) = 150\n",
        "df = df.sample(frac=1)\n",
        "df_train = df[:125]\n",
        "df_test = df[125:]"
      ],
      "execution_count": 340,
      "outputs": []
    },
    {
      "cell_type": "code",
      "metadata": {
        "id": "zztKDOrM3vfi",
        "colab_type": "code",
        "colab": {}
      },
      "source": [
        "def partition(df, column, value):\n",
        "  \"\"\"\n",
        "  rows - a dataframe\n",
        "  column - a column label, string or int\n",
        "  value - if a float, then the question >= ? is asked. if categorical the question ==? is asked.\n",
        "  Returns a list of rows for which the question is True and one for which question is False.\n",
        "  \"\"\"\n",
        "  if df[column].dtype.name in [\"category\",\"object\",\"bool\"]:\n",
        "    return df.loc[df[column]==value], df.loc[df[column]!=value]\n",
        "  else:\n",
        "    return df.loc[df[column]>=value], df.loc[df[column]<value]"
      ],
      "execution_count": 341,
      "outputs": []
    },
    {
      "cell_type": "code",
      "metadata": {
        "id": "F1gWsQdoSRLn",
        "colab_type": "code",
        "colab": {}
      },
      "source": [
        "def gini_impurity(df):\n",
        "  \"\"\"\n",
        "  input:\n",
        "  df - a dataframe with the last column containing class labels\n",
        "  returns: \n",
        "  the gini impurity\"\"\"\n",
        "\n",
        "  counts = df.iloc[:,-1].value_counts()\n",
        "  impurity = 1\n",
        "  for label in counts.index:\n",
        "    if df.iloc[:,-1].dtype.name == 'category' and isinstance(label,float):\n",
        "      label = int(label)\n",
        "      prob_label = counts.iloc[label]/counts.sum()\n",
        "    else:\n",
        "      prob_label = counts[label]/counts.sum() \n",
        "    impurity = impurity - prob_label**2\n",
        "  return impurity"
      ],
      "execution_count": 342,
      "outputs": []
    },
    {
      "cell_type": "code",
      "metadata": {
        "id": "J6qhk7v1_xPh",
        "colab_type": "code",
        "colab": {}
      },
      "source": [
        "def information_gain(left, right, current):\n",
        "  \"\"\"Returns the information gain of a node split\"\"\"\n",
        "\n",
        "  p = float(len(left))/(len(left)+len(right))\n",
        "  return current -p * gini_impurity(left) - (1-p)*gini_impurity(right)\n"
      ],
      "execution_count": 343,
      "outputs": []
    },
    {
      "cell_type": "code",
      "metadata": {
        "id": "lrmfuoiGBl4H",
        "colab_type": "code",
        "colab": {
          "base_uri": "https://localhost:8080/",
          "height": 34
        },
        "outputId": "07503dbe-e247-43c4-bb04-ca71c721bc84"
      },
      "source": [
        "#test\n",
        "current = gini_impurity(df)\n",
        "left,right = partition(df,\"Sepal Width\", 3.0)\n",
        "information_gain(left,right,current)"
      ],
      "execution_count": 344,
      "outputs": [
        {
          "output_type": "execute_result",
          "data": {
            "text/plain": [
              "0.09771741180909241"
            ]
          },
          "metadata": {
            "tags": []
          },
          "execution_count": 344
        }
      ]
    },
    {
      "cell_type": "code",
      "metadata": {
        "id": "Z_9ZgArLGfvj",
        "colab_type": "code",
        "colab": {}
      },
      "source": [
        "def best_split(df):\n",
        "  \"\"\"\n",
        "  Finds the best partition over the feature columns\n",
        "  Input:\n",
        "  df - a pd.Dataframe\n",
        "  Returns:\n",
        "  best_gain - information gain of best partition\n",
        "  saved_col - the partition feature\n",
        "  saved_value - the partition threshold/value\n",
        "  \"\"\"\n",
        "  current = gini_impurity(df)\n",
        "  best_gain = 0\n",
        "  saved_col = None\n",
        "  saved_value = None\n",
        "\n",
        "  for column in df.columns[:-1]:\n",
        "    values = df[column]\n",
        "    for value in values:\n",
        "      # split the data\n",
        "      left, right = partition(df, column, value)\n",
        "      # skip the split if one of the splits is empty\n",
        "      if len(left) == 0 or len(right) == 0:\n",
        "        continue\n",
        "      info_gain = information_gain(left, right, current)\n",
        "      if info_gain > best_gain:\n",
        "        best_gain = info_gain\n",
        "        saved_col = column\n",
        "        saved_value = value\n",
        "  return best_gain, saved_col, saved_value"
      ],
      "execution_count": 345,
      "outputs": []
    },
    {
      "cell_type": "code",
      "metadata": {
        "id": "7X7MHKc3Sd6Q",
        "colab_type": "code",
        "colab": {}
      },
      "source": [
        "training_data = [\n",
        "    ['Green', 3, 'Apple'],\n",
        "    ['Yellow', 3, 'Apple'],\n",
        "    ['Red', 1, 'Grape'],\n",
        "    ['Red', 1, 'Grape'],\n",
        "    ['Yellow', 3, 'Lemon'],\n",
        "]\n",
        "df_train = pd.DataFrame(training_data, columns = [\"Color\", \"Number\", \"Target\"])"
      ],
      "execution_count": 346,
      "outputs": []
    },
    {
      "cell_type": "code",
      "metadata": {
        "id": "S6D54KVlRnqS",
        "colab_type": "code",
        "colab": {}
      },
      "source": [
        "class Leaf:\n",
        "  def __init__(self, df):\n",
        "\n",
        "    #a dictionary of counts of target classes in the Leaf's branch\n",
        "    self.predictions = df.iloc[:,-1].value_counts().to_dict()\n",
        "    self.predictions = OrderedDict(sorted(self.predictions.items()))\n",
        "    self.__sum = np.asarray(list(self.predictions.values())).astype(float).sum()\n",
        "\n",
        "    #normalize the counts to return a dictionary of confidences\n",
        "    self.predict = {key:str(value/self.__sum) for (key,value) in self.predictions.items()}\n",
        "    self.predict = OrderedDict(sorted(self.predict.items()))"
      ],
      "execution_count": 347,
      "outputs": []
    },
    {
      "cell_type": "code",
      "metadata": {
        "id": "pOfRqxokTN71",
        "colab_type": "code",
        "colab": {}
      },
      "source": [
        "class Node:\n",
        "  def __init__(self, col, value, left, right):\n",
        "    \"\"\"\n",
        "    Inputs:\n",
        "    col - a dataframe column index\n",
        "    value - a value in the column\n",
        "    left - a dataframe\n",
        "    right - a dataframe\n",
        "    \"\"\"\n",
        "\n",
        "    self.threshold = (col,value)\n",
        "    self.left = left\n",
        "    self.right = right"
      ],
      "execution_count": 348,
      "outputs": []
    },
    {
      "cell_type": "code",
      "metadata": {
        "id": "yPGFichdTgyz",
        "colab_type": "code",
        "colab": {}
      },
      "source": [
        "def build_tree(df, depth = 0, max_depth = None):\n",
        "\n",
        "  \"\"\"Recursively build the tree from df using partitions calculated with CART\n",
        "    Inputs:\n",
        "    df - a pd.Dataframe\n",
        "    Returns:\n",
        "    a tree of Node and Leaf\"\"\"\n",
        "  \n",
        "  gain, col, val = best_split(df)\n",
        "\n",
        "  #base cases:\n",
        "  #reach Leaf node\n",
        "  #max depth is reached\n",
        "  if gain == 0:\n",
        "    return Leaf(df)\n",
        "  if isinstance(max_depth,int) and depth >= max_depth:\n",
        "    return Leaf(df)\n",
        "  \n",
        "  left, right = partition(df, col, val)\n",
        "\n",
        "  #recursive calls\n",
        "  left_branch = build_tree(left, depth + 1, max_depth)\n",
        "  right_branch = build_tree(right, depth + 1, max_depth)\n",
        "  return Node(col,val, left_branch, right_branch)"
      ],
      "execution_count": 349,
      "outputs": []
    },
    {
      "cell_type": "code",
      "metadata": {
        "id": "EXiBeRA5a-_k",
        "colab_type": "code",
        "colab": {}
      },
      "source": [
        "def print_tree(node, df, spacing= \"\"):\n",
        "    \"\"\"Recursively prints the tree from df \"\"\"\n",
        "\n",
        "    #base case: node is Leaf\n",
        "    if isinstance(node,Leaf):\n",
        "        print (spacing + \"Predict\", node.predict)\n",
        "        return\n",
        "\n",
        "    (col,val) = node.threshold\n",
        "    \n",
        "    if df[col].dtype.name in [\"category\",\"object\",\"bool\"]:\n",
        "      print( df[col].dtype.name )\n",
        "      print (spacing + str(col)+\"==\"+str(val)+\"?\")\n",
        "    else:\n",
        "      print (spacing + str(col)+\">=\"+str(val)+\"?\")     \n",
        "\n",
        "\n",
        "    #recursive calls  \n",
        "    print (spacing + '--> True:')\n",
        "    print_tree(node.left, df, spacing + \"  \")\n",
        "    print (spacing + '--> False:')\n",
        "    print_tree(node.right, df, spacing + \"  \")\n"
      ],
      "execution_count": 350,
      "outputs": []
    },
    {
      "cell_type": "code",
      "metadata": {
        "id": "ReOVgu2XV6nq",
        "colab_type": "code",
        "colab": {}
      },
      "source": [
        "tree = build_tree(df)"
      ],
      "execution_count": 351,
      "outputs": []
    },
    {
      "cell_type": "code",
      "metadata": {
        "id": "8MmGj1z0mQwn",
        "colab_type": "code",
        "colab": {
          "base_uri": "https://localhost:8080/",
          "height": 578
        },
        "outputId": "09ce6eda-7b7f-430d-c15f-76bdb2cf25a8"
      },
      "source": [
        "print_tree(tree, df)"
      ],
      "execution_count": 352,
      "outputs": [
        {
          "output_type": "stream",
          "text": [
            "Petal Length>=3.0?\n",
            "--> True:\n",
            "  Petal Width>=1.8?\n",
            "  --> True:\n",
            "    Petal Length>=4.9?\n",
            "    --> True:\n",
            "      Predict OrderedDict([(0.0, '0.0'), (1.0, '0.0'), (2.0, '1.0')])\n",
            "    --> False:\n",
            "      Sepal Length>=6.0?\n",
            "      --> True:\n",
            "        Predict OrderedDict([(0.0, '0.0'), (1.0, '0.0'), (2.0, '1.0')])\n",
            "      --> False:\n",
            "        Predict OrderedDict([(0.0, '0.0'), (1.0, '1.0'), (2.0, '0.0')])\n",
            "  --> False:\n",
            "    Petal Length>=5.0?\n",
            "    --> True:\n",
            "      Petal Width>=1.6?\n",
            "      --> True:\n",
            "        Sepal Length>=7.2?\n",
            "        --> True:\n",
            "          Predict OrderedDict([(0.0, '0.0'), (1.0, '0.0'), (2.0, '1.0')])\n",
            "        --> False:\n",
            "          Predict OrderedDict([(0.0, '0.0'), (1.0, '1.0'), (2.0, '0.0')])\n",
            "      --> False:\n",
            "        Predict OrderedDict([(0.0, '0.0'), (1.0, '0.0'), (2.0, '1.0')])\n",
            "    --> False:\n",
            "      Petal Width>=1.7?\n",
            "      --> True:\n",
            "        Predict OrderedDict([(0.0, '0.0'), (1.0, '0.0'), (2.0, '1.0')])\n",
            "      --> False:\n",
            "        Predict OrderedDict([(0.0, '0.0'), (1.0, '1.0'), (2.0, '0.0')])\n",
            "--> False:\n",
            "  Predict OrderedDict([(0.0, '1.0'), (1.0, '0.0'), (2.0, '0.0')])\n"
          ],
          "name": "stdout"
        }
      ]
    },
    {
      "cell_type": "code",
      "metadata": {
        "id": "Y1rEZl1GzQ5I",
        "colab_type": "code",
        "colab": {}
      },
      "source": [
        "def classify(row, node):\n",
        "    \"\"\"Recursively follow the tree\n",
        "      Inputs:\n",
        "      row - a dataframe row with features\n",
        "      node - a tree to traverse\n",
        "      returns:\n",
        "      a dictionary with predicted probabilities\"\"\"\n",
        "    if isinstance(node, Leaf):\n",
        "        return node.predict\n",
        "    col, val = node.threshold\n",
        "\n",
        "    if row[col].dtype.name == \"float64\":\n",
        "      if row[col]>=val:\n",
        "        return classify(row, node.left)\n",
        "      else:\n",
        "        return classify(row, node.right)\n",
        "    else:\n",
        "      if row[col]==val:\n",
        "        return classify(row, node.left)\n",
        "      else:\n",
        "        return classify(row, node.right)"
      ],
      "execution_count": 353,
      "outputs": []
    },
    {
      "cell_type": "code",
      "metadata": {
        "id": "dkFErAs1Ee6f",
        "colab_type": "code",
        "colab": {}
      },
      "source": [
        "def make_rand_tree(df, k, feature_num, depth = 0, max_depth = None):\n",
        "  \"\"\"Recursively build the tree from df using partitions calculated with feature subsampling\n",
        "    Inputs:\n",
        "    df - a pd.Dataframe\n",
        "    k - number of features to subsample\n",
        "    feature_num - total number of features\n",
        "    Returns:\n",
        "    a tree composed of Node and Leaf\n",
        "    \"\"\"\n",
        "\n",
        "  #Randomly choose k feature columns\n",
        "  columns_randindex = np.random.choice(np.arange(feature_num), k, replace = False)\n",
        "  columns_randindex = np.sort(columns_randindex)\n",
        "  columns = df.columns[columns_randindex]\n",
        "\n",
        "  reduced_df = df[columns]\n",
        "  #we calculate the split based on the reduced dataframe\n",
        "  gain, col, val = best_split(reduced_df)\n",
        "  if gain == 0:\n",
        "    return Leaf(df)\n",
        "  if isinstance(max_depth,int) and depth >= max_depth:\n",
        "    return Leaf(df)\n",
        "\n",
        "  left, right = partition(df, col, val)\n",
        "\n",
        "  #recursive calls\n",
        "  left_branch = make_rand_tree(left, k, feature_num, depth + 1, max_depth)\n",
        "  right_branch = make_rand_tree(right, k, feature_num, depth + 1, max_depth)\n",
        "  return Node(col, val, left_branch, right_branch)"
      ],
      "execution_count": 356,
      "outputs": []
    },
    {
      "cell_type": "code",
      "metadata": {
        "id": "jDsH6LuEooyj",
        "colab_type": "code",
        "colab": {}
      },
      "source": [
        "class Random_forest():\n",
        "  def __init__(self, k, m, df):\n",
        "    \"\"\" \n",
        "    Inputs:\n",
        "    k - number of features to subsample\n",
        "    m - number of trees\n",
        "    df - a pd.Dataframe\n",
        "    \"\"\"\n",
        "    self.k = k\n",
        "    self.m = m\n",
        "    self.df = df\n",
        "    self.num_features = len(df.columns) - 1\n",
        "    self.trees = None\n",
        "\n",
        "  def train(self, max_depth = None):\n",
        "    df_samples = [df.sample(frac = 1, replace = True) for i in range(self.m)]\n",
        "    self.trees = [make_rand_tree(df, self.k, self.num_features) for df in df_samples]\n",
        "\n",
        "  def predict(self, row):\n",
        "    \"\"\"Predicts an integer output of a single row. The prediction is returned as an integer corresponding to the index of the OrderedDict.\n",
        "      i.e. The classes are sorted, and the prediction returns the index.\n",
        "    \"\"\"\n",
        "\n",
        "    predictions = [classify(row, tree) for tree in self.trees]\n",
        "    average_pred = np.asarray([list(dic.values()) for dic in predictions]).astype(float)\n",
        "    average_pred = np.mean(average_pred, axis = 0)\n",
        "  \n",
        "    return np.argmax(average_pred)\n",
        "\n",
        "  def predictions(self, df):\n",
        "    \"\"\"\n",
        "    Outputs an array of predictions from the rows of Dataframe df\n",
        "    \"\"\"\n",
        "    predictions = []\n",
        "    for i in range(len(df)):\n",
        "      row = df.iloc[i]\n",
        "      predictions.append(forest_predict(row,self.trees))\n",
        "    return predictions\n",
        "\n",
        "  def evaluate(self,test):\n",
        "    \"\"\"\n",
        "    Outputs the prediction accuracy of a Dataframe test - test.iloc[:,-1] must be the target column\n",
        "    \"\"\"\n",
        "    length = float(len(test))     \n",
        "    predictions = self.predictions(test)\n",
        "\n",
        "    return ((predictions == test.iloc[:,-1])).sum()/length"
      ],
      "execution_count": 359,
      "outputs": []
    },
    {
      "cell_type": "code",
      "metadata": {
        "id": "8wOeOfovT3Su",
        "colab_type": "code",
        "colab": {}
      },
      "source": [
        "rand_forest = Random_forest(2, 4, df_train)"
      ],
      "execution_count": 360,
      "outputs": []
    },
    {
      "cell_type": "code",
      "metadata": {
        "id": "XCTrOQZQT8n7",
        "colab_type": "code",
        "colab": {}
      },
      "source": [
        "rand_forest.train()"
      ],
      "execution_count": 361,
      "outputs": []
    },
    {
      "cell_type": "code",
      "metadata": {
        "id": "ZNkmRTR8jvKJ",
        "colab_type": "code",
        "colab": {
          "base_uri": "https://localhost:8080/",
          "height": 34
        },
        "outputId": "f6b7ec27-7662-4d59-92a6-8214610ce2f3"
      },
      "source": [
        "rand_forest.evaluate(df_test)"
      ],
      "execution_count": 362,
      "outputs": [
        {
          "output_type": "execute_result",
          "data": {
            "text/plain": [
              "0.8"
            ]
          },
          "metadata": {
            "tags": []
          },
          "execution_count": 362
        }
      ]
    }
  ]
}
