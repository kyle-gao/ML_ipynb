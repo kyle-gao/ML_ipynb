{
  "nbformat": 4,
  "nbformat_minor": 0,
  "metadata": {
    "colab": {
      "name": "K_fold_validation_and_bagging.ipynb",
      "provenance": [],
      "authorship_tag": "ABX9TyMHmXY8tQZV0FMa3K30lqJg",
      "include_colab_link": true
    },
    "kernelspec": {
      "name": "python3",
      "display_name": "Python 3"
    }
  },
  "cells": [
    {
      "cell_type": "markdown",
      "metadata": {
        "id": "view-in-github",
        "colab_type": "text"
      },
      "source": [
        "<a href=\"https://colab.research.google.com/github/kyle-gao/ML_ipynb/blob/master/K_fold_validation_and_bagging.ipynb\" target=\"_parent\"><img src=\"https://colab.research.google.com/assets/colab-badge.svg\" alt=\"Open In Colab\"/></a>"
      ]
    },
    {
      "cell_type": "markdown",
      "metadata": {
        "id": "YM1CaXL6iob_",
        "colab_type": "text"
      },
      "source": [
        "Copyright 2020 Yi Lin(Kyle) Gao\n",
        "\n",
        "Licensed under the Apache License, Version 2.0 (the \"License\"); you may not use this file except in compliance with the License. You may obtain a copy of the License at http://www.apache.org/licenses/LICENSE-2.0 ."
      ]
    },
    {
      "cell_type": "code",
      "metadata": {
        "id": "5Hih-HG7j4Be",
        "colab_type": "code",
        "colab": {}
      },
      "source": [
        "import tensorflow as tf\n",
        "import tensorflow_datasets as tfds\n",
        "import numpy as np"
      ],
      "execution_count": null,
      "outputs": []
    },
    {
      "cell_type": "markdown",
      "metadata": {
        "id": "cppzp3cXj_K-",
        "colab_type": "text"
      },
      "source": [
        "# Dataset preparation functions\n",
        "For k-fold cross-validation, we make use of the tf.data.Dataset(split) to split the training dataset into k splits.\n",
        "\n",
        "We create k (train_ds,test_ds) pairs. The ith pair's test_ds is the ith split. The ith pair's train_ds consists of the other k-1 splits.\n",
        "\n",
        "Figure 3. in Ren, Qiubing & Li, Mingchao & Han, Shuai. (2019). Tectonic discrimination of olivine in basalt using data mining techniques based on major elements: a comparative study from multiple perspectives. Big Earth Data. 1-18. 10.1080/20964471.2019.1572452. \n",
        "\n",
        "![K-fold-cross-validation-method.png](data:image/png;base64,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)"
      ]
    },
    {
      "cell_type": "code",
      "metadata": {
        "id": "eM1T5FwjmnKL",
        "colab_type": "code",
        "colab": {}
      },
      "source": [
        "def make_splits(k, length):\n",
        "  \"\"\"\n",
        "  Returns a list of k strings of format [\"train[0:length/k]\", \"train[length/k:2*length/k]\"...]\n",
        "\n",
        "  \"\"\"\n",
        "  return [f\"train[{int(a*length/k)}:{int((a+1)*length/k)}]\" for a in range(k)]"
      ],
      "execution_count": null,
      "outputs": []
    },
    {
      "cell_type": "code",
      "metadata": {
        "id": "hqBSP-y32tGq",
        "colab_type": "code",
        "colab": {}
      },
      "source": [
        "def concatenate_ds_list (ds_list):\n",
        "  \"\"\"\n",
        "  Returns the concatenantion of a list of tf.data.Dataset\n",
        "  \n",
        "  \"\"\"\n",
        "  concat_ds = ds_list[0]\n",
        "  for i in range(1,len(ds_list)):\n",
        "    concat_ds = concat_ds.concatenate(ds_list[i])\n",
        "  return concat_ds\n",
        "\n",
        "def make_k_pairs (split_list):\n",
        "  \"\"\"Returns a list of (train_dataset, test_dataset) from a list of k datasets\n",
        "  - train_dataset is (k-1) times longer than test_dataset\n",
        "  - these are tf.data.Dataset objects\n",
        "  \"\"\"\n",
        "  k_pairs = []\n",
        "  for i in  range(len(split_list)):\n",
        "    copy_split=split_list.copy()\n",
        "    test_dataset = copy_split.pop(i) #for k splits, the first one becomes test_dataset\n",
        "    train_dataset = concatenate_ds_list(copy_split)\n",
        "    k_pairs.append((train_dataset, test_dataset))\n",
        "  return k_pairs"
      ],
      "execution_count": null,
      "outputs": []
    },
    {
      "cell_type": "code",
      "metadata": {
        "id": "RvphvzgB8E-n",
        "colab_type": "code",
        "colab": {
          "base_uri": "https://localhost:8080/",
          "height": 53
        },
        "outputId": "053a6ae1-f088-4991-ac38-126b41a7573d"
      },
      "source": [
        "\"\"\"#Testing\n",
        "splits = [tf.data.Dataset.range(3*i,3*(i+1)) for i in range(0,3)]\n",
        "k_splits = make_k_pairs(splits)\n",
        "k_splits =[(list(train),list(val)) for (train,val) in k_splits]\n",
        "k_splits[0]\"\"\""
      ],
      "execution_count": null,
      "outputs": [
        {
          "output_type": "execute_result",
          "data": {
            "application/vnd.google.colaboratory.intrinsic+json": {
              "type": "string"
            },
            "text/plain": [
              "'#Testing\\nsplits = [tf.data.Dataset.range(3*i,3*(i+1)) for i in range(0,3)]\\nk_splits = make_k_pairs(splits)\\nk_splits =[(list(train),list(val)) for (train,val) in k_splits]\\nk_splits[0]'"
            ]
          },
          "metadata": {
            "tags": []
          },
          "execution_count": 7
        }
      ]
    },
    {
      "cell_type": "code",
      "metadata": {
        "id": "AaD9TN1S4QVR",
        "colab_type": "code",
        "colab": {
          "base_uri": "https://localhost:8080/",
          "height": 53
        },
        "outputId": "8331ba20-2154-4998-a0aa-21e549746cc1"
      },
      "source": [
        "\"\"\"\n",
        "train, test = k_pairs[0]\n",
        "train = train.shuffle(1024).batch(16).map(norm).prefetch(tf.data.experimental.AUTOTUNE)\n",
        "test = test.batch(16)\n",
        "model = make_model()\n",
        "model.compile(optimizer='adam', loss='sparse_categorical_crossentropy', metrics = metrics)\n",
        "model.summary()\"\"\""
      ],
      "execution_count": null,
      "outputs": [
        {
          "output_type": "execute_result",
          "data": {
            "application/vnd.google.colaboratory.intrinsic+json": {
              "type": "string"
            },
            "text/plain": [
              "\"\\ntrain, test = k_pairs[0]\\ntrain = train.shuffle(1024).batch(16).map(norm).prefetch(tf.data.experimental.AUTOTUNE)\\ntest = test.batch(16)\\nmodel = make_model()\\nmodel.compile(optimizer='adam', loss='sparse_categorical_crossentropy', metrics = metrics)\\nmodel.summary()\""
            ]
          },
          "metadata": {
            "tags": []
          },
          "execution_count": 61
        }
      ]
    },
    {
      "cell_type": "markdown",
      "metadata": {
        "id": "iBeZmLAr4ReK",
        "colab_type": "text"
      },
      "source": [
        "Model definition"
      ]
    },
    {
      "cell_type": "code",
      "metadata": {
        "id": "9bWJe9QSn-hx",
        "colab_type": "code",
        "colab": {}
      },
      "source": [
        "def make_model():\n",
        "  \n",
        "  model=tf.keras.models.Sequential([\n",
        "                                    tf.keras.layers.Conv2D(input_shape=(28, 28, 1), kernel_size = 3,filters = 16),\n",
        "                                    tf.keras.layers.MaxPool2D(),\n",
        "                                    tf.keras.layers.Flatten(),\n",
        "                                    tf.keras.layers.Dense(units = 10, activation = 'softmax')\n",
        "                                   \n",
        "  ])\n",
        "  \n",
        "  return model"
      ],
      "execution_count": null,
      "outputs": []
    },
    {
      "cell_type": "markdown",
      "metadata": {
        "id": "5Sl84l-hvtHy",
        "colab_type": "text"
      },
      "source": [
        "# Training"
      ]
    },
    {
      "cell_type": "code",
      "metadata": {
        "id": "KTI01u_Nvw1L",
        "colab_type": "code",
        "colab": {}
      },
      "source": [
        "def cross_validate(optimizer, epochs = 2):\n",
        "  \"\"\"\n",
        "  Performs k-fold cross-validation for a given lr. Returns a list of models (tf.Models) and an accuracy (float).\n",
        "  \"\"\"\n",
        "  models = []\n",
        "  accuracies = []\n",
        "\n",
        "  def norm(data,label):\n",
        "    return tf.cast(data, tf.float32)/255.0, label\n",
        "\n",
        "  for i in range(k):\n",
        "\n",
        "    train, test = k_pairs[i]\n",
        "    train = train.shuffle(1024).batch(16).map(norm).prefetch(tf.data.experimental.AUTOTUNE)\n",
        "    test = test.batch(16).map(norm)\n",
        "\n",
        "    model = make_model()\n",
        "    model.compile(optimizer=optimizer, loss='sparse_categorical_crossentropy', metrics = ['acc'])\n",
        "    model.fit(train, epochs = epochs, verbose = False)\n",
        "\n",
        "    models.append(model)\n",
        "    accuracy = model.evaluate(test, return_dict= True, verbose = False)['acc']\n",
        "    accuracies.append(accuracy)\n",
        "\n",
        "    print(\"Fold: \", i+1,\" Validation accuracy: \", accuracy)\n",
        "\n",
        "  return models, np.mean(accuracies)"
      ],
      "execution_count": null,
      "outputs": []
    },
    {
      "cell_type": "code",
      "metadata": {
        "id": "uH0AeygEArBt",
        "colab_type": "code",
        "colab": {}
      },
      "source": [
        "def search_parameters(k, lr_list, num_examples = 6000):\n",
        "  \"\"\"\n",
        "  Performs k-fold cross-validation for a list of learning rates. \n",
        "  Returns a list of models (tf.Models) and cross-validation accuracy(float)\n",
        "  for the learning rate with the highest cross-validation accuracy.\n",
        "\n",
        "  \"\"\"\n",
        "\n",
        "  splits = make_splits(k+1, num_examples)\n",
        "  split_list = tfds.load('fashion_mnist', split = splits, as_supervised=True)\n",
        "  k_pairs = make_k_pairs(split_list)\n",
        "     \n",
        "  saved_acc = 0\n",
        "  saved_models = None\n",
        "  for lr in lr_list:\n",
        "    optimizer = tf.optimizers.Adam(lr)\n",
        "    models, cross_accuracy = cross_validate(optimizer, epochs = 2)\n",
        "    if cross_accuracy > saved_acc:\n",
        "      saved_acc = cross_accuracy\n",
        "      saved_models = models\n",
        "  return models, saved_acc\n"
      ],
      "execution_count": null,
      "outputs": []
    },
    {
      "cell_type": "code",
      "metadata": {
        "id": "lAiiRDxvId0Y",
        "colab_type": "code",
        "colab": {
          "base_uri": "https://localhost:8080/",
          "height": 329
        },
        "outputId": "0e4fc532-86ae-4693-c435-60c64df09037"
      },
      "source": [
        "lr_list = (0.001, 0.0003, 0.0001)\n",
        "models, saved_acc = search_parameters(k, lr_list)"
      ],
      "execution_count": null,
      "outputs": [
        {
          "output_type": "stream",
          "text": [
            "Fold:  1  Validation accuracy:  0.8270000219345093\n",
            "Fold:  2  Validation accuracy:  0.8460000157356262\n",
            "Fold:  3  Validation accuracy:  0.878000020980835\n",
            "Fold:  4  Validation accuracy:  0.8379999995231628\n",
            "Fold:  5  Validation accuracy:  0.8379999995231628\n",
            "Fold:  6  Validation accuracy:  0.8460000157356262\n",
            "Fold:  1  Validation accuracy:  0.7910000085830688\n",
            "Fold:  2  Validation accuracy:  0.8299999833106995\n",
            "Fold:  3  Validation accuracy:  0.8420000076293945\n",
            "Fold:  4  Validation accuracy:  0.7950000166893005\n",
            "Fold:  5  Validation accuracy:  0.8230000138282776\n",
            "Fold:  6  Validation accuracy:  0.8050000071525574\n",
            "Fold:  1  Validation accuracy:  0.7369999885559082\n",
            "Fold:  2  Validation accuracy:  0.8040000200271606\n",
            "Fold:  3  Validation accuracy:  0.7870000004768372\n",
            "Fold:  4  Validation accuracy:  0.75\n",
            "Fold:  5  Validation accuracy:  0.7839999794960022\n",
            "Fold:  6  Validation accuracy:  0.7630000114440918\n"
          ],
          "name": "stdout"
        }
      ]
    },
    {
      "cell_type": "code",
      "metadata": {
        "id": "d3rdKY2oMgW_",
        "colab_type": "code",
        "colab": {}
      },
      "source": [
        "test_ds = tfds.load('fashion_mnist', split = \"test[:10%]\", as_supervised=True)\n",
        "test_ds = test_ds.batch(16)"
      ],
      "execution_count": null,
      "outputs": []
    },
    {
      "cell_type": "markdown",
      "metadata": {
        "id": "udeEanhATAXd",
        "colab_type": "text"
      },
      "source": [
        "We evaluate the saved models on a dataset not seen during training."
      ]
    },
    {
      "cell_type": "code",
      "metadata": {
        "id": "xqKy6kNlRzUb",
        "colab_type": "code",
        "colab": {
          "base_uri": "https://localhost:8080/",
          "height": 35
        },
        "outputId": "9d53dfd3-923f-44d7-bcec-381081e5b201"
      },
      "source": [
        "evaluation = np.mean([model.evaluate(test_ds, return_dict= True, verbose = False)['acc'] for model in models])\n",
        "print(\"The mean accuracy on the test set is: \",evaluation)"
      ],
      "execution_count": null,
      "outputs": [
        {
          "output_type": "stream",
          "text": [
            "The mean accuracy on the test set is:  0.7385000089804331\n"
          ],
          "name": "stdout"
        }
      ]
    },
    {
      "cell_type": "markdown",
      "metadata": {
        "id": "a2yFSfFYVHbK",
        "colab_type": "text"
      },
      "source": [
        "# Prediction\n",
        "We can average the predictions of the models."
      ]
    },
    {
      "cell_type": "code",
      "metadata": {
        "id": "vo9ppBliUewp",
        "colab_type": "code",
        "colab": {}
      },
      "source": [
        "x = tfds.load('fashion_mnist', split = \"test[:10%]\", as_supervised=True)\n",
        "x = x.batch(1)\n",
        "x = x.take(1)"
      ],
      "execution_count": null,
      "outputs": []
    },
    {
      "cell_type": "code",
      "metadata": {
        "id": "oAm0TKrEU02e",
        "colab_type": "code",
        "colab": {}
      },
      "source": [
        "prediction = np.asarray([model.predict(x)[0] for model in models])"
      ],
      "execution_count": null,
      "outputs": []
    },
    {
      "cell_type": "code",
      "metadata": {
        "id": "aopQHqUDU39f",
        "colab_type": "code",
        "colab": {}
      },
      "source": [
        "def models_predict(x, models):\n",
        "  prediction = np.asarray([model.predict(x) for model in models])\n",
        "  return np.mean(prediction, axis= 0)"
      ],
      "execution_count": null,
      "outputs": []
    },
    {
      "cell_type": "code",
      "metadata": {
        "id": "g1m78vQbWU3Q",
        "colab_type": "code",
        "colab": {
          "base_uri": "https://localhost:8080/",
          "height": 69
        },
        "outputId": "dc3caca3-5268-46b0-8454-89bc1b383eea"
      },
      "source": [
        "models_predict(x, models)"
      ],
      "execution_count": null,
      "outputs": [
        {
          "output_type": "execute_result",
          "data": {
            "text/plain": [
              "array([[0.0000000e+00, 0.0000000e+00, 2.9709533e-08, 0.0000000e+00,\n",
              "        1.0000000e+00, 0.0000000e+00, 0.0000000e+00, 0.0000000e+00,\n",
              "        0.0000000e+00, 0.0000000e+00]], dtype=float32)"
            ]
          },
          "metadata": {
            "tags": []
          },
          "execution_count": 114
        }
      ]
    }
  ]
}