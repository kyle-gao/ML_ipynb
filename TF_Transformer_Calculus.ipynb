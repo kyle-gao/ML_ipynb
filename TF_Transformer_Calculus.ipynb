{
  "nbformat": 4,
  "nbformat_minor": 0,
  "metadata": {
    "colab": {
      "name": "TF_Transformer_Calculus.ipynb",
      "provenance": [],
      "collapsed_sections": [],
      "authorship_tag": "ABX9TyPD7ac8JtVEshoq3JCC2eVj",
      "include_colab_link": true
    },
    "kernelspec": {
      "name": "python3",
      "display_name": "Python 3"
    },
    "accelerator": "GPU",
    "widgets": {
      "application/vnd.jupyter.widget-state+json": {
        "849ab9281704465b81612d0af119944e": {
          "model_module": "@jupyter-widgets/controls",
          "model_name": "HBoxModel",
          "state": {
            "_view_name": "HBoxView",
            "_dom_classes": [],
            "_model_name": "HBoxModel",
            "_view_module": "@jupyter-widgets/controls",
            "_model_module_version": "1.5.0",
            "_view_count": null,
            "_view_module_version": "1.5.0",
            "box_style": "",
            "layout": "IPY_MODEL_2896e4667eab41dabc0e8a5426b73fcb",
            "_model_module": "@jupyter-widgets/controls",
            "children": [
              "IPY_MODEL_b24df65c099b43c18f98ed2610eaabf5",
              "IPY_MODEL_34f519c8bbfb4b308ae44cd9c3b40471"
            ]
          }
        },
        "2896e4667eab41dabc0e8a5426b73fcb": {
          "model_module": "@jupyter-widgets/base",
          "model_name": "LayoutModel",
          "state": {
            "_view_name": "LayoutView",
            "grid_template_rows": null,
            "right": null,
            "justify_content": null,
            "_view_module": "@jupyter-widgets/base",
            "overflow": null,
            "_model_module_version": "1.2.0",
            "_view_count": null,
            "flex_flow": null,
            "width": null,
            "min_width": null,
            "border": null,
            "align_items": null,
            "bottom": null,
            "_model_module": "@jupyter-widgets/base",
            "top": null,
            "grid_column": null,
            "overflow_y": null,
            "overflow_x": null,
            "grid_auto_flow": null,
            "grid_area": null,
            "grid_template_columns": null,
            "flex": null,
            "_model_name": "LayoutModel",
            "justify_items": null,
            "grid_row": null,
            "max_height": null,
            "align_content": null,
            "visibility": null,
            "align_self": null,
            "height": null,
            "min_height": null,
            "padding": null,
            "grid_auto_rows": null,
            "grid_gap": null,
            "max_width": null,
            "order": null,
            "_view_module_version": "1.2.0",
            "grid_template_areas": null,
            "object_position": null,
            "object_fit": null,
            "grid_auto_columns": null,
            "margin": null,
            "display": null,
            "left": null
          }
        },
        "b24df65c099b43c18f98ed2610eaabf5": {
          "model_module": "@jupyter-widgets/controls",
          "model_name": "FloatProgressModel",
          "state": {
            "_view_name": "ProgressView",
            "style": "IPY_MODEL_5cf24c2f615840e89dee1c2366064588",
            "_dom_classes": [],
            "description": "Dl Completed...: 100%",
            "_model_name": "FloatProgressModel",
            "bar_style": "success",
            "max": 1,
            "_view_module": "@jupyter-widgets/controls",
            "_model_module_version": "1.5.0",
            "value": 1,
            "_view_count": null,
            "_view_module_version": "1.5.0",
            "orientation": "horizontal",
            "min": 0,
            "description_tooltip": null,
            "_model_module": "@jupyter-widgets/controls",
            "layout": "IPY_MODEL_8ad2c54f4e6f4914b7ddb5af2ca067ca"
          }
        },
        "34f519c8bbfb4b308ae44cd9c3b40471": {
          "model_module": "@jupyter-widgets/controls",
          "model_name": "HTMLModel",
          "state": {
            "_view_name": "HTMLView",
            "style": "IPY_MODEL_9d5d011577a94473aacded6536a01909",
            "_dom_classes": [],
            "description": "",
            "_model_name": "HTMLModel",
            "placeholder": "​",
            "_view_module": "@jupyter-widgets/controls",
            "_model_module_version": "1.5.0",
            "value": " 1/1 [03:59&lt;00:00, 239.42s/ url]",
            "_view_count": null,
            "_view_module_version": "1.5.0",
            "description_tooltip": null,
            "_model_module": "@jupyter-widgets/controls",
            "layout": "IPY_MODEL_464eef00fd5e4f3895db9f3240d98ad1"
          }
        },
        "5cf24c2f615840e89dee1c2366064588": {
          "model_module": "@jupyter-widgets/controls",
          "model_name": "ProgressStyleModel",
          "state": {
            "_view_name": "StyleView",
            "_model_name": "ProgressStyleModel",
            "description_width": "initial",
            "_view_module": "@jupyter-widgets/base",
            "_model_module_version": "1.5.0",
            "_view_count": null,
            "_view_module_version": "1.2.0",
            "bar_color": null,
            "_model_module": "@jupyter-widgets/controls"
          }
        },
        "8ad2c54f4e6f4914b7ddb5af2ca067ca": {
          "model_module": "@jupyter-widgets/base",
          "model_name": "LayoutModel",
          "state": {
            "_view_name": "LayoutView",
            "grid_template_rows": null,
            "right": null,
            "justify_content": null,
            "_view_module": "@jupyter-widgets/base",
            "overflow": null,
            "_model_module_version": "1.2.0",
            "_view_count": null,
            "flex_flow": null,
            "width": null,
            "min_width": null,
            "border": null,
            "align_items": null,
            "bottom": null,
            "_model_module": "@jupyter-widgets/base",
            "top": null,
            "grid_column": null,
            "overflow_y": null,
            "overflow_x": null,
            "grid_auto_flow": null,
            "grid_area": null,
            "grid_template_columns": null,
            "flex": null,
            "_model_name": "LayoutModel",
            "justify_items": null,
            "grid_row": null,
            "max_height": null,
            "align_content": null,
            "visibility": null,
            "align_self": null,
            "height": null,
            "min_height": null,
            "padding": null,
            "grid_auto_rows": null,
            "grid_gap": null,
            "max_width": null,
            "order": null,
            "_view_module_version": "1.2.0",
            "grid_template_areas": null,
            "object_position": null,
            "object_fit": null,
            "grid_auto_columns": null,
            "margin": null,
            "display": null,
            "left": null
          }
        },
        "9d5d011577a94473aacded6536a01909": {
          "model_module": "@jupyter-widgets/controls",
          "model_name": "DescriptionStyleModel",
          "state": {
            "_view_name": "StyleView",
            "_model_name": "DescriptionStyleModel",
            "description_width": "",
            "_view_module": "@jupyter-widgets/base",
            "_model_module_version": "1.5.0",
            "_view_count": null,
            "_view_module_version": "1.2.0",
            "_model_module": "@jupyter-widgets/controls"
          }
        },
        "464eef00fd5e4f3895db9f3240d98ad1": {
          "model_module": "@jupyter-widgets/base",
          "model_name": "LayoutModel",
          "state": {
            "_view_name": "LayoutView",
            "grid_template_rows": null,
            "right": null,
            "justify_content": null,
            "_view_module": "@jupyter-widgets/base",
            "overflow": null,
            "_model_module_version": "1.2.0",
            "_view_count": null,
            "flex_flow": null,
            "width": null,
            "min_width": null,
            "border": null,
            "align_items": null,
            "bottom": null,
            "_model_module": "@jupyter-widgets/base",
            "top": null,
            "grid_column": null,
            "overflow_y": null,
            "overflow_x": null,
            "grid_auto_flow": null,
            "grid_area": null,
            "grid_template_columns": null,
            "flex": null,
            "_model_name": "LayoutModel",
            "justify_items": null,
            "grid_row": null,
            "max_height": null,
            "align_content": null,
            "visibility": null,
            "align_self": null,
            "height": null,
            "min_height": null,
            "padding": null,
            "grid_auto_rows": null,
            "grid_gap": null,
            "max_width": null,
            "order": null,
            "_view_module_version": "1.2.0",
            "grid_template_areas": null,
            "object_position": null,
            "object_fit": null,
            "grid_auto_columns": null,
            "margin": null,
            "display": null,
            "left": null
          }
        },
        "43347f46228a4d7695c7823ee94fda26": {
          "model_module": "@jupyter-widgets/controls",
          "model_name": "HBoxModel",
          "state": {
            "_view_name": "HBoxView",
            "_dom_classes": [],
            "_model_name": "HBoxModel",
            "_view_module": "@jupyter-widgets/controls",
            "_model_module_version": "1.5.0",
            "_view_count": null,
            "_view_module_version": "1.5.0",
            "box_style": "",
            "layout": "IPY_MODEL_b5c44549bc7a4ab0b0e3fd77470b283d",
            "_model_module": "@jupyter-widgets/controls",
            "children": [
              "IPY_MODEL_b73586f056ff4cf7b983675a73d48e1d",
              "IPY_MODEL_e58e40485f6843f2bf86a58d60aed4f7"
            ]
          }
        },
        "b5c44549bc7a4ab0b0e3fd77470b283d": {
          "model_module": "@jupyter-widgets/base",
          "model_name": "LayoutModel",
          "state": {
            "_view_name": "LayoutView",
            "grid_template_rows": null,
            "right": null,
            "justify_content": null,
            "_view_module": "@jupyter-widgets/base",
            "overflow": null,
            "_model_module_version": "1.2.0",
            "_view_count": null,
            "flex_flow": null,
            "width": null,
            "min_width": null,
            "border": null,
            "align_items": null,
            "bottom": null,
            "_model_module": "@jupyter-widgets/base",
            "top": null,
            "grid_column": null,
            "overflow_y": null,
            "overflow_x": null,
            "grid_auto_flow": null,
            "grid_area": null,
            "grid_template_columns": null,
            "flex": null,
            "_model_name": "LayoutModel",
            "justify_items": null,
            "grid_row": null,
            "max_height": null,
            "align_content": null,
            "visibility": null,
            "align_self": null,
            "height": null,
            "min_height": null,
            "padding": null,
            "grid_auto_rows": null,
            "grid_gap": null,
            "max_width": null,
            "order": null,
            "_view_module_version": "1.2.0",
            "grid_template_areas": null,
            "object_position": null,
            "object_fit": null,
            "grid_auto_columns": null,
            "margin": null,
            "display": null,
            "left": null
          }
        },
        "b73586f056ff4cf7b983675a73d48e1d": {
          "model_module": "@jupyter-widgets/controls",
          "model_name": "FloatProgressModel",
          "state": {
            "_view_name": "ProgressView",
            "style": "IPY_MODEL_e7b6cfa480724f8e9b879ded7cc3a7af",
            "_dom_classes": [],
            "description": "Dl Size...: 100%",
            "_model_name": "FloatProgressModel",
            "bar_style": "success",
            "max": 1,
            "_view_module": "@jupyter-widgets/controls",
            "_model_module_version": "1.5.0",
            "value": 1,
            "_view_count": null,
            "_view_module_version": "1.5.0",
            "orientation": "horizontal",
            "min": 0,
            "description_tooltip": null,
            "_model_module": "@jupyter-widgets/controls",
            "layout": "IPY_MODEL_b06fdfca08c7449085f348ba59e08ec9"
          }
        },
        "e58e40485f6843f2bf86a58d60aed4f7": {
          "model_module": "@jupyter-widgets/controls",
          "model_name": "HTMLModel",
          "state": {
            "_view_name": "HTMLView",
            "style": "IPY_MODEL_9e9796869ad64d9796e0816619a0536d",
            "_dom_classes": [],
            "description": "",
            "_model_name": "HTMLModel",
            "placeholder": "​",
            "_view_module": "@jupyter-widgets/controls",
            "_model_module_version": "1.5.0",
            "value": " 2225/2225 [03:59&lt;00:00,  9.29 MiB/s]",
            "_view_count": null,
            "_view_module_version": "1.5.0",
            "description_tooltip": null,
            "_model_module": "@jupyter-widgets/controls",
            "layout": "IPY_MODEL_667b51e1a9ea4b1680273754fddbc4f8"
          }
        },
        "e7b6cfa480724f8e9b879ded7cc3a7af": {
          "model_module": "@jupyter-widgets/controls",
          "model_name": "ProgressStyleModel",
          "state": {
            "_view_name": "StyleView",
            "_model_name": "ProgressStyleModel",
            "description_width": "initial",
            "_view_module": "@jupyter-widgets/base",
            "_model_module_version": "1.5.0",
            "_view_count": null,
            "_view_module_version": "1.2.0",
            "bar_color": null,
            "_model_module": "@jupyter-widgets/controls"
          }
        },
        "b06fdfca08c7449085f348ba59e08ec9": {
          "model_module": "@jupyter-widgets/base",
          "model_name": "LayoutModel",
          "state": {
            "_view_name": "LayoutView",
            "grid_template_rows": null,
            "right": null,
            "justify_content": null,
            "_view_module": "@jupyter-widgets/base",
            "overflow": null,
            "_model_module_version": "1.2.0",
            "_view_count": null,
            "flex_flow": null,
            "width": null,
            "min_width": null,
            "border": null,
            "align_items": null,
            "bottom": null,
            "_model_module": "@jupyter-widgets/base",
            "top": null,
            "grid_column": null,
            "overflow_y": null,
            "overflow_x": null,
            "grid_auto_flow": null,
            "grid_area": null,
            "grid_template_columns": null,
            "flex": null,
            "_model_name": "LayoutModel",
            "justify_items": null,
            "grid_row": null,
            "max_height": null,
            "align_content": null,
            "visibility": null,
            "align_self": null,
            "height": null,
            "min_height": null,
            "padding": null,
            "grid_auto_rows": null,
            "grid_gap": null,
            "max_width": null,
            "order": null,
            "_view_module_version": "1.2.0",
            "grid_template_areas": null,
            "object_position": null,
            "object_fit": null,
            "grid_auto_columns": null,
            "margin": null,
            "display": null,
            "left": null
          }
        },
        "9e9796869ad64d9796e0816619a0536d": {
          "model_module": "@jupyter-widgets/controls",
          "model_name": "DescriptionStyleModel",
          "state": {
            "_view_name": "StyleView",
            "_model_name": "DescriptionStyleModel",
            "description_width": "",
            "_view_module": "@jupyter-widgets/base",
            "_model_module_version": "1.5.0",
            "_view_count": null,
            "_view_module_version": "1.2.0",
            "_model_module": "@jupyter-widgets/controls"
          }
        },
        "667b51e1a9ea4b1680273754fddbc4f8": {
          "model_module": "@jupyter-widgets/base",
          "model_name": "LayoutModel",
          "state": {
            "_view_name": "LayoutView",
            "grid_template_rows": null,
            "right": null,
            "justify_content": null,
            "_view_module": "@jupyter-widgets/base",
            "overflow": null,
            "_model_module_version": "1.2.0",
            "_view_count": null,
            "flex_flow": null,
            "width": null,
            "min_width": null,
            "border": null,
            "align_items": null,
            "bottom": null,
            "_model_module": "@jupyter-widgets/base",
            "top": null,
            "grid_column": null,
            "overflow_y": null,
            "overflow_x": null,
            "grid_auto_flow": null,
            "grid_area": null,
            "grid_template_columns": null,
            "flex": null,
            "_model_name": "LayoutModel",
            "justify_items": null,
            "grid_row": null,
            "max_height": null,
            "align_content": null,
            "visibility": null,
            "align_self": null,
            "height": null,
            "min_height": null,
            "padding": null,
            "grid_auto_rows": null,
            "grid_gap": null,
            "max_width": null,
            "order": null,
            "_view_module_version": "1.2.0",
            "grid_template_areas": null,
            "object_position": null,
            "object_fit": null,
            "grid_auto_columns": null,
            "margin": null,
            "display": null,
            "left": null
          }
        },
        "01f83742f81140b9a3fde47c0a21c720": {
          "model_module": "@jupyter-widgets/controls",
          "model_name": "HBoxModel",
          "state": {
            "_view_name": "HBoxView",
            "_dom_classes": [],
            "_model_name": "HBoxModel",
            "_view_module": "@jupyter-widgets/controls",
            "_model_module_version": "1.5.0",
            "_view_count": null,
            "_view_module_version": "1.5.0",
            "box_style": "",
            "layout": "IPY_MODEL_ab5ea497438b4571a0387cf7a9cc31bc",
            "_model_module": "@jupyter-widgets/controls",
            "children": [
              "IPY_MODEL_f4a80cb6a4204d04a66d0a9ecda196af",
              "IPY_MODEL_fe61f48ed801439495e9eed912ffc210"
            ]
          }
        },
        "ab5ea497438b4571a0387cf7a9cc31bc": {
          "model_module": "@jupyter-widgets/base",
          "model_name": "LayoutModel",
          "state": {
            "_view_name": "LayoutView",
            "grid_template_rows": null,
            "right": null,
            "justify_content": null,
            "_view_module": "@jupyter-widgets/base",
            "overflow": null,
            "_model_module_version": "1.2.0",
            "_view_count": null,
            "flex_flow": null,
            "width": null,
            "min_width": null,
            "border": null,
            "align_items": null,
            "bottom": null,
            "_model_module": "@jupyter-widgets/base",
            "top": null,
            "grid_column": null,
            "overflow_y": null,
            "overflow_x": null,
            "grid_auto_flow": null,
            "grid_area": null,
            "grid_template_columns": null,
            "flex": null,
            "_model_name": "LayoutModel",
            "justify_items": null,
            "grid_row": null,
            "max_height": null,
            "align_content": null,
            "visibility": null,
            "align_self": null,
            "height": null,
            "min_height": null,
            "padding": null,
            "grid_auto_rows": null,
            "grid_gap": null,
            "max_width": null,
            "order": null,
            "_view_module_version": "1.2.0",
            "grid_template_areas": null,
            "object_position": null,
            "object_fit": null,
            "grid_auto_columns": null,
            "margin": null,
            "display": null,
            "left": null
          }
        },
        "f4a80cb6a4204d04a66d0a9ecda196af": {
          "model_module": "@jupyter-widgets/controls",
          "model_name": "FloatProgressModel",
          "state": {
            "_view_name": "ProgressView",
            "style": "IPY_MODEL_4563178435844ade85df32f0a3f840c3",
            "_dom_classes": [],
            "description": "Extraction completed...: 100%",
            "_model_name": "FloatProgressModel",
            "bar_style": "success",
            "max": 1,
            "_view_module": "@jupyter-widgets/controls",
            "_model_module_version": "1.5.0",
            "value": 1,
            "_view_count": null,
            "_view_module_version": "1.5.0",
            "orientation": "horizontal",
            "min": 0,
            "description_tooltip": null,
            "_model_module": "@jupyter-widgets/controls",
            "layout": "IPY_MODEL_46cc0c95fd3e4d88b9d0666c40f09af5"
          }
        },
        "fe61f48ed801439495e9eed912ffc210": {
          "model_module": "@jupyter-widgets/controls",
          "model_name": "HTMLModel",
          "state": {
            "_view_name": "HTMLView",
            "style": "IPY_MODEL_c69b7fd2d2664a0392404e59459bb47c",
            "_dom_classes": [],
            "description": "",
            "_model_name": "HTMLModel",
            "placeholder": "​",
            "_view_module": "@jupyter-widgets/controls",
            "_model_module_version": "1.5.0",
            "value": " 1/1 [03:59&lt;00:00, 239.34s/ file]",
            "_view_count": null,
            "_view_module_version": "1.5.0",
            "description_tooltip": null,
            "_model_module": "@jupyter-widgets/controls",
            "layout": "IPY_MODEL_ded8208527594da185dee991fc27887d"
          }
        },
        "4563178435844ade85df32f0a3f840c3": {
          "model_module": "@jupyter-widgets/controls",
          "model_name": "ProgressStyleModel",
          "state": {
            "_view_name": "StyleView",
            "_model_name": "ProgressStyleModel",
            "description_width": "initial",
            "_view_module": "@jupyter-widgets/base",
            "_model_module_version": "1.5.0",
            "_view_count": null,
            "_view_module_version": "1.2.0",
            "bar_color": null,
            "_model_module": "@jupyter-widgets/controls"
          }
        },
        "46cc0c95fd3e4d88b9d0666c40f09af5": {
          "model_module": "@jupyter-widgets/base",
          "model_name": "LayoutModel",
          "state": {
            "_view_name": "LayoutView",
            "grid_template_rows": null,
            "right": null,
            "justify_content": null,
            "_view_module": "@jupyter-widgets/base",
            "overflow": null,
            "_model_module_version": "1.2.0",
            "_view_count": null,
            "flex_flow": null,
            "width": null,
            "min_width": null,
            "border": null,
            "align_items": null,
            "bottom": null,
            "_model_module": "@jupyter-widgets/base",
            "top": null,
            "grid_column": null,
            "overflow_y": null,
            "overflow_x": null,
            "grid_auto_flow": null,
            "grid_area": null,
            "grid_template_columns": null,
            "flex": null,
            "_model_name": "LayoutModel",
            "justify_items": null,
            "grid_row": null,
            "max_height": null,
            "align_content": null,
            "visibility": null,
            "align_self": null,
            "height": null,
            "min_height": null,
            "padding": null,
            "grid_auto_rows": null,
            "grid_gap": null,
            "max_width": null,
            "order": null,
            "_view_module_version": "1.2.0",
            "grid_template_areas": null,
            "object_position": null,
            "object_fit": null,
            "grid_auto_columns": null,
            "margin": null,
            "display": null,
            "left": null
          }
        },
        "c69b7fd2d2664a0392404e59459bb47c": {
          "model_module": "@jupyter-widgets/controls",
          "model_name": "DescriptionStyleModel",
          "state": {
            "_view_name": "StyleView",
            "_model_name": "DescriptionStyleModel",
            "description_width": "",
            "_view_module": "@jupyter-widgets/base",
            "_model_module_version": "1.5.0",
            "_view_count": null,
            "_view_module_version": "1.2.0",
            "_model_module": "@jupyter-widgets/controls"
          }
        },
        "ded8208527594da185dee991fc27887d": {
          "model_module": "@jupyter-widgets/base",
          "model_name": "LayoutModel",
          "state": {
            "_view_name": "LayoutView",
            "grid_template_rows": null,
            "right": null,
            "justify_content": null,
            "_view_module": "@jupyter-widgets/base",
            "overflow": null,
            "_model_module_version": "1.2.0",
            "_view_count": null,
            "flex_flow": null,
            "width": null,
            "min_width": null,
            "border": null,
            "align_items": null,
            "bottom": null,
            "_model_module": "@jupyter-widgets/base",
            "top": null,
            "grid_column": null,
            "overflow_y": null,
            "overflow_x": null,
            "grid_auto_flow": null,
            "grid_area": null,
            "grid_template_columns": null,
            "flex": null,
            "_model_name": "LayoutModel",
            "justify_items": null,
            "grid_row": null,
            "max_height": null,
            "align_content": null,
            "visibility": null,
            "align_self": null,
            "height": null,
            "min_height": null,
            "padding": null,
            "grid_auto_rows": null,
            "grid_gap": null,
            "max_width": null,
            "order": null,
            "_view_module_version": "1.2.0",
            "grid_template_areas": null,
            "object_position": null,
            "object_fit": null,
            "grid_auto_columns": null,
            "margin": null,
            "display": null,
            "left": null
          }
        },
        "a889af6544c74c52aeb764b693d87e15": {
          "model_module": "@jupyter-widgets/controls",
          "model_name": "HBoxModel",
          "state": {
            "_view_name": "HBoxView",
            "_dom_classes": [],
            "_model_name": "HBoxModel",
            "_view_module": "@jupyter-widgets/controls",
            "_model_module_version": "1.5.0",
            "_view_count": null,
            "_view_module_version": "1.5.0",
            "box_style": "",
            "layout": "IPY_MODEL_89999f598f8c4a10aeb254cde56f8086",
            "_model_module": "@jupyter-widgets/controls",
            "children": [
              "IPY_MODEL_9c46a02b0406497d92b1f19607934dec",
              "IPY_MODEL_3e8b9a2c17894f21be7cebab7911cbfd"
            ]
          }
        },
        "89999f598f8c4a10aeb254cde56f8086": {
          "model_module": "@jupyter-widgets/base",
          "model_name": "LayoutModel",
          "state": {
            "_view_name": "LayoutView",
            "grid_template_rows": null,
            "right": null,
            "justify_content": null,
            "_view_module": "@jupyter-widgets/base",
            "overflow": null,
            "_model_module_version": "1.2.0",
            "_view_count": null,
            "flex_flow": null,
            "width": null,
            "min_width": null,
            "border": null,
            "align_items": null,
            "bottom": null,
            "_model_module": "@jupyter-widgets/base",
            "top": null,
            "grid_column": null,
            "overflow_y": null,
            "overflow_x": null,
            "grid_auto_flow": null,
            "grid_area": null,
            "grid_template_columns": null,
            "flex": null,
            "_model_name": "LayoutModel",
            "justify_items": null,
            "grid_row": null,
            "max_height": null,
            "align_content": null,
            "visibility": null,
            "align_self": null,
            "height": null,
            "min_height": null,
            "padding": null,
            "grid_auto_rows": null,
            "grid_gap": null,
            "max_width": null,
            "order": null,
            "_view_module_version": "1.2.0",
            "grid_template_areas": null,
            "object_position": null,
            "object_fit": null,
            "grid_auto_columns": null,
            "margin": null,
            "display": null,
            "left": null
          }
        },
        "9c46a02b0406497d92b1f19607934dec": {
          "model_module": "@jupyter-widgets/controls",
          "model_name": "FloatProgressModel",
          "state": {
            "_view_name": "ProgressView",
            "style": "IPY_MODEL_c19ad19342a94a4ab22166fb5c335ff1",
            "_dom_classes": [],
            "description": "",
            "_model_name": "FloatProgressModel",
            "bar_style": "info",
            "max": 1,
            "_view_module": "@jupyter-widgets/controls",
            "_model_module_version": "1.5.0",
            "value": 1,
            "_view_count": null,
            "_view_module_version": "1.5.0",
            "orientation": "horizontal",
            "min": 0,
            "description_tooltip": null,
            "_model_module": "@jupyter-widgets/controls",
            "layout": "IPY_MODEL_4097ef90d9b147c3967616dd9e02b51e"
          }
        },
        "3e8b9a2c17894f21be7cebab7911cbfd": {
          "model_module": "@jupyter-widgets/controls",
          "model_name": "HTMLModel",
          "state": {
            "_view_name": "HTMLView",
            "style": "IPY_MODEL_50db456aac224bd2ba3df266b5b53e18",
            "_dom_classes": [],
            "description": "",
            "_model_name": "HTMLModel",
            "placeholder": "​",
            "_view_module": "@jupyter-widgets/controls",
            "_model_module_version": "1.5.0",
            "value": " 1999998/0 [05:26&lt;00:00, 6412.94 examples/s]",
            "_view_count": null,
            "_view_module_version": "1.5.0",
            "description_tooltip": null,
            "_model_module": "@jupyter-widgets/controls",
            "layout": "IPY_MODEL_e097b0f20bd14d29b742c31029b46573"
          }
        },
        "c19ad19342a94a4ab22166fb5c335ff1": {
          "model_module": "@jupyter-widgets/controls",
          "model_name": "ProgressStyleModel",
          "state": {
            "_view_name": "StyleView",
            "_model_name": "ProgressStyleModel",
            "description_width": "initial",
            "_view_module": "@jupyter-widgets/base",
            "_model_module_version": "1.5.0",
            "_view_count": null,
            "_view_module_version": "1.2.0",
            "bar_color": null,
            "_model_module": "@jupyter-widgets/controls"
          }
        },
        "4097ef90d9b147c3967616dd9e02b51e": {
          "model_module": "@jupyter-widgets/base",
          "model_name": "LayoutModel",
          "state": {
            "_view_name": "LayoutView",
            "grid_template_rows": null,
            "right": null,
            "justify_content": null,
            "_view_module": "@jupyter-widgets/base",
            "overflow": null,
            "_model_module_version": "1.2.0",
            "_view_count": null,
            "flex_flow": null,
            "width": null,
            "min_width": null,
            "border": null,
            "align_items": null,
            "bottom": null,
            "_model_module": "@jupyter-widgets/base",
            "top": null,
            "grid_column": null,
            "overflow_y": null,
            "overflow_x": null,
            "grid_auto_flow": null,
            "grid_area": null,
            "grid_template_columns": null,
            "flex": null,
            "_model_name": "LayoutModel",
            "justify_items": null,
            "grid_row": null,
            "max_height": null,
            "align_content": null,
            "visibility": null,
            "align_self": null,
            "height": null,
            "min_height": null,
            "padding": null,
            "grid_auto_rows": null,
            "grid_gap": null,
            "max_width": null,
            "order": null,
            "_view_module_version": "1.2.0",
            "grid_template_areas": null,
            "object_position": null,
            "object_fit": null,
            "grid_auto_columns": null,
            "margin": null,
            "display": null,
            "left": null
          }
        },
        "50db456aac224bd2ba3df266b5b53e18": {
          "model_module": "@jupyter-widgets/controls",
          "model_name": "DescriptionStyleModel",
          "state": {
            "_view_name": "StyleView",
            "_model_name": "DescriptionStyleModel",
            "description_width": "",
            "_view_module": "@jupyter-widgets/base",
            "_model_module_version": "1.5.0",
            "_view_count": null,
            "_view_module_version": "1.2.0",
            "_model_module": "@jupyter-widgets/controls"
          }
        },
        "e097b0f20bd14d29b742c31029b46573": {
          "model_module": "@jupyter-widgets/base",
          "model_name": "LayoutModel",
          "state": {
            "_view_name": "LayoutView",
            "grid_template_rows": null,
            "right": null,
            "justify_content": null,
            "_view_module": "@jupyter-widgets/base",
            "overflow": null,
            "_model_module_version": "1.2.0",
            "_view_count": null,
            "flex_flow": null,
            "width": null,
            "min_width": null,
            "border": null,
            "align_items": null,
            "bottom": null,
            "_model_module": "@jupyter-widgets/base",
            "top": null,
            "grid_column": null,
            "overflow_y": null,
            "overflow_x": null,
            "grid_auto_flow": null,
            "grid_area": null,
            "grid_template_columns": null,
            "flex": null,
            "_model_name": "LayoutModel",
            "justify_items": null,
            "grid_row": null,
            "max_height": null,
            "align_content": null,
            "visibility": null,
            "align_self": null,
            "height": null,
            "min_height": null,
            "padding": null,
            "grid_auto_rows": null,
            "grid_gap": null,
            "max_width": null,
            "order": null,
            "_view_module_version": "1.2.0",
            "grid_template_areas": null,
            "object_position": null,
            "object_fit": null,
            "grid_auto_columns": null,
            "margin": null,
            "display": null,
            "left": null
          }
        },
        "64eb6fe9e3e040b3900561e459b37aad": {
          "model_module": "@jupyter-widgets/controls",
          "model_name": "HBoxModel",
          "state": {
            "_view_name": "HBoxView",
            "_dom_classes": [],
            "_model_name": "HBoxModel",
            "_view_module": "@jupyter-widgets/controls",
            "_model_module_version": "1.5.0",
            "_view_count": null,
            "_view_module_version": "1.5.0",
            "box_style": "",
            "layout": "IPY_MODEL_76a9554ee3f0445781f613dc312b0008",
            "_model_module": "@jupyter-widgets/controls",
            "children": [
              "IPY_MODEL_640fdefd43134d60ac42bd57a04599bf",
              "IPY_MODEL_5b5a008757de43e69a3c10d26f23e089"
            ]
          }
        },
        "76a9554ee3f0445781f613dc312b0008": {
          "model_module": "@jupyter-widgets/base",
          "model_name": "LayoutModel",
          "state": {
            "_view_name": "LayoutView",
            "grid_template_rows": null,
            "right": null,
            "justify_content": null,
            "_view_module": "@jupyter-widgets/base",
            "overflow": null,
            "_model_module_version": "1.2.0",
            "_view_count": null,
            "flex_flow": null,
            "width": null,
            "min_width": null,
            "border": null,
            "align_items": null,
            "bottom": null,
            "_model_module": "@jupyter-widgets/base",
            "top": null,
            "grid_column": null,
            "overflow_y": null,
            "overflow_x": null,
            "grid_auto_flow": null,
            "grid_area": null,
            "grid_template_columns": null,
            "flex": null,
            "_model_name": "LayoutModel",
            "justify_items": null,
            "grid_row": null,
            "max_height": null,
            "align_content": null,
            "visibility": null,
            "align_self": null,
            "height": null,
            "min_height": null,
            "padding": null,
            "grid_auto_rows": null,
            "grid_gap": null,
            "max_width": null,
            "order": null,
            "_view_module_version": "1.2.0",
            "grid_template_areas": null,
            "object_position": null,
            "object_fit": null,
            "grid_auto_columns": null,
            "margin": null,
            "display": null,
            "left": null
          }
        },
        "640fdefd43134d60ac42bd57a04599bf": {
          "model_module": "@jupyter-widgets/controls",
          "model_name": "FloatProgressModel",
          "state": {
            "_view_name": "ProgressView",
            "style": "IPY_MODEL_9dc72d8ea02b4b2e944b798788d25c4f",
            "_dom_classes": [],
            "description": " 98%",
            "_model_name": "FloatProgressModel",
            "bar_style": "danger",
            "max": 1999998,
            "_view_module": "@jupyter-widgets/controls",
            "_model_module_version": "1.5.0",
            "value": 1965340,
            "_view_count": null,
            "_view_module_version": "1.5.0",
            "orientation": "horizontal",
            "min": 0,
            "description_tooltip": null,
            "_model_module": "@jupyter-widgets/controls",
            "layout": "IPY_MODEL_edf56c5212ac49bd8310c21ec9ea2760"
          }
        },
        "5b5a008757de43e69a3c10d26f23e089": {
          "model_module": "@jupyter-widgets/controls",
          "model_name": "HTMLModel",
          "state": {
            "_view_name": "HTMLView",
            "style": "IPY_MODEL_def1b8280d96456196cc9df70ec18660",
            "_dom_classes": [],
            "description": "",
            "_model_name": "HTMLModel",
            "placeholder": "​",
            "_view_module": "@jupyter-widgets/controls",
            "_model_module_version": "1.5.0",
            "value": " 1965340/1999998 [00:08&lt;00:00, 358490.81 examples/s]",
            "_view_count": null,
            "_view_module_version": "1.5.0",
            "description_tooltip": null,
            "_model_module": "@jupyter-widgets/controls",
            "layout": "IPY_MODEL_43926fe9d2d140cf9e05294bffc32445"
          }
        },
        "9dc72d8ea02b4b2e944b798788d25c4f": {
          "model_module": "@jupyter-widgets/controls",
          "model_name": "ProgressStyleModel",
          "state": {
            "_view_name": "StyleView",
            "_model_name": "ProgressStyleModel",
            "description_width": "initial",
            "_view_module": "@jupyter-widgets/base",
            "_model_module_version": "1.5.0",
            "_view_count": null,
            "_view_module_version": "1.2.0",
            "bar_color": null,
            "_model_module": "@jupyter-widgets/controls"
          }
        },
        "edf56c5212ac49bd8310c21ec9ea2760": {
          "model_module": "@jupyter-widgets/base",
          "model_name": "LayoutModel",
          "state": {
            "_view_name": "LayoutView",
            "grid_template_rows": null,
            "right": null,
            "justify_content": null,
            "_view_module": "@jupyter-widgets/base",
            "overflow": null,
            "_model_module_version": "1.2.0",
            "_view_count": null,
            "flex_flow": null,
            "width": null,
            "min_width": null,
            "border": null,
            "align_items": null,
            "bottom": null,
            "_model_module": "@jupyter-widgets/base",
            "top": null,
            "grid_column": null,
            "overflow_y": null,
            "overflow_x": null,
            "grid_auto_flow": null,
            "grid_area": null,
            "grid_template_columns": null,
            "flex": null,
            "_model_name": "LayoutModel",
            "justify_items": null,
            "grid_row": null,
            "max_height": null,
            "align_content": null,
            "visibility": null,
            "align_self": null,
            "height": null,
            "min_height": null,
            "padding": null,
            "grid_auto_rows": null,
            "grid_gap": null,
            "max_width": null,
            "order": null,
            "_view_module_version": "1.2.0",
            "grid_template_areas": null,
            "object_position": null,
            "object_fit": null,
            "grid_auto_columns": null,
            "margin": null,
            "display": null,
            "left": null
          }
        },
        "def1b8280d96456196cc9df70ec18660": {
          "model_module": "@jupyter-widgets/controls",
          "model_name": "DescriptionStyleModel",
          "state": {
            "_view_name": "StyleView",
            "_model_name": "DescriptionStyleModel",
            "description_width": "",
            "_view_module": "@jupyter-widgets/base",
            "_model_module_version": "1.5.0",
            "_view_count": null,
            "_view_module_version": "1.2.0",
            "_model_module": "@jupyter-widgets/controls"
          }
        },
        "43926fe9d2d140cf9e05294bffc32445": {
          "model_module": "@jupyter-widgets/base",
          "model_name": "LayoutModel",
          "state": {
            "_view_name": "LayoutView",
            "grid_template_rows": null,
            "right": null,
            "justify_content": null,
            "_view_module": "@jupyter-widgets/base",
            "overflow": null,
            "_model_module_version": "1.2.0",
            "_view_count": null,
            "flex_flow": null,
            "width": null,
            "min_width": null,
            "border": null,
            "align_items": null,
            "bottom": null,
            "_model_module": "@jupyter-widgets/base",
            "top": null,
            "grid_column": null,
            "overflow_y": null,
            "overflow_x": null,
            "grid_auto_flow": null,
            "grid_area": null,
            "grid_template_columns": null,
            "flex": null,
            "_model_name": "LayoutModel",
            "justify_items": null,
            "grid_row": null,
            "max_height": null,
            "align_content": null,
            "visibility": null,
            "align_self": null,
            "height": null,
            "min_height": null,
            "padding": null,
            "grid_auto_rows": null,
            "grid_gap": null,
            "max_width": null,
            "order": null,
            "_view_module_version": "1.2.0",
            "grid_template_areas": null,
            "object_position": null,
            "object_fit": null,
            "grid_auto_columns": null,
            "margin": null,
            "display": null,
            "left": null
          }
        },
        "52578bb5a49242e698b3633d71fdb5a6": {
          "model_module": "@jupyter-widgets/controls",
          "model_name": "HBoxModel",
          "state": {
            "_view_name": "HBoxView",
            "_dom_classes": [],
            "_model_name": "HBoxModel",
            "_view_module": "@jupyter-widgets/controls",
            "_model_module_version": "1.5.0",
            "_view_count": null,
            "_view_module_version": "1.5.0",
            "box_style": "",
            "layout": "IPY_MODEL_91d9d282466e4f6bb538f44410ae1c55",
            "_model_module": "@jupyter-widgets/controls",
            "children": [
              "IPY_MODEL_8ed747e77e374f7ea4b9aa52f7a763be",
              "IPY_MODEL_019286ac4d194d46a0147b53246ef552"
            ]
          }
        },
        "91d9d282466e4f6bb538f44410ae1c55": {
          "model_module": "@jupyter-widgets/base",
          "model_name": "LayoutModel",
          "state": {
            "_view_name": "LayoutView",
            "grid_template_rows": null,
            "right": null,
            "justify_content": null,
            "_view_module": "@jupyter-widgets/base",
            "overflow": null,
            "_model_module_version": "1.2.0",
            "_view_count": null,
            "flex_flow": null,
            "width": null,
            "min_width": null,
            "border": null,
            "align_items": null,
            "bottom": null,
            "_model_module": "@jupyter-widgets/base",
            "top": null,
            "grid_column": null,
            "overflow_y": null,
            "overflow_x": null,
            "grid_auto_flow": null,
            "grid_area": null,
            "grid_template_columns": null,
            "flex": null,
            "_model_name": "LayoutModel",
            "justify_items": null,
            "grid_row": null,
            "max_height": null,
            "align_content": null,
            "visibility": null,
            "align_self": null,
            "height": null,
            "min_height": null,
            "padding": null,
            "grid_auto_rows": null,
            "grid_gap": null,
            "max_width": null,
            "order": null,
            "_view_module_version": "1.2.0",
            "grid_template_areas": null,
            "object_position": null,
            "object_fit": null,
            "grid_auto_columns": null,
            "margin": null,
            "display": null,
            "left": null
          }
        },
        "8ed747e77e374f7ea4b9aa52f7a763be": {
          "model_module": "@jupyter-widgets/controls",
          "model_name": "FloatProgressModel",
          "state": {
            "_view_name": "ProgressView",
            "style": "IPY_MODEL_b7f3de7347b74a1e846ddf113f2f26a8",
            "_dom_classes": [],
            "description": "",
            "_model_name": "FloatProgressModel",
            "bar_style": "info",
            "max": 1,
            "_view_module": "@jupyter-widgets/controls",
            "_model_module_version": "1.5.0",
            "value": 1,
            "_view_count": null,
            "_view_module_version": "1.5.0",
            "orientation": "horizontal",
            "min": 0,
            "description_tooltip": null,
            "_model_module": "@jupyter-widgets/controls",
            "layout": "IPY_MODEL_daa9284fe80647229e8d569ae24d878b"
          }
        },
        "019286ac4d194d46a0147b53246ef552": {
          "model_module": "@jupyter-widgets/controls",
          "model_name": "HTMLModel",
          "state": {
            "_view_name": "HTMLView",
            "style": "IPY_MODEL_5adf7fdacfb54d49b877de7fcc879198",
            "_dom_classes": [],
            "description": "",
            "_model_name": "HTMLModel",
            "placeholder": "​",
            "_view_module": "@jupyter-widgets/controls",
            "_model_module_version": "1.5.0",
            "value": " 10000/0 [00:01&lt;00:00, 6252.30 examples/s]",
            "_view_count": null,
            "_view_module_version": "1.5.0",
            "description_tooltip": null,
            "_model_module": "@jupyter-widgets/controls",
            "layout": "IPY_MODEL_962cfe0f0b27442ca363d9beede26835"
          }
        },
        "b7f3de7347b74a1e846ddf113f2f26a8": {
          "model_module": "@jupyter-widgets/controls",
          "model_name": "ProgressStyleModel",
          "state": {
            "_view_name": "StyleView",
            "_model_name": "ProgressStyleModel",
            "description_width": "initial",
            "_view_module": "@jupyter-widgets/base",
            "_model_module_version": "1.5.0",
            "_view_count": null,
            "_view_module_version": "1.2.0",
            "bar_color": null,
            "_model_module": "@jupyter-widgets/controls"
          }
        },
        "daa9284fe80647229e8d569ae24d878b": {
          "model_module": "@jupyter-widgets/base",
          "model_name": "LayoutModel",
          "state": {
            "_view_name": "LayoutView",
            "grid_template_rows": null,
            "right": null,
            "justify_content": null,
            "_view_module": "@jupyter-widgets/base",
            "overflow": null,
            "_model_module_version": "1.2.0",
            "_view_count": null,
            "flex_flow": null,
            "width": null,
            "min_width": null,
            "border": null,
            "align_items": null,
            "bottom": null,
            "_model_module": "@jupyter-widgets/base",
            "top": null,
            "grid_column": null,
            "overflow_y": null,
            "overflow_x": null,
            "grid_auto_flow": null,
            "grid_area": null,
            "grid_template_columns": null,
            "flex": null,
            "_model_name": "LayoutModel",
            "justify_items": null,
            "grid_row": null,
            "max_height": null,
            "align_content": null,
            "visibility": null,
            "align_self": null,
            "height": null,
            "min_height": null,
            "padding": null,
            "grid_auto_rows": null,
            "grid_gap": null,
            "max_width": null,
            "order": null,
            "_view_module_version": "1.2.0",
            "grid_template_areas": null,
            "object_position": null,
            "object_fit": null,
            "grid_auto_columns": null,
            "margin": null,
            "display": null,
            "left": null
          }
        },
        "5adf7fdacfb54d49b877de7fcc879198": {
          "model_module": "@jupyter-widgets/controls",
          "model_name": "DescriptionStyleModel",
          "state": {
            "_view_name": "StyleView",
            "_model_name": "DescriptionStyleModel",
            "description_width": "",
            "_view_module": "@jupyter-widgets/base",
            "_model_module_version": "1.5.0",
            "_view_count": null,
            "_view_module_version": "1.2.0",
            "_model_module": "@jupyter-widgets/controls"
          }
        },
        "962cfe0f0b27442ca363d9beede26835": {
          "model_module": "@jupyter-widgets/base",
          "model_name": "LayoutModel",
          "state": {
            "_view_name": "LayoutView",
            "grid_template_rows": null,
            "right": null,
            "justify_content": null,
            "_view_module": "@jupyter-widgets/base",
            "overflow": null,
            "_model_module_version": "1.2.0",
            "_view_count": null,
            "flex_flow": null,
            "width": null,
            "min_width": null,
            "border": null,
            "align_items": null,
            "bottom": null,
            "_model_module": "@jupyter-widgets/base",
            "top": null,
            "grid_column": null,
            "overflow_y": null,
            "overflow_x": null,
            "grid_auto_flow": null,
            "grid_area": null,
            "grid_template_columns": null,
            "flex": null,
            "_model_name": "LayoutModel",
            "justify_items": null,
            "grid_row": null,
            "max_height": null,
            "align_content": null,
            "visibility": null,
            "align_self": null,
            "height": null,
            "min_height": null,
            "padding": null,
            "grid_auto_rows": null,
            "grid_gap": null,
            "max_width": null,
            "order": null,
            "_view_module_version": "1.2.0",
            "grid_template_areas": null,
            "object_position": null,
            "object_fit": null,
            "grid_auto_columns": null,
            "margin": null,
            "display": null,
            "left": null
          }
        },
        "d79674e3f405441fa3bf81ecfa873699": {
          "model_module": "@jupyter-widgets/controls",
          "model_name": "HBoxModel",
          "state": {
            "_view_name": "HBoxView",
            "_dom_classes": [],
            "_model_name": "HBoxModel",
            "_view_module": "@jupyter-widgets/controls",
            "_model_module_version": "1.5.0",
            "_view_count": null,
            "_view_module_version": "1.5.0",
            "box_style": "",
            "layout": "IPY_MODEL_7071d8aad69a437081e99e84d2f865bb",
            "_model_module": "@jupyter-widgets/controls",
            "children": [
              "IPY_MODEL_64e9448752054bcdb9677e1f254a0b5c",
              "IPY_MODEL_039b609d16b54fda89aca1354c3a97eb"
            ]
          }
        },
        "7071d8aad69a437081e99e84d2f865bb": {
          "model_module": "@jupyter-widgets/base",
          "model_name": "LayoutModel",
          "state": {
            "_view_name": "LayoutView",
            "grid_template_rows": null,
            "right": null,
            "justify_content": null,
            "_view_module": "@jupyter-widgets/base",
            "overflow": null,
            "_model_module_version": "1.2.0",
            "_view_count": null,
            "flex_flow": null,
            "width": null,
            "min_width": null,
            "border": null,
            "align_items": null,
            "bottom": null,
            "_model_module": "@jupyter-widgets/base",
            "top": null,
            "grid_column": null,
            "overflow_y": null,
            "overflow_x": null,
            "grid_auto_flow": null,
            "grid_area": null,
            "grid_template_columns": null,
            "flex": null,
            "_model_name": "LayoutModel",
            "justify_items": null,
            "grid_row": null,
            "max_height": null,
            "align_content": null,
            "visibility": null,
            "align_self": null,
            "height": null,
            "min_height": null,
            "padding": null,
            "grid_auto_rows": null,
            "grid_gap": null,
            "max_width": null,
            "order": null,
            "_view_module_version": "1.2.0",
            "grid_template_areas": null,
            "object_position": null,
            "object_fit": null,
            "grid_auto_columns": null,
            "margin": null,
            "display": null,
            "left": null
          }
        },
        "64e9448752054bcdb9677e1f254a0b5c": {
          "model_module": "@jupyter-widgets/controls",
          "model_name": "FloatProgressModel",
          "state": {
            "_view_name": "ProgressView",
            "style": "IPY_MODEL_ec7cc3ac7e59448fb0717a321f72d9bd",
            "_dom_classes": [],
            "description": "  0%",
            "_model_name": "FloatProgressModel",
            "bar_style": "danger",
            "max": 10000,
            "_view_module": "@jupyter-widgets/controls",
            "_model_module_version": "1.5.0",
            "value": 0,
            "_view_count": null,
            "_view_module_version": "1.5.0",
            "orientation": "horizontal",
            "min": 0,
            "description_tooltip": null,
            "_model_module": "@jupyter-widgets/controls",
            "layout": "IPY_MODEL_4fe927bd026d4dfda6af9dfdc08e3de0"
          }
        },
        "039b609d16b54fda89aca1354c3a97eb": {
          "model_module": "@jupyter-widgets/controls",
          "model_name": "HTMLModel",
          "state": {
            "_view_name": "HTMLView",
            "style": "IPY_MODEL_f5eb5e7c8f754a0f8a6cedd508ddae4d",
            "_dom_classes": [],
            "description": "",
            "_model_name": "HTMLModel",
            "placeholder": "​",
            "_view_module": "@jupyter-widgets/controls",
            "_model_module_version": "1.5.0",
            "value": " 0/10000 [00:05&lt;?, ? examples/s]",
            "_view_count": null,
            "_view_module_version": "1.5.0",
            "description_tooltip": null,
            "_model_module": "@jupyter-widgets/controls",
            "layout": "IPY_MODEL_6d8c2dc4adba4b6680c7418cae153768"
          }
        },
        "ec7cc3ac7e59448fb0717a321f72d9bd": {
          "model_module": "@jupyter-widgets/controls",
          "model_name": "ProgressStyleModel",
          "state": {
            "_view_name": "StyleView",
            "_model_name": "ProgressStyleModel",
            "description_width": "initial",
            "_view_module": "@jupyter-widgets/base",
            "_model_module_version": "1.5.0",
            "_view_count": null,
            "_view_module_version": "1.2.0",
            "bar_color": null,
            "_model_module": "@jupyter-widgets/controls"
          }
        },
        "4fe927bd026d4dfda6af9dfdc08e3de0": {
          "model_module": "@jupyter-widgets/base",
          "model_name": "LayoutModel",
          "state": {
            "_view_name": "LayoutView",
            "grid_template_rows": null,
            "right": null,
            "justify_content": null,
            "_view_module": "@jupyter-widgets/base",
            "overflow": null,
            "_model_module_version": "1.2.0",
            "_view_count": null,
            "flex_flow": null,
            "width": null,
            "min_width": null,
            "border": null,
            "align_items": null,
            "bottom": null,
            "_model_module": "@jupyter-widgets/base",
            "top": null,
            "grid_column": null,
            "overflow_y": null,
            "overflow_x": null,
            "grid_auto_flow": null,
            "grid_area": null,
            "grid_template_columns": null,
            "flex": null,
            "_model_name": "LayoutModel",
            "justify_items": null,
            "grid_row": null,
            "max_height": null,
            "align_content": null,
            "visibility": null,
            "align_self": null,
            "height": null,
            "min_height": null,
            "padding": null,
            "grid_auto_rows": null,
            "grid_gap": null,
            "max_width": null,
            "order": null,
            "_view_module_version": "1.2.0",
            "grid_template_areas": null,
            "object_position": null,
            "object_fit": null,
            "grid_auto_columns": null,
            "margin": null,
            "display": null,
            "left": null
          }
        },
        "f5eb5e7c8f754a0f8a6cedd508ddae4d": {
          "model_module": "@jupyter-widgets/controls",
          "model_name": "DescriptionStyleModel",
          "state": {
            "_view_name": "StyleView",
            "_model_name": "DescriptionStyleModel",
            "description_width": "",
            "_view_module": "@jupyter-widgets/base",
            "_model_module_version": "1.5.0",
            "_view_count": null,
            "_view_module_version": "1.2.0",
            "_model_module": "@jupyter-widgets/controls"
          }
        },
        "6d8c2dc4adba4b6680c7418cae153768": {
          "model_module": "@jupyter-widgets/base",
          "model_name": "LayoutModel",
          "state": {
            "_view_name": "LayoutView",
            "grid_template_rows": null,
            "right": null,
            "justify_content": null,
            "_view_module": "@jupyter-widgets/base",
            "overflow": null,
            "_model_module_version": "1.2.0",
            "_view_count": null,
            "flex_flow": null,
            "width": null,
            "min_width": null,
            "border": null,
            "align_items": null,
            "bottom": null,
            "_model_module": "@jupyter-widgets/base",
            "top": null,
            "grid_column": null,
            "overflow_y": null,
            "overflow_x": null,
            "grid_auto_flow": null,
            "grid_area": null,
            "grid_template_columns": null,
            "flex": null,
            "_model_name": "LayoutModel",
            "justify_items": null,
            "grid_row": null,
            "max_height": null,
            "align_content": null,
            "visibility": null,
            "align_self": null,
            "height": null,
            "min_height": null,
            "padding": null,
            "grid_auto_rows": null,
            "grid_gap": null,
            "max_width": null,
            "order": null,
            "_view_module_version": "1.2.0",
            "grid_template_areas": null,
            "object_position": null,
            "object_fit": null,
            "grid_auto_columns": null,
            "margin": null,
            "display": null,
            "left": null
          }
        }
      }
    }
  },
  "cells": [
    {
      "cell_type": "markdown",
      "metadata": {
        "id": "view-in-github",
        "colab_type": "text"
      },
      "source": [
        "<a href=\"https://colab.research.google.com/github/kyle-gao/ML_ipynb/blob/master/TF_Transformer_Calculus.ipynb\" target=\"_parent\"><img src=\"https://colab.research.google.com/assets/colab-badge.svg\" alt=\"Open In Colab\"/></a>"
      ]
    },
    {
      "cell_type": "markdown",
      "metadata": {
        "id": "anQuvdlJJ8_r",
        "colab_type": "text"
      },
      "source": [
        "Copyright 2020 Yi Lin(Kyle) Gao\n",
        "\n",
        "\n",
        "\n"
      ]
    },
    {
      "cell_type": "markdown",
      "metadata": {
        "id": "s_qNSzzyaCbD",
        "colab_type": "text"
      },
      "source": [
        "##### Copyright 2019 The TensorFlow Authors."
      ]
    },
    {
      "cell_type": "code",
      "metadata": {
        "cellView": "both",
        "id": "jmjh290raIky",
        "colab_type": "code",
        "colab": {}
      },
      "source": [
        "#@title Licensed under the Apache License, Version 2.0 (the \"License\");\n",
        "# you may not use this file except in compliance with the License.\n",
        "# You may obtain a copy of the License at\n",
        "#\n",
        "# https://www.apache.org/licenses/LICENSE-2.0\n",
        "#\n",
        "# Unless required by applicable law or agreed to in writing, software\n",
        "# distributed under the License is distributed on an \"AS IS\" BASIS,\n",
        "# WITHOUT WARRANTIES OR CONDITIONS OF ANY KIND, either express or implied.\n",
        "# See the License for the specific language governing permissions and\n",
        "# limitations under the License."
      ],
      "execution_count": 1,
      "outputs": []
    },
    {
      "cell_type": "code",
      "metadata": {
        "id": "YbRTcwfC7JVh",
        "colab_type": "code",
        "colab": {}
      },
      "source": [
        "import tensorflow as tf\n",
        "import tensorflow_datasets as tfds\n",
        "import numpy as np\n",
        "import time"
      ],
      "execution_count": 2,
      "outputs": []
    },
    {
      "cell_type": "markdown",
      "metadata": {
        "id": "jlMtl_Tr8l44",
        "colab_type": "text"
      },
      "source": [
        "# Training a transformer for symbolic mathematics (differentiation) following the Transfomer tutorial https://www.tensorflow.org/tutorials/text/transformer\n",
        "The dataset used is https://github.com/deepmind/mathematics_dataset."
      ]
    },
    {
      "cell_type": "markdown",
      "metadata": {
        "id": "J_LQw06j-KLN",
        "colab_type": "text"
      },
      "source": [
        "# Data pipeline with tfds"
      ]
    },
    {
      "cell_type": "code",
      "metadata": {
        "id": "bUctAmGT7-C2",
        "colab_type": "code",
        "colab": {
          "base_uri": "https://localhost:8080/",
          "height": 405,
          "referenced_widgets": [
            "849ab9281704465b81612d0af119944e",
            "2896e4667eab41dabc0e8a5426b73fcb",
            "b24df65c099b43c18f98ed2610eaabf5",
            "34f519c8bbfb4b308ae44cd9c3b40471",
            "5cf24c2f615840e89dee1c2366064588",
            "8ad2c54f4e6f4914b7ddb5af2ca067ca",
            "9d5d011577a94473aacded6536a01909",
            "464eef00fd5e4f3895db9f3240d98ad1",
            "43347f46228a4d7695c7823ee94fda26",
            "b5c44549bc7a4ab0b0e3fd77470b283d",
            "b73586f056ff4cf7b983675a73d48e1d",
            "e58e40485f6843f2bf86a58d60aed4f7",
            "e7b6cfa480724f8e9b879ded7cc3a7af",
            "b06fdfca08c7449085f348ba59e08ec9",
            "9e9796869ad64d9796e0816619a0536d",
            "667b51e1a9ea4b1680273754fddbc4f8",
            "01f83742f81140b9a3fde47c0a21c720",
            "ab5ea497438b4571a0387cf7a9cc31bc",
            "f4a80cb6a4204d04a66d0a9ecda196af",
            "fe61f48ed801439495e9eed912ffc210",
            "4563178435844ade85df32f0a3f840c3",
            "46cc0c95fd3e4d88b9d0666c40f09af5",
            "c69b7fd2d2664a0392404e59459bb47c",
            "ded8208527594da185dee991fc27887d",
            "a889af6544c74c52aeb764b693d87e15",
            "89999f598f8c4a10aeb254cde56f8086",
            "9c46a02b0406497d92b1f19607934dec",
            "3e8b9a2c17894f21be7cebab7911cbfd",
            "c19ad19342a94a4ab22166fb5c335ff1",
            "4097ef90d9b147c3967616dd9e02b51e",
            "50db456aac224bd2ba3df266b5b53e18",
            "e097b0f20bd14d29b742c31029b46573",
            "64eb6fe9e3e040b3900561e459b37aad",
            "76a9554ee3f0445781f613dc312b0008",
            "640fdefd43134d60ac42bd57a04599bf",
            "5b5a008757de43e69a3c10d26f23e089",
            "9dc72d8ea02b4b2e944b798788d25c4f",
            "edf56c5212ac49bd8310c21ec9ea2760",
            "def1b8280d96456196cc9df70ec18660",
            "43926fe9d2d140cf9e05294bffc32445",
            "52578bb5a49242e698b3633d71fdb5a6",
            "91d9d282466e4f6bb538f44410ae1c55",
            "8ed747e77e374f7ea4b9aa52f7a763be",
            "019286ac4d194d46a0147b53246ef552",
            "b7f3de7347b74a1e846ddf113f2f26a8",
            "daa9284fe80647229e8d569ae24d878b",
            "5adf7fdacfb54d49b877de7fcc879198",
            "962cfe0f0b27442ca363d9beede26835",
            "d79674e3f405441fa3bf81ecfa873699",
            "7071d8aad69a437081e99e84d2f865bb",
            "64e9448752054bcdb9677e1f254a0b5c",
            "039b609d16b54fda89aca1354c3a97eb",
            "ec7cc3ac7e59448fb0717a321f72d9bd",
            "4fe927bd026d4dfda6af9dfdc08e3de0",
            "f5eb5e7c8f754a0f8a6cedd508ddae4d",
            "6d8c2dc4adba4b6680c7418cae153768"
          ]
        },
        "outputId": "06274005-dcbf-4e00-b697-cf5e59e8dc30"
      },
      "source": [
        "train, val = tfds.load(\n",
        "    'math_dataset/calculus__differentiate',\n",
        "    split=['train[:200000]', 'test[:5000]'],\n",
        "    as_supervised=True)"
      ],
      "execution_count": 3,
      "outputs": [
        {
          "output_type": "stream",
          "text": [
            "\u001b[1mDownloading and preparing dataset math_dataset/calculus__differentiate/1.0.0 (download: 2.17 GiB, generated: Unknown size, total: 2.17 GiB) to /root/tensorflow_datasets/math_dataset/calculus__differentiate/1.0.0...\u001b[0m\n"
          ],
          "name": "stdout"
        },
        {
          "output_type": "display_data",
          "data": {
            "application/vnd.jupyter.widget-view+json": {
              "model_id": "849ab9281704465b81612d0af119944e",
              "version_minor": 0,
              "version_major": 2
            },
            "text/plain": [
              "HBox(children=(FloatProgress(value=1.0, bar_style='info', description='Dl Completed...', max=1.0, style=Progre…"
            ]
          },
          "metadata": {
            "tags": []
          }
        },
        {
          "output_type": "display_data",
          "data": {
            "application/vnd.jupyter.widget-view+json": {
              "model_id": "43347f46228a4d7695c7823ee94fda26",
              "version_minor": 0,
              "version_major": 2
            },
            "text/plain": [
              "HBox(children=(FloatProgress(value=1.0, bar_style='info', description='Dl Size...', max=1.0, style=ProgressSty…"
            ]
          },
          "metadata": {
            "tags": []
          }
        },
        {
          "output_type": "display_data",
          "data": {
            "application/vnd.jupyter.widget-view+json": {
              "model_id": "01f83742f81140b9a3fde47c0a21c720",
              "version_minor": 0,
              "version_major": 2
            },
            "text/plain": [
              "HBox(children=(FloatProgress(value=1.0, bar_style='info', description='Extraction completed...', max=1.0, styl…"
            ]
          },
          "metadata": {
            "tags": []
          }
        },
        {
          "output_type": "stream",
          "text": [
            "/usr/local/lib/python3.6/dist-packages/urllib3/connectionpool.py:847: InsecureRequestWarning: Unverified HTTPS request is being made. Adding certificate verification is strongly advised. See: https://urllib3.readthedocs.io/en/latest/advanced-usage.html#ssl-warnings\n",
            "  InsecureRequestWarning)\n"
          ],
          "name": "stderr"
        },
        {
          "output_type": "stream",
          "text": [
            "\n",
            "\n",
            "\n",
            "\n",
            "\n",
            "\n"
          ],
          "name": "stdout"
        },
        {
          "output_type": "display_data",
          "data": {
            "application/vnd.jupyter.widget-view+json": {
              "model_id": "a889af6544c74c52aeb764b693d87e15",
              "version_minor": 0,
              "version_major": 2
            },
            "text/plain": [
              "HBox(children=(FloatProgress(value=1.0, bar_style='info', max=1.0), HTML(value='')))"
            ]
          },
          "metadata": {
            "tags": []
          }
        },
        {
          "output_type": "stream",
          "text": [
            "\rShuffling and writing examples to /root/tensorflow_datasets/math_dataset/calculus__differentiate/1.0.0.incomplete79TQ2N/math_dataset-train.tfrecord\n"
          ],
          "name": "stdout"
        },
        {
          "output_type": "display_data",
          "data": {
            "application/vnd.jupyter.widget-view+json": {
              "model_id": "64eb6fe9e3e040b3900561e459b37aad",
              "version_minor": 0,
              "version_major": 2
            },
            "text/plain": [
              "HBox(children=(FloatProgress(value=0.0, max=1999998.0), HTML(value='')))"
            ]
          },
          "metadata": {
            "tags": []
          }
        },
        {
          "output_type": "stream",
          "text": [
            "\r"
          ],
          "name": "stdout"
        },
        {
          "output_type": "display_data",
          "data": {
            "application/vnd.jupyter.widget-view+json": {
              "model_id": "52578bb5a49242e698b3633d71fdb5a6",
              "version_minor": 0,
              "version_major": 2
            },
            "text/plain": [
              "HBox(children=(FloatProgress(value=1.0, bar_style='info', max=1.0), HTML(value='')))"
            ]
          },
          "metadata": {
            "tags": []
          }
        },
        {
          "output_type": "stream",
          "text": [
            "\rShuffling and writing examples to /root/tensorflow_datasets/math_dataset/calculus__differentiate/1.0.0.incomplete79TQ2N/math_dataset-test.tfrecord\n"
          ],
          "name": "stdout"
        },
        {
          "output_type": "display_data",
          "data": {
            "application/vnd.jupyter.widget-view+json": {
              "model_id": "d79674e3f405441fa3bf81ecfa873699",
              "version_minor": 0,
              "version_major": 2
            },
            "text/plain": [
              "HBox(children=(FloatProgress(value=0.0, max=10000.0), HTML(value='')))"
            ]
          },
          "metadata": {
            "tags": []
          }
        },
        {
          "output_type": "stream",
          "text": [
            "\u001b[1mDataset math_dataset downloaded and prepared to /root/tensorflow_datasets/math_dataset/calculus__differentiate/1.0.0. Subsequent calls will reuse this data.\u001b[0m\n"
          ],
          "name": "stdout"
        }
      ]
    },
    {
      "cell_type": "code",
      "metadata": {
        "id": "Ba5HuWnRBbXA",
        "colab_type": "code",
        "colab": {}
      },
      "source": [
        "#since we are dealing with mathemetics, we expect a low vocabulary size\n",
        "tokenizer = tfds.features.text.SubwordTextEncoder.build_from_corpus(\n",
        "    (question.numpy() for question, answer in train), target_vocab_size=2**12)"
      ],
      "execution_count": 4,
      "outputs": []
    },
    {
      "cell_type": "code",
      "metadata": {
        "id": "G2lcMhDrAraT",
        "colab_type": "code",
        "colab": {
          "base_uri": "https://localhost:8080/",
          "height": 52
        },
        "outputId": "7799fd76-fc99-42af-90a4-53dce1e99178"
      },
      "source": [
        "#Taking a look at the dataset\n",
        "test = list(train.take(1))\n",
        "test"
      ],
      "execution_count": 5,
      "outputs": [
        {
          "output_type": "execute_result",
          "data": {
            "text/plain": [
              "[(<tf.Tensor: shape=(), dtype=string, numpy=b'Find the first derivative of -4*a**4*v - 84*a**4 - v - 226 wrt a.'>,\n",
              "  <tf.Tensor: shape=(), dtype=string, numpy=b'-16*a**3*v - 336*a**3'>)]"
            ]
          },
          "metadata": {
            "tags": []
          },
          "execution_count": 5
        }
      ]
    },
    {
      "cell_type": "code",
      "metadata": {
        "id": "F2SZRlVkVHkA",
        "colab_type": "code",
        "colab": {}
      },
      "source": [
        "def encode(question,answer):\n",
        "  #Adds start token (tokenizer.vocab_size) and end token (tokenizer.vocab_size + 1) to (question,answer)\n",
        "\n",
        "  question = [tokenizer.vocab_size] + tokenizer.encode(question.numpy()) + [tokenizer.vocab_size + 1] \n",
        "  answer = [tokenizer.vocab_size] + tokenizer.encode(answer.numpy()) + [tokenizer.vocab_size + 1] \n",
        "\n",
        "  return question,answer\n",
        "\n",
        "def tf_encode(question, answer):\n",
        "  #We have to wrap encode in a tf.py_function() since the dataset elements do not have \n",
        "  question, answer = tf.py_function(encode, [question, answer], [tf.int64, tf.int64])\n",
        "  question.set_shape([None])\n",
        "  answer.set_shape([None])\n",
        "\n",
        "  return question, answer\n",
        "\n",
        "def tf_interleave_encode(question, answer):\n",
        "  #We have to wrap encode in a tf.py_function() since the dataset elements do not have \n",
        "  question, answer = tf.py_function(encode, [question, answer], [tf.int64, tf.int64])\n",
        "  question.set_shape([None])\n",
        "  answer.set_shape([None])\n",
        "\n",
        "  return tf.data.Dataset.from_tensors((question, answer))"
      ],
      "execution_count": 6,
      "outputs": []
    },
    {
      "cell_type": "code",
      "metadata": {
        "id": "BcquKjDcaIqO",
        "colab_type": "code",
        "colab": {}
      },
      "source": [
        "max_length_question = 35\n",
        "max_length_answer = 25\n",
        "def filter_max_length(x, y, max_length_question = max_length_question, max_length_answer = max_length_answer):\n",
        "  return tf.logical_and(tf.size(x) <= max_length_question,\n",
        "                        tf.size(y) <= max_length_answer)"
      ],
      "execution_count": 7,
      "outputs": []
    },
    {
      "cell_type": "code",
      "metadata": {
        "id": "tT_0GTEufgY3",
        "colab_type": "code",
        "colab": {}
      },
      "source": [
        "def preprocess(dataset,batch_size, pad_len_question = max_length_question, pad_length_answer = max_length_answer):\n",
        "  dataset = dataset.cache()\n",
        "  #dataset = dataset.map(tf_encode)\n",
        "  dataset = dataset.interleave(tf_interleave_encode, num_parallel_calls = tf.data.experimental.AUTOTUNE)\n",
        "  dataset = dataset.filter(filter_max_length)\n",
        "  dataset = dataset.shuffle(10000)\n",
        "  #dataset = dataset.padded_batch(batch_size)\n",
        "  pad = tf.cast(0,tf.int64)\n",
        "  dataset = dataset.padded_batch(batch_size, drop_remainder = True, padded_shapes = ([pad_len_question],[pad_length_answer]), padding_values = pad)\n",
        "  dataset = dataset.prefetch(tf.data.experimental.AUTOTUNE)\n",
        "  return dataset"
      ],
      "execution_count": 8,
      "outputs": []
    },
    {
      "cell_type": "code",
      "metadata": {
        "id": "JduaOCVjd3_u",
        "colab_type": "code",
        "colab": {}
      },
      "source": [
        "train_dataset = preprocess(train, 64).take(3000)"
      ],
      "execution_count": 9,
      "outputs": []
    },
    {
      "cell_type": "markdown",
      "metadata": {
        "id": "7K3lE8cSIHe4",
        "colab_type": "text"
      },
      "source": [
        "# Positional Encoding and Masks\n"
      ]
    },
    {
      "cell_type": "code",
      "metadata": {
        "id": "spnqARtqKcY9",
        "colab_type": "code",
        "colab": {}
      },
      "source": [
        "def positional_encoding(pos, d_model):\n",
        "\n",
        "  pos_enc = np.zeros((1, pos , d_model))\n",
        "\n",
        "  for p in range(pos):\n",
        "    for i in range(d_model//2):\n",
        "      angles = p / np.power(10000, (2 * i) / np.float32(d_model))\n",
        "      pos_enc[:,p,2*i] = np.sin(angles)\n",
        "      pos_enc[:,p,2*i+1] = np.cos(angles)\n",
        "    if d_model % 2 == 1:\n",
        "      # if d_model is odd loop doesn't hit last even index\n",
        "      angles = p / np.power(10000, (2 * d_model) / np.float32(d_model))\n",
        "      pos_enc[:,p,d_model-1] = np.sin(angles)\n",
        "  return tf.cast(pos_enc, tf.float32)"
      ],
      "execution_count": 10,
      "outputs": []
    },
    {
      "cell_type": "code",
      "metadata": {
        "id": "b_Bbh_hgIMaM",
        "colab_type": "code",
        "colab": {}
      },
      "source": [
        "def padding_mask(seq):\n",
        "    # Returns (batch, seq_len, 1, 1) tensor with 1's where the sequence is padded, 0 where it is not\n",
        "\n",
        "    mask = tf.cast(tf.math.equal(seq, 0), tf.float32)\n",
        "    return mask[:, tf.newaxis, :,  tf.newaxis]  # (batch, 1, seq_len, 1) m l j h  <- j gets masked\n",
        "\n",
        "\n",
        "def forward_mask(seq):\n",
        "    \"\"\"\n",
        "    Calculates a combined forward mask and padding mask for a batch of sequences\n",
        "    :param seq: (batch,seq_len) a batch of sequences\n",
        "    :return:  a combined look_ahead_mask (upper triangular 1s)\n",
        "    and padding mask (batch, seq_len, seq_len, 1)\n",
        "    \"\"\"\n",
        "    seq_len = tf.shape(seq)[1]\n",
        "\n",
        "    look_ahead_mask = 1 - tf.linalg.band_part(tf.ones((seq_len, seq_len)), -1, 0)\n",
        "    look_ahead_mask = look_ahead_mask[tf.newaxis, :, :, tf.newaxis]  # (batch, seq_len, seq_len, 1)\n",
        "\n",
        "    padded_mask = padding_mask(seq)\n",
        "\n",
        "    # return padded_mask * look_ahead_mask  # (batch, seq_len, seq_len, 1)\n",
        "    return tf.maximum(padded_mask, look_ahead_mask)"
      ],
      "execution_count": 21,
      "outputs": []
    },
    {
      "cell_type": "markdown",
      "metadata": {
        "id": "CD3pDp5shvpU",
        "colab_type": "text"
      },
      "source": [
        "# The Transformer"
      ]
    },
    {
      "cell_type": "code",
      "metadata": {
        "id": "7mG-F06GoKcI",
        "colab_type": "code",
        "colab": {
          "base_uri": "https://localhost:8080/",
          "height": 52
        },
        "outputId": "2d4097d0-e907-4079-8318-5212a4cdbcf4"
      },
      "source": [
        "#We will use tf.einsum to save ourselfs 3 tf.transpose operations during the calculation of the attention\n",
        "#This has the additional advantange of facilitating implementation of differente types of attention kernel.\n",
        "\n",
        "q = tf.random.uniform((5000,50,8, 100))\n",
        "k = tf.random.uniform((5000,45,8, 100))\n",
        "\n",
        "\n",
        "tstart = time.time()\n",
        "qt = tf.transpose(q, perm=[0, 2, 1, 3])\n",
        "kt = tf.transpose(k, perm=[0, 2, 1, 3])\n",
        "qk = tf.matmul(qt, kt, transpose_b=True)\n",
        "qk = tf.transpose(qk, perm=[0, 2, 1, 3])\n",
        "tend = time.time()\n",
        "\n",
        "print(\"With matmul :\", tend-tstart)\n",
        "\n",
        "tstart = time.time()\n",
        "qkeinsum = tf.einsum(\"mlhd,mjhd->mljh\",q, k)\n",
        "tend = time.time()\n",
        "print(\"With einsum :\", tend-tstart)\n",
        "\n"
      ],
      "execution_count": 22,
      "outputs": [
        {
          "output_type": "stream",
          "text": [
            "With matmul : 0.0017025470733642578\n",
            "With einsum : 0.0005941390991210938\n"
          ],
          "name": "stdout"
        }
      ]
    },
    {
      "cell_type": "code",
      "metadata": {
        "id": "EOJjdEEghvGq",
        "colab_type": "code",
        "colab": {}
      },
      "source": [
        "class MultiHeadAttention(tf.keras.layers.Layer):\n",
        "\n",
        "  def __init__(self,d_model,num_heads):\n",
        "\n",
        "    super().__init__()\n",
        "\n",
        "    self.d_model = d_model\n",
        "    self.num_heads = num_heads\n",
        "    assert d_model%self.num_heads == 0\n",
        "\n",
        "    self.depth=d_model//self.num_heads\n",
        "    self.wq = tf.keras.layers.Dense(d_model)\n",
        "    self.wk = tf.keras.layers.Dense(d_model)\n",
        "    self.wv = tf.keras.layers.Dense(d_model)\n",
        "    self.dense = tf.keras.layers.Dense(d_model)\n",
        "\n",
        "  def split_heads(self,x, batch_size):\n",
        "\n",
        "    \"\"\"Split the last dimension into (num_heads,depth)\n",
        "\n",
        "    Arguments:\n",
        "    x -- A tokenized sequence (batch_size, seq_len, d_model)\n",
        "    \n",
        "    Returns:\n",
        "    A tokenized sequence with dimensions (batch_size, seq_len, num_heads, depth)\n",
        "    \"\"\"\n",
        "    x = tf.reshape(x, (batch_size, -1, self.num_heads, self.depth))\n",
        "\n",
        "    return x \n",
        "\n",
        "  def call(self,q,k,v,mask=None):\n",
        "\n",
        "    batch_size = tf.shape(q)[0]\n",
        "    q = self.wq(q) #(batch_size,len_q, dim_q) \n",
        "    k = self.wk(k) #(batch_size,len_v, dim_q) \n",
        "    v = self.wv(v) #(batch_size,len_v, dim_v) \n",
        "    \n",
        "    q = self.split_heads(q, batch_size)  # (batch_size, len_q, num_heads, depth_q) (m,l,h,d)\n",
        "    k = self.split_heads(k, batch_size)  # (batch_size, len_v, num_heads, depth_q) (m,j,h,d)\n",
        "    v = self.split_heads(v, batch_size)  # (batch_size, len_v, num_heads, depth_v) (m,j,h,e)\n",
        "\n",
        "    qk = tf.einsum(\"mlhd,mjhd->mljh\",q,k) #(batch_size, len_q, len_v, num_heads) (m,l,j,h)\n",
        "    dk = tf.cast(tf.shape(k)[-1], tf.float32) \n",
        "    qk = qk/tf.math.sqrt(dk)\n",
        "\n",
        "    if mask is not None: \n",
        "       qk = qk -(mask)*1e9 # We are using an additive mask\n",
        "\n",
        "    qk = tf.nn.softmax(qk, axis = -2) #(batch_size,len_q,len_v, num_heads) (m,l,j,h)\n",
        "    dk = tf.cast(tf.shape(k)[-1], tf.float32)\n",
        "    qk = qk/tf.math.sqrt(dk)\n",
        "\n",
        "    output = tf.einsum(\"mljh, mjhe -> mlhe\",qk,v) #(batch_size,len_q, heads, depth_v)\n",
        "    output = tf.reshape(output,(batch_size, -1, self.num_heads*self.depth)) #(batch_size,len_q, d_model)\n",
        "\n",
        "    return self.dense(output)\n"
      ],
      "execution_count": 23,
      "outputs": []
    },
    {
      "cell_type": "code",
      "metadata": {
        "id": "-nJ22J-8woib",
        "colab_type": "code",
        "colab": {}
      },
      "source": [
        "class EncoderLayer(tf.keras.layers.Layer):\n",
        "  \n",
        "  \"\"\"The EncoderLayer consisters of one MultiHeadAttention layer connected to a FeedForward layer,\n",
        "  each of these 2 layers have a residual connection.\"\"\"\n",
        "\n",
        "  def __init__(self, num_heads, d_model, dense_dim, dropout = 0.1):\n",
        "    super().__init__()\n",
        "\n",
        "    self.attention = MultiHeadAttention(d_model,num_heads)\n",
        "    self.dense = tf.keras.Sequential([tf.keras.layers.Dense(dense_dim,activation='relu'),\n",
        "                                         tf.keras.layers.Dense(d_model)])\n",
        "    \n",
        "    self.norm1 = tf.keras.layers.LayerNormalization()\n",
        "    self.norm2 = tf.keras.layers.LayerNormalization()\n",
        "\n",
        "    self.dropout1 = tf.keras.layers.Dropout(dropout)\n",
        "    self.dropout2 = tf.keras.layers.Dropout(dropout)\n",
        "\n",
        "  def call(self, x, training, mask):\n",
        "\n",
        "    out_attention = self.attention(x, x, x, mask) #(batch_size,seq_len,d_model)\n",
        "    out_attention = self.dropout1(out_attention, training=training)\n",
        "    out1 = self.norm1(x + out_attention) #residual connection (batch_size,seq_len,d_model)\n",
        "\n",
        "    out_dense = self.dense(out1) #(batch_size,seq_len,d_model)\n",
        "    out2 = self.norm2(out1 + out_dense) #residual conenction (batch_size,seq_len,d_model)\n",
        "    return out2\n",
        "\n",
        "    \n",
        "class Encoder(tf.keras.layers.Layer):\n",
        "\n",
        "  def __init__(self, num_layers, num_heads, d_model, dense_dim,\n",
        "               vocab_size, max_encoding_position, dropout  = 0.1):\n",
        "    super().__init__()\n",
        "    self.num_heads = num_heads\n",
        "    self.d_model = d_model\n",
        "    self.num_layers = num_layers \n",
        "    self.embedding = tf.keras.layers.Embedding(vocab_size, d_model)\n",
        "    self.positional_encoding = positional_encoding(max_encoding_position, d_model)\n",
        "    self.encoding_layers = [EncoderLayer(num_heads, d_model, dense_dim, dropout) for _ in range(num_layers)]\n",
        "    self.dropout = tf.keras.layers.Dropout(dropout)\n",
        "\n",
        "  def call(self, x, training, mask = None):\n",
        "\n",
        "    seq_len = tf.shape(x)[1]\n",
        "    x = self.embedding(x) #(batch_size,input_len,d_model)\n",
        "    x = x * tf.math.sqrt(tf.cast(self.d_model, tf.float32))\n",
        "    x = x + self.positional_encoding[:, :seq_len, :] \n",
        "    x = self.dropout(x, training = training)    \n",
        "    for i in range(self.num_layers):\n",
        "      x = self.encoding_layers[i](x, training, mask)  # (batch_size, input_seq_len, d_model)\n",
        "    \n",
        "    return x "
      ],
      "execution_count": 24,
      "outputs": []
    },
    {
      "cell_type": "code",
      "metadata": {
        "id": "Yoq8-hnE6dEY",
        "colab_type": "code",
        "colab": {}
      },
      "source": [
        "class DecoderLayer(tf.keras.layers.Layer):\n",
        "\n",
        "\n",
        "  def __init__(self, num_heads, d_model, dense_dim, dropout = 0.1):\n",
        "    super().__init__()\n",
        "\n",
        "    self.attention1 = MultiHeadAttention(d_model,num_heads)\n",
        "    self.attention2 = MultiHeadAttention(d_model,num_heads)\n",
        "\n",
        "    self.dense = tf.keras.Sequential([tf.keras.layers.Dense(dense_dim,activation='relu'),\n",
        "                                        tf.keras.layers.Dense(d_model)])\n",
        "\n",
        "    \n",
        "    self.norm1 = tf.keras.layers.LayerNormalization()\n",
        "    self.norm2 = tf.keras.layers.LayerNormalization()\n",
        "    self.norm3 = tf.keras.layers.LayerNormalization()\n",
        "\n",
        "    self.dropout1 = tf.keras.layers.Dropout(dropout)\n",
        "    self.dropout2 = tf.keras.layers.Dropout(dropout)\n",
        "    self.dropout3 = tf.keras.layers.Dropout(dropout)\n",
        "\n",
        "  def call(self, encoder_out, x, training, forward_mask, padding_mask):\n",
        "\n",
        "    #We will not use forward masking since it makes little sense in this context\n",
        "\n",
        "    out_attention1 = self.attention1(x, x, x, forward_mask) #(batch_size, seq_len_answer, d_model) -> The return seq_len is the same as that of the first argument of the call.\n",
        "    out_attention1 = self.dropout1(out_attention1, training = training)\n",
        "    out1 = self.norm1(x + out_attention1) #residual connection (batch_size, seq_len_answer, d_model)\n",
        "\n",
        "    out_attention2 = self.attention2(out1, encoder_out, encoder_out, padding_mask) #(batch_size, seq_len_answer, d_model)\n",
        "    out_attention2 = self.dropout2(out_attention2, training = training)\n",
        "    out2 = self.norm2(out1 + out_attention2)\n",
        "\n",
        "    out_dense = self.dense(out2)\n",
        "    out_dense = self.dropout3(out_dense + out2)\n",
        "\n",
        "    return out_dense\n",
        "\n",
        "class Decoder(tf.keras.layers.Layer):\n",
        "\n",
        "\n",
        "  def __init__(self, num_layers, num_heads, d_model, dense_dim,\n",
        "               vocab_size, max_encoding_position, dropout  = 0.1):\n",
        "    super().__init__()\n",
        "    \n",
        "    self.num_heads = num_heads\n",
        "    self.d_model = d_model\n",
        "    self.num_layers = num_layers \n",
        "    self.embedding = tf.keras.layers.Embedding(vocab_size, d_model)\n",
        "    self.positional_encoding = positional_encoding(max_encoding_position, d_model)\n",
        "    self.decoder_layers = [DecoderLayer(num_heads, d_model, dense_dim, dropout) for _ in range(num_layers)]\n",
        "    self.dropout = tf.keras.layers.Dropout(dropout)\n",
        "\n",
        "\n",
        "  def call(self, encoder_out, x, training, forward_mask = None, padding_mask = None):\n",
        "\n",
        "    seq_len = tf.shape(x)[1]\n",
        "    x = self.embedding(x) #(batch_size,input_len,d_model)\n",
        "    x = x * tf.math.sqrt(tf.cast(self.d_model, tf.float32)) \n",
        "    x = x + self.positional_encoding[:, :seq_len, :] \n",
        "    x = self.dropout(x, training = training)    \n",
        "    for i in range(self.num_layers):\n",
        "      x = self.decoder_layers[i](encoder_out, x, training, forward_mask, padding_mask)  # (batch_size, input_seq_len, d_model)\n",
        "    return x"
      ],
      "execution_count": 25,
      "outputs": []
    },
    {
      "cell_type": "code",
      "metadata": {
        "id": "ecrEgr2AF5eV",
        "colab_type": "code",
        "colab": {}
      },
      "source": [
        "class Transformer(tf.keras.Model):\n",
        "\n",
        "  \n",
        "    def __init__(self, num_layers, num_heads, d_model,  dense_dim, vocab_size,\n",
        "                 input_max_position, target_max_position, rate=0.1):\n",
        "      super().__init__()\n",
        "\n",
        "      self.encoder = Encoder(num_layers, num_heads, d_model, dense_dim,\n",
        "               vocab_size, max_encoding_position = input_max_position, dropout  = 0.1)\n",
        "      \n",
        "      self.decoder = Decoder(num_layers, num_heads, d_model, dense_dim,\n",
        "               vocab_size, max_encoding_position = target_max_position, dropout  = 0.1)\n",
        "      \n",
        "      self.dense = tf.keras.layers.Dense(vocab_size)\n",
        "\n",
        "    def call(self, input, target, training = False, enc_mask = None , dec_forward_mask= None, dec_padding_mask = None):\n",
        "\n",
        "      out_encoder = self.encoder(input, training = training, mask = enc_mask)\n",
        "\n",
        "      out_decoder = self.decoder(out_encoder, target, training = training, forward_mask = dec_forward_mask, padding_mask = dec_padding_mask)\n",
        "\n",
        "      out = self.dense(out_decoder)\n",
        "\n",
        "      return out"
      ],
      "execution_count": 26,
      "outputs": []
    },
    {
      "cell_type": "markdown",
      "metadata": {
        "id": "VRoizp-KmQge",
        "colab_type": "text"
      },
      "source": [
        "#Training"
      ]
    },
    {
      "cell_type": "code",
      "metadata": {
        "id": "4oGk0yQKdPPB",
        "colab_type": "code",
        "colab": {}
      },
      "source": [
        "num_layers = 3\n",
        "d_model = 64\n",
        "dense_dim = 256\n",
        "num_heads = 4\n",
        "\n",
        "vocab_size = tokenizer.vocab_size + 2\n",
        "\n",
        "dropout_rate = 0.1\n",
        "transformer = Transformer( num_layers = num_layers, num_heads = num_heads, d_model = d_model,  dense_dim = dense_dim, vocab_size = vocab_size,\n",
        "                 input_max_position = max_length_question, target_max_position = max_length_answer, rate=0.1)"
      ],
      "execution_count": 27,
      "outputs": []
    },
    {
      "cell_type": "code",
      "metadata": {
        "id": "HeNWYTa018fQ",
        "colab_type": "code",
        "colab": {}
      },
      "source": [
        "class CustomSchedule(tf.keras.optimizers.schedules.LearningRateSchedule):\n",
        "  def __init__(self, d_model, warmup_steps=4000):\n",
        "    super(CustomSchedule, self).__init__()\n",
        "    \n",
        "    self.d_model = d_model\n",
        "    self.d_model = tf.cast(self.d_model, tf.float32)\n",
        "\n",
        "    self.warmup_steps = warmup_steps\n",
        "    \n",
        "  def __call__(self, step):\n",
        "    arg1 = tf.math.rsqrt(step)\n",
        "    arg2 = step * (self.warmup_steps ** -1.5)\n",
        "    \n",
        "    return tf.math.rsqrt(self.d_model) * tf.math.minimum(arg1, arg2)\n",
        "learning_rate = CustomSchedule(d_model)\n",
        "optimizer = tf.keras.optimizers.Adam(learning_rate, beta_1=0.9, beta_2=0.98, \n",
        "                                     epsilon=1e-9)"
      ],
      "execution_count": 28,
      "outputs": []
    },
    {
      "cell_type": "code",
      "metadata": {
        "id": "wAq8RIZKfLbu",
        "colab_type": "code",
        "colab": {}
      },
      "source": [
        "loss_fn = tf.keras.losses.SparseCategoricalCrossentropy(\n",
        "    from_logits=True, reduction='none')\n",
        "\n",
        "def masked_loss_fn(answer, prediction):\n",
        "  mask = tf.math.logical_not(tf.math.equal(answer,0)) #0 at zeroes, 1 at non-zeroes since seq is padded\n",
        "  mask = tf.cast(mask, tf.int32)\n",
        "  loss_value = loss_fn(answer,prediction,sample_weight=mask) #set the zeros to zero weight, other values have weight of 1. \n",
        "\n",
        "  return loss_value\n",
        "\n",
        "train_loss = tf.keras.metrics.Mean(name='train_loss')\n",
        "train_accuracy = tf.keras.metrics.SparseCategoricalAccuracy(\n",
        "    name='train_accuracy')"
      ],
      "execution_count": 29,
      "outputs": []
    },
    {
      "cell_type": "code",
      "metadata": {
        "id": "neGZo1pI31rO",
        "colab_type": "code",
        "colab": {
          "base_uri": "https://localhost:8080/",
          "height": 537
        },
        "outputId": "35e1ff96-c748-4344-e958-a5807f6d61a3"
      },
      "source": [
        "EPOCHS = 10\n",
        "signature = [tf.TensorSpec(shape=(None, max_length_question), dtype=tf.int64), tf.TensorSpec(shape=(None, max_length_answer), dtype=tf.int64),] #quite a bit faster if we specify the signature\n",
        "\n",
        "@tf.function(input_signature=signature)\n",
        "def train_step(question, answer):\n",
        "  answer_in = answer[:, :-1]\n",
        "  answer_tar = answer[:, 1:]\n",
        "  \n",
        "  enc_padding_mask = padding_mask(question)\n",
        "  dec_padding_mask = padding_mask(question)\n",
        "  dec_forward_mask = forward_mask(answer_in)\n",
        "  \n",
        "  with tf.GradientTape() as tape:\n",
        "    predictions = transformer(question, answer_in, training = True, enc_mask = enc_padding_mask , dec_forward_mask = dec_forward_mask, dec_padding_mask = dec_padding_mask)\n",
        "    loss = masked_loss_fn(answer_tar, predictions)\n",
        "\n",
        "  gradients = tape.gradient(loss, transformer.trainable_variables)    \n",
        "  optimizer.apply_gradients(zip(gradients, transformer.trainable_variables))\n",
        "  \n",
        "  train_loss(loss)\n",
        "  train_accuracy(answer_tar, predictions)\n",
        "\n",
        "\n",
        "for epoch in range(EPOCHS):\n",
        "  start = time.time()\n",
        "  \n",
        "  train_loss.reset_states()\n",
        "  train_accuracy.reset_states()\n",
        "  \n",
        "  for (batch, (question, answer)) in enumerate(train_dataset):\n",
        "    train_step(question, answer)\n",
        "\n",
        "  print ('Epoch {} Loss {:.4f} Accuracy {:.4f}'.format(epoch + 1, \n",
        "                                                train_loss.result(), \n",
        "                                                train_accuracy.result()))\n",
        "\n",
        "  print ('Time taken for 1 epoch: {} secs\\n'.format(time.time() - start))"
      ],
      "execution_count": 30,
      "outputs": [
        {
          "output_type": "stream",
          "text": [
            "Epoch 1 Loss 1.1000 Accuracy 0.1571\n",
            "Time taken for 1 epoch: 147.84147262573242 secs\n",
            "\n",
            "Epoch 2 Loss 0.6122 Accuracy 0.2371\n",
            "Time taken for 1 epoch: 139.10298252105713 secs\n",
            "\n",
            "Epoch 3 Loss 0.4958 Accuracy 0.2531\n",
            "Time taken for 1 epoch: 140.43976664543152 secs\n",
            "\n",
            "Epoch 4 Loss 0.4141 Accuracy 0.2636\n",
            "Time taken for 1 epoch: 140.69055247306824 secs\n",
            "\n",
            "Epoch 5 Loss 0.3658 Accuracy 0.2706\n",
            "Time taken for 1 epoch: 141.82458972930908 secs\n",
            "\n",
            "Epoch 6 Loss 0.3308 Accuracy 0.2766\n",
            "Time taken for 1 epoch: 143.371098279953 secs\n",
            "\n",
            "Epoch 7 Loss 0.3075 Accuracy 0.2807\n",
            "Time taken for 1 epoch: 142.2858908176422 secs\n",
            "\n",
            "Epoch 8 Loss 0.2888 Accuracy 0.2839\n",
            "Time taken for 1 epoch: 140.18801379203796 secs\n",
            "\n",
            "Epoch 9 Loss 0.2733 Accuracy 0.2868\n",
            "Time taken for 1 epoch: 140.2986342906952 secs\n",
            "\n",
            "Epoch 10 Loss 0.2607 Accuracy 0.2893\n",
            "Time taken for 1 epoch: 141.46150422096252 secs\n",
            "\n"
          ],
          "name": "stdout"
        }
      ]
    },
    {
      "cell_type": "markdown",
      "metadata": {
        "id": "G2PezWhy3d1v",
        "colab_type": "text"
      },
      "source": [
        "# EVALUATION\n"
      ]
    },
    {
      "cell_type": "code",
      "metadata": {
        "id": "14QmhWesaJ2g",
        "colab_type": "code",
        "colab": {}
      },
      "source": [
        "def evaluate(question):\n",
        "\n",
        "  start_token = [tokenizer.vocab_size]\n",
        "  end_token = [tokenizer.vocab_size + 1]\n",
        "  question = start_token + tokenizer.encode(question) + end_token\n",
        "  question = tf.expand_dims(question, 0)\n",
        "  answer_in = [tokenizer.vocab_size]\n",
        "  answer_in = tf.expand_dims(answer_in, 0)\n",
        "\n",
        "  for i in range(max_length_answer):\n",
        "\n",
        "    enc_padding_mask = padding_mask(question)\n",
        "    dec_padding_mask = padding_mask(question)\n",
        "    dec_forward_mask = forward_mask(answer_in)\n",
        "\n",
        "    predictions = transformer(question, answer_in, training = False, enc_mask = enc_padding_mask , dec_forward_mask = dec_forward_mask, dec_padding_mask = dec_padding_mask)\n",
        "    prediction = predictions[:,-1,:] #select the last word to add to the outputs\n",
        "\n",
        "    predicted_id = tf.cast(tf.argmax(prediction, axis=-1), tf.int32)\n",
        "\n",
        "\n",
        "    if predicted_id == end_token[0]:\n",
        "      return tf.squeeze(answer_in, axis=0)\n",
        "    predicted_id = tf.expand_dims(predicted_id,0)\n",
        "    answer_in = tf.concat([answer_in,predicted_id],axis = -1)\n",
        "  \n",
        "  return tf.squeeze(answer_in, axis = 0)\n",
        "  #return ansswer_in"
      ],
      "execution_count": 42,
      "outputs": []
    },
    {
      "cell_type": "code",
      "metadata": {
        "id": "jYmpHOETC4mS",
        "colab_type": "code",
        "colab": {}
      },
      "source": [
        "def find_answer(sentence):\n",
        "  result = np.array(evaluate(sentence))\n",
        "  \n",
        "  predicted_sentence = tokenizer.decode([i for i in result \n",
        "                                            if i < tokenizer.vocab_size and i > 0])\n",
        "  print('Input: {}'.format(sentence))\n",
        "  print('Predicted answer: {}'.format(predicted_sentence))"
      ],
      "execution_count": 43,
      "outputs": []
    },
    {
      "cell_type": "code",
      "metadata": {
        "id": "MDG24peIC74f",
        "colab_type": "code",
        "colab": {
          "base_uri": "https://localhost:8080/",
          "height": 52
        },
        "outputId": "afe3f59d-abc4-4c60-cb04-65d517fa356f"
      },
      "source": [
        "question = 'Find the first derivative of x**2 +y**2 wrt x.'\n",
        "#expected 2*x\n",
        "find_answer(question)"
      ],
      "execution_count": 49,
      "outputs": [
        {
          "output_type": "stream",
          "text": [
            "Input: Find the first derivative of x**2 +y**2 wrt x.\n",
            "Predicted answer: 2*x\n"
          ],
          "name": "stdout"
        }
      ]
    },
    {
      "cell_type": "code",
      "metadata": {
        "id": "gIcpuBf147jQ",
        "colab_type": "code",
        "colab": {
          "base_uri": "https://localhost:8080/",
          "height": 52
        },
        "outputId": "cd447b36-ecc4-45c7-dfea-610ccaabe61c"
      },
      "source": [
        "question = 'Find the first derivative of x**2 + x**3 +2*y wrt x.'\n",
        "#expected 2x + 3x^2\n",
        "find_answer(question)"
      ],
      "execution_count": 56,
      "outputs": [
        {
          "output_type": "stream",
          "text": [
            "Input: Find the second derivative of x**2 + x**3 +2*y wrt x.\n",
            "Predicted answer: 2*x + 6*x\n"
          ],
          "name": "stdout"
        }
      ]
    },
    {
      "cell_type": "code",
      "metadata": {
        "id": "tEl6Ouk65Ftu",
        "colab_type": "code",
        "colab": {
          "base_uri": "https://localhost:8080/",
          "height": 52
        },
        "outputId": "7e5e723d-d2f4-4f74-b146-d89f2e941a1b"
      },
      "source": [
        "question = 'Find the first derivative of x**2 + x**3 +2*x*y wrt x.'\n",
        "#Expected 2x + 3x^2 + 2y\n",
        "find_answer(question)"
      ],
      "execution_count": 53,
      "outputs": [
        {
          "output_type": "stream",
          "text": [
            "Input: Find the first derivative of x**2 + x**3 +2*x*y wrt x.\n",
            "Predicted answer: 2*x + 3*x**2\n"
          ],
          "name": "stdout"
        }
      ]
    },
    {
      "cell_type": "code",
      "metadata": {
        "id": "UyXxJaDJ5Uid",
        "colab_type": "code",
        "colab": {
          "base_uri": "https://localhost:8080/",
          "height": 52
        },
        "outputId": "b8e1e3f4-a58e-492d-fe8d-0abdaf8d9b3f"
      },
      "source": [
        "question = 'Find the second derivative of cos(x) with respect to x.'\n",
        "#-cos(x)\n",
        "find_answer(question)"
      ],
      "execution_count": 55,
      "outputs": [
        {
          "output_type": "stream",
          "text": [
            "Input: Find the second derivative of cos(x) with respect to x.\n",
            "Predicted answer: 1\n"
          ],
          "name": "stdout"
        }
      ]
    },
    {
      "cell_type": "code",
      "metadata": {
        "id": "GC71Nykk54HT",
        "colab_type": "code",
        "colab": {
          "base_uri": "https://localhost:8080/",
          "height": 52
        },
        "outputId": "054ea12c-3877-471c-ecce-2e6aeaae9e74"
      },
      "source": [
        "question = 'Find the second derivative of x**3 + 6*x with respect to x.'\n",
        "#expect 6x\n",
        "find_answer(question)"
      ],
      "execution_count": 57,
      "outputs": [
        {
          "output_type": "stream",
          "text": [
            "Input: Find the second derivative of x**3 + 6*x with respect to x.\n",
            "Predicted answer: 6*x + 12\n"
          ],
          "name": "stdout"
        }
      ]
    },
    {
      "cell_type": "code",
      "metadata": {
        "id": "dsNhhTc29TCS",
        "colab_type": "code",
        "colab": {
          "base_uri": "https://localhost:8080/",
          "height": 35
        },
        "outputId": "d9fafd67-e619-4bad-a7db-672b91e08dd0"
      },
      "source": [
        "'phi' in tokenizer.subwords"
      ],
      "execution_count": 71,
      "outputs": [
        {
          "output_type": "execute_result",
          "data": {
            "text/plain": [
              "False"
            ]
          },
          "metadata": {
            "tags": []
          },
          "execution_count": 71
        }
      ]
    },
    {
      "cell_type": "code",
      "metadata": {
        "id": "gBUmuZgo6QVy",
        "colab_type": "code",
        "colab": {
          "base_uri": "https://localhost:8080/",
          "height": 52
        },
        "outputId": "551ec5c5-3eff-4e78-f5e1-58617255b321"
      },
      "source": [
        "\"\"\"\"\"\"\n",
        "question = 'Find the first derivative of phi**2 + 6*phi wrt to phi.'\n",
        "#expect 2phi + 6\n",
        "find_answer(question)"
      ],
      "execution_count": 66,
      "outputs": [
        {
          "output_type": "stream",
          "text": [
            "Input: Find the first derivative of phi**2 + 6*phi wrt to phi.\n",
            "Predicted answer: 2*h + 6\n"
          ],
          "name": "stdout"
        }
      ]
    },
    {
      "cell_type": "code",
      "metadata": {
        "id": "SCnmHs1U7L7E",
        "colab_type": "code",
        "colab": {}
      },
      "source": [
        "transformer.save_weights(\"transformer_calculus\")"
      ],
      "execution_count": 67,
      "outputs": []
    },
    {
      "cell_type": "code",
      "metadata": {
        "id": "FZ8pmeba7QWT",
        "colab_type": "code",
        "colab": {}
      },
      "source": [
        "tokenizer.save_to_file(\"calculus\")"
      ],
      "execution_count": 68,
      "outputs": []
    },
    {
      "cell_type": "markdown",
      "metadata": {
        "id": "xgYkOAK9yI_A",
        "colab_type": "text"
      },
      "source": [
        "It seems that the model has learned first derivative of polynomials of 1 variable. Unfortunately the transformer struggles in most other scenarios. \n",
        "\n",
        "The last question suggest that the model has indeed learned some basic mathematics. The variable \"phi\" is not in the token list, despite this, the model outputs the correct expression form but switches variable names.\n",
        "\n",
        "The transformer can be trained for more epochs and tuned for performance as a future experiment.\n",
        "\n",
        "A possible improvment is to find better representation of the input. For this model, numbers are represented as strings and tokenized which seems suboptimal. The tokenizer is mostly populated by numbers.\n",
        "\n",
        "This was an interesting experiment overall. "
      ]
    }
  ]
}