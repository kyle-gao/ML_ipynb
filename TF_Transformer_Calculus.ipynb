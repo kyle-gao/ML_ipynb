{
  "nbformat": 4,
  "nbformat_minor": 0,
  "metadata": {
    "colab": {
      "name": "TF_Transformer_Calculus.ipynb",
      "provenance": [],
      "collapsed_sections": [],
      "authorship_tag": "ABX9TyNokAJ141EkgXNkb3Aq3IVB",
      "include_colab_link": true
    },
    "kernelspec": {
      "name": "python3",
      "display_name": "Python 3"
    },
    "accelerator": "GPU",
    "widgets": {
      "application/vnd.jupyter.widget-state+json": {
        "a552f7875fd04117b5568301cac8526c": {
          "model_module": "@jupyter-widgets/controls",
          "model_name": "HBoxModel",
          "state": {
            "_view_name": "HBoxView",
            "_dom_classes": [],
            "_model_name": "HBoxModel",
            "_view_module": "@jupyter-widgets/controls",
            "_model_module_version": "1.5.0",
            "_view_count": null,
            "_view_module_version": "1.5.0",
            "box_style": "",
            "layout": "IPY_MODEL_872637f13166470c9bf3745fc87b9a94",
            "_model_module": "@jupyter-widgets/controls",
            "children": [
              "IPY_MODEL_690bb76858dc445eb248ab55723510d6",
              "IPY_MODEL_8d3ca157913f4f72a1bc5c4732b7c23a"
            ]
          }
        },
        "872637f13166470c9bf3745fc87b9a94": {
          "model_module": "@jupyter-widgets/base",
          "model_name": "LayoutModel",
          "state": {
            "_view_name": "LayoutView",
            "grid_template_rows": null,
            "right": null,
            "justify_content": null,
            "_view_module": "@jupyter-widgets/base",
            "overflow": null,
            "_model_module_version": "1.2.0",
            "_view_count": null,
            "flex_flow": null,
            "width": null,
            "min_width": null,
            "border": null,
            "align_items": null,
            "bottom": null,
            "_model_module": "@jupyter-widgets/base",
            "top": null,
            "grid_column": null,
            "overflow_y": null,
            "overflow_x": null,
            "grid_auto_flow": null,
            "grid_area": null,
            "grid_template_columns": null,
            "flex": null,
            "_model_name": "LayoutModel",
            "justify_items": null,
            "grid_row": null,
            "max_height": null,
            "align_content": null,
            "visibility": null,
            "align_self": null,
            "height": null,
            "min_height": null,
            "padding": null,
            "grid_auto_rows": null,
            "grid_gap": null,
            "max_width": null,
            "order": null,
            "_view_module_version": "1.2.0",
            "grid_template_areas": null,
            "object_position": null,
            "object_fit": null,
            "grid_auto_columns": null,
            "margin": null,
            "display": null,
            "left": null
          }
        },
        "690bb76858dc445eb248ab55723510d6": {
          "model_module": "@jupyter-widgets/controls",
          "model_name": "FloatProgressModel",
          "state": {
            "_view_name": "ProgressView",
            "style": "IPY_MODEL_0da1054517b5442c88328f11db4354d0",
            "_dom_classes": [],
            "description": "Dl Completed...: 100%",
            "_model_name": "FloatProgressModel",
            "bar_style": "success",
            "max": 1,
            "_view_module": "@jupyter-widgets/controls",
            "_model_module_version": "1.5.0",
            "value": 1,
            "_view_count": null,
            "_view_module_version": "1.5.0",
            "orientation": "horizontal",
            "min": 0,
            "description_tooltip": null,
            "_model_module": "@jupyter-widgets/controls",
            "layout": "IPY_MODEL_f27db791893c4d1ab1f5134c06f1cba5"
          }
        },
        "8d3ca157913f4f72a1bc5c4732b7c23a": {
          "model_module": "@jupyter-widgets/controls",
          "model_name": "HTMLModel",
          "state": {
            "_view_name": "HTMLView",
            "style": "IPY_MODEL_16a09e31b47340479444a7edc51a87cf",
            "_dom_classes": [],
            "description": "",
            "_model_name": "HTMLModel",
            "placeholder": "​",
            "_view_module": "@jupyter-widgets/controls",
            "_model_module_version": "1.5.0",
            "value": " 1/1 [03:57&lt;00:00, 237.31s/ url]",
            "_view_count": null,
            "_view_module_version": "1.5.0",
            "description_tooltip": null,
            "_model_module": "@jupyter-widgets/controls",
            "layout": "IPY_MODEL_55b86c650aa6430281b17ef8e1a4f3f8"
          }
        },
        "0da1054517b5442c88328f11db4354d0": {
          "model_module": "@jupyter-widgets/controls",
          "model_name": "ProgressStyleModel",
          "state": {
            "_view_name": "StyleView",
            "_model_name": "ProgressStyleModel",
            "description_width": "initial",
            "_view_module": "@jupyter-widgets/base",
            "_model_module_version": "1.5.0",
            "_view_count": null,
            "_view_module_version": "1.2.0",
            "bar_color": null,
            "_model_module": "@jupyter-widgets/controls"
          }
        },
        "f27db791893c4d1ab1f5134c06f1cba5": {
          "model_module": "@jupyter-widgets/base",
          "model_name": "LayoutModel",
          "state": {
            "_view_name": "LayoutView",
            "grid_template_rows": null,
            "right": null,
            "justify_content": null,
            "_view_module": "@jupyter-widgets/base",
            "overflow": null,
            "_model_module_version": "1.2.0",
            "_view_count": null,
            "flex_flow": null,
            "width": null,
            "min_width": null,
            "border": null,
            "align_items": null,
            "bottom": null,
            "_model_module": "@jupyter-widgets/base",
            "top": null,
            "grid_column": null,
            "overflow_y": null,
            "overflow_x": null,
            "grid_auto_flow": null,
            "grid_area": null,
            "grid_template_columns": null,
            "flex": null,
            "_model_name": "LayoutModel",
            "justify_items": null,
            "grid_row": null,
            "max_height": null,
            "align_content": null,
            "visibility": null,
            "align_self": null,
            "height": null,
            "min_height": null,
            "padding": null,
            "grid_auto_rows": null,
            "grid_gap": null,
            "max_width": null,
            "order": null,
            "_view_module_version": "1.2.0",
            "grid_template_areas": null,
            "object_position": null,
            "object_fit": null,
            "grid_auto_columns": null,
            "margin": null,
            "display": null,
            "left": null
          }
        },
        "16a09e31b47340479444a7edc51a87cf": {
          "model_module": "@jupyter-widgets/controls",
          "model_name": "DescriptionStyleModel",
          "state": {
            "_view_name": "StyleView",
            "_model_name": "DescriptionStyleModel",
            "description_width": "",
            "_view_module": "@jupyter-widgets/base",
            "_model_module_version": "1.5.0",
            "_view_count": null,
            "_view_module_version": "1.2.0",
            "_model_module": "@jupyter-widgets/controls"
          }
        },
        "55b86c650aa6430281b17ef8e1a4f3f8": {
          "model_module": "@jupyter-widgets/base",
          "model_name": "LayoutModel",
          "state": {
            "_view_name": "LayoutView",
            "grid_template_rows": null,
            "right": null,
            "justify_content": null,
            "_view_module": "@jupyter-widgets/base",
            "overflow": null,
            "_model_module_version": "1.2.0",
            "_view_count": null,
            "flex_flow": null,
            "width": null,
            "min_width": null,
            "border": null,
            "align_items": null,
            "bottom": null,
            "_model_module": "@jupyter-widgets/base",
            "top": null,
            "grid_column": null,
            "overflow_y": null,
            "overflow_x": null,
            "grid_auto_flow": null,
            "grid_area": null,
            "grid_template_columns": null,
            "flex": null,
            "_model_name": "LayoutModel",
            "justify_items": null,
            "grid_row": null,
            "max_height": null,
            "align_content": null,
            "visibility": null,
            "align_self": null,
            "height": null,
            "min_height": null,
            "padding": null,
            "grid_auto_rows": null,
            "grid_gap": null,
            "max_width": null,
            "order": null,
            "_view_module_version": "1.2.0",
            "grid_template_areas": null,
            "object_position": null,
            "object_fit": null,
            "grid_auto_columns": null,
            "margin": null,
            "display": null,
            "left": null
          }
        },
        "6a690b6a0ddb4fbb811b370ae102aba2": {
          "model_module": "@jupyter-widgets/controls",
          "model_name": "HBoxModel",
          "state": {
            "_view_name": "HBoxView",
            "_dom_classes": [],
            "_model_name": "HBoxModel",
            "_view_module": "@jupyter-widgets/controls",
            "_model_module_version": "1.5.0",
            "_view_count": null,
            "_view_module_version": "1.5.0",
            "box_style": "",
            "layout": "IPY_MODEL_28a1e5a170c944368d964a2d3466567e",
            "_model_module": "@jupyter-widgets/controls",
            "children": [
              "IPY_MODEL_a0a2e80406364499a44b0ace310e8058",
              "IPY_MODEL_3e712b3636c44d08a80a92063f7785f8"
            ]
          }
        },
        "28a1e5a170c944368d964a2d3466567e": {
          "model_module": "@jupyter-widgets/base",
          "model_name": "LayoutModel",
          "state": {
            "_view_name": "LayoutView",
            "grid_template_rows": null,
            "right": null,
            "justify_content": null,
            "_view_module": "@jupyter-widgets/base",
            "overflow": null,
            "_model_module_version": "1.2.0",
            "_view_count": null,
            "flex_flow": null,
            "width": null,
            "min_width": null,
            "border": null,
            "align_items": null,
            "bottom": null,
            "_model_module": "@jupyter-widgets/base",
            "top": null,
            "grid_column": null,
            "overflow_y": null,
            "overflow_x": null,
            "grid_auto_flow": null,
            "grid_area": null,
            "grid_template_columns": null,
            "flex": null,
            "_model_name": "LayoutModel",
            "justify_items": null,
            "grid_row": null,
            "max_height": null,
            "align_content": null,
            "visibility": null,
            "align_self": null,
            "height": null,
            "min_height": null,
            "padding": null,
            "grid_auto_rows": null,
            "grid_gap": null,
            "max_width": null,
            "order": null,
            "_view_module_version": "1.2.0",
            "grid_template_areas": null,
            "object_position": null,
            "object_fit": null,
            "grid_auto_columns": null,
            "margin": null,
            "display": null,
            "left": null
          }
        },
        "a0a2e80406364499a44b0ace310e8058": {
          "model_module": "@jupyter-widgets/controls",
          "model_name": "FloatProgressModel",
          "state": {
            "_view_name": "ProgressView",
            "style": "IPY_MODEL_d7166462e83c47d3b63b9a6be240abea",
            "_dom_classes": [],
            "description": "Dl Size...: 100%",
            "_model_name": "FloatProgressModel",
            "bar_style": "success",
            "max": 1,
            "_view_module": "@jupyter-widgets/controls",
            "_model_module_version": "1.5.0",
            "value": 1,
            "_view_count": null,
            "_view_module_version": "1.5.0",
            "orientation": "horizontal",
            "min": 0,
            "description_tooltip": null,
            "_model_module": "@jupyter-widgets/controls",
            "layout": "IPY_MODEL_d809024496b94dd4af64d328bd1b381c"
          }
        },
        "3e712b3636c44d08a80a92063f7785f8": {
          "model_module": "@jupyter-widgets/controls",
          "model_name": "HTMLModel",
          "state": {
            "_view_name": "HTMLView",
            "style": "IPY_MODEL_c1a455c68ff64d57b9a19401ca5dcec9",
            "_dom_classes": [],
            "description": "",
            "_model_name": "HTMLModel",
            "placeholder": "​",
            "_view_module": "@jupyter-widgets/controls",
            "_model_module_version": "1.5.0",
            "value": " 2225/2225 [03:57&lt;00:00,  9.38 MiB/s]",
            "_view_count": null,
            "_view_module_version": "1.5.0",
            "description_tooltip": null,
            "_model_module": "@jupyter-widgets/controls",
            "layout": "IPY_MODEL_1a1e5dff1b89475ab1e9d836316540e5"
          }
        },
        "d7166462e83c47d3b63b9a6be240abea": {
          "model_module": "@jupyter-widgets/controls",
          "model_name": "ProgressStyleModel",
          "state": {
            "_view_name": "StyleView",
            "_model_name": "ProgressStyleModel",
            "description_width": "initial",
            "_view_module": "@jupyter-widgets/base",
            "_model_module_version": "1.5.0",
            "_view_count": null,
            "_view_module_version": "1.2.0",
            "bar_color": null,
            "_model_module": "@jupyter-widgets/controls"
          }
        },
        "d809024496b94dd4af64d328bd1b381c": {
          "model_module": "@jupyter-widgets/base",
          "model_name": "LayoutModel",
          "state": {
            "_view_name": "LayoutView",
            "grid_template_rows": null,
            "right": null,
            "justify_content": null,
            "_view_module": "@jupyter-widgets/base",
            "overflow": null,
            "_model_module_version": "1.2.0",
            "_view_count": null,
            "flex_flow": null,
            "width": null,
            "min_width": null,
            "border": null,
            "align_items": null,
            "bottom": null,
            "_model_module": "@jupyter-widgets/base",
            "top": null,
            "grid_column": null,
            "overflow_y": null,
            "overflow_x": null,
            "grid_auto_flow": null,
            "grid_area": null,
            "grid_template_columns": null,
            "flex": null,
            "_model_name": "LayoutModel",
            "justify_items": null,
            "grid_row": null,
            "max_height": null,
            "align_content": null,
            "visibility": null,
            "align_self": null,
            "height": null,
            "min_height": null,
            "padding": null,
            "grid_auto_rows": null,
            "grid_gap": null,
            "max_width": null,
            "order": null,
            "_view_module_version": "1.2.0",
            "grid_template_areas": null,
            "object_position": null,
            "object_fit": null,
            "grid_auto_columns": null,
            "margin": null,
            "display": null,
            "left": null
          }
        },
        "c1a455c68ff64d57b9a19401ca5dcec9": {
          "model_module": "@jupyter-widgets/controls",
          "model_name": "DescriptionStyleModel",
          "state": {
            "_view_name": "StyleView",
            "_model_name": "DescriptionStyleModel",
            "description_width": "",
            "_view_module": "@jupyter-widgets/base",
            "_model_module_version": "1.5.0",
            "_view_count": null,
            "_view_module_version": "1.2.0",
            "_model_module": "@jupyter-widgets/controls"
          }
        },
        "1a1e5dff1b89475ab1e9d836316540e5": {
          "model_module": "@jupyter-widgets/base",
          "model_name": "LayoutModel",
          "state": {
            "_view_name": "LayoutView",
            "grid_template_rows": null,
            "right": null,
            "justify_content": null,
            "_view_module": "@jupyter-widgets/base",
            "overflow": null,
            "_model_module_version": "1.2.0",
            "_view_count": null,
            "flex_flow": null,
            "width": null,
            "min_width": null,
            "border": null,
            "align_items": null,
            "bottom": null,
            "_model_module": "@jupyter-widgets/base",
            "top": null,
            "grid_column": null,
            "overflow_y": null,
            "overflow_x": null,
            "grid_auto_flow": null,
            "grid_area": null,
            "grid_template_columns": null,
            "flex": null,
            "_model_name": "LayoutModel",
            "justify_items": null,
            "grid_row": null,
            "max_height": null,
            "align_content": null,
            "visibility": null,
            "align_self": null,
            "height": null,
            "min_height": null,
            "padding": null,
            "grid_auto_rows": null,
            "grid_gap": null,
            "max_width": null,
            "order": null,
            "_view_module_version": "1.2.0",
            "grid_template_areas": null,
            "object_position": null,
            "object_fit": null,
            "grid_auto_columns": null,
            "margin": null,
            "display": null,
            "left": null
          }
        },
        "c0526afff9f54d42a4fab5c4e808ae07": {
          "model_module": "@jupyter-widgets/controls",
          "model_name": "HBoxModel",
          "state": {
            "_view_name": "HBoxView",
            "_dom_classes": [],
            "_model_name": "HBoxModel",
            "_view_module": "@jupyter-widgets/controls",
            "_model_module_version": "1.5.0",
            "_view_count": null,
            "_view_module_version": "1.5.0",
            "box_style": "",
            "layout": "IPY_MODEL_bf2fc771e1ca4244aabf0ee85743b591",
            "_model_module": "@jupyter-widgets/controls",
            "children": [
              "IPY_MODEL_9ca826291fc94cf79045bb9d3383ccc4",
              "IPY_MODEL_57f600fcfe244467920fbc3a25e9e147"
            ]
          }
        },
        "bf2fc771e1ca4244aabf0ee85743b591": {
          "model_module": "@jupyter-widgets/base",
          "model_name": "LayoutModel",
          "state": {
            "_view_name": "LayoutView",
            "grid_template_rows": null,
            "right": null,
            "justify_content": null,
            "_view_module": "@jupyter-widgets/base",
            "overflow": null,
            "_model_module_version": "1.2.0",
            "_view_count": null,
            "flex_flow": null,
            "width": null,
            "min_width": null,
            "border": null,
            "align_items": null,
            "bottom": null,
            "_model_module": "@jupyter-widgets/base",
            "top": null,
            "grid_column": null,
            "overflow_y": null,
            "overflow_x": null,
            "grid_auto_flow": null,
            "grid_area": null,
            "grid_template_columns": null,
            "flex": null,
            "_model_name": "LayoutModel",
            "justify_items": null,
            "grid_row": null,
            "max_height": null,
            "align_content": null,
            "visibility": null,
            "align_self": null,
            "height": null,
            "min_height": null,
            "padding": null,
            "grid_auto_rows": null,
            "grid_gap": null,
            "max_width": null,
            "order": null,
            "_view_module_version": "1.2.0",
            "grid_template_areas": null,
            "object_position": null,
            "object_fit": null,
            "grid_auto_columns": null,
            "margin": null,
            "display": null,
            "left": null
          }
        },
        "9ca826291fc94cf79045bb9d3383ccc4": {
          "model_module": "@jupyter-widgets/controls",
          "model_name": "FloatProgressModel",
          "state": {
            "_view_name": "ProgressView",
            "style": "IPY_MODEL_290d66e0c3c64b2085f4416b2f430bd9",
            "_dom_classes": [],
            "description": "Extraction completed...: 100%",
            "_model_name": "FloatProgressModel",
            "bar_style": "success",
            "max": 1,
            "_view_module": "@jupyter-widgets/controls",
            "_model_module_version": "1.5.0",
            "value": 1,
            "_view_count": null,
            "_view_module_version": "1.5.0",
            "orientation": "horizontal",
            "min": 0,
            "description_tooltip": null,
            "_model_module": "@jupyter-widgets/controls",
            "layout": "IPY_MODEL_95937a8c63c34094bc3e7b3930d95de1"
          }
        },
        "57f600fcfe244467920fbc3a25e9e147": {
          "model_module": "@jupyter-widgets/controls",
          "model_name": "HTMLModel",
          "state": {
            "_view_name": "HTMLView",
            "style": "IPY_MODEL_7c3d214d89554592823792d1254a753b",
            "_dom_classes": [],
            "description": "",
            "_model_name": "HTMLModel",
            "placeholder": "​",
            "_view_module": "@jupyter-widgets/controls",
            "_model_module_version": "1.5.0",
            "value": " 1/1 [03:57&lt;00:00, 237.25s/ file]",
            "_view_count": null,
            "_view_module_version": "1.5.0",
            "description_tooltip": null,
            "_model_module": "@jupyter-widgets/controls",
            "layout": "IPY_MODEL_bac068e6dd2c4590ba75fd4f1cb333ef"
          }
        },
        "290d66e0c3c64b2085f4416b2f430bd9": {
          "model_module": "@jupyter-widgets/controls",
          "model_name": "ProgressStyleModel",
          "state": {
            "_view_name": "StyleView",
            "_model_name": "ProgressStyleModel",
            "description_width": "initial",
            "_view_module": "@jupyter-widgets/base",
            "_model_module_version": "1.5.0",
            "_view_count": null,
            "_view_module_version": "1.2.0",
            "bar_color": null,
            "_model_module": "@jupyter-widgets/controls"
          }
        },
        "95937a8c63c34094bc3e7b3930d95de1": {
          "model_module": "@jupyter-widgets/base",
          "model_name": "LayoutModel",
          "state": {
            "_view_name": "LayoutView",
            "grid_template_rows": null,
            "right": null,
            "justify_content": null,
            "_view_module": "@jupyter-widgets/base",
            "overflow": null,
            "_model_module_version": "1.2.0",
            "_view_count": null,
            "flex_flow": null,
            "width": null,
            "min_width": null,
            "border": null,
            "align_items": null,
            "bottom": null,
            "_model_module": "@jupyter-widgets/base",
            "top": null,
            "grid_column": null,
            "overflow_y": null,
            "overflow_x": null,
            "grid_auto_flow": null,
            "grid_area": null,
            "grid_template_columns": null,
            "flex": null,
            "_model_name": "LayoutModel",
            "justify_items": null,
            "grid_row": null,
            "max_height": null,
            "align_content": null,
            "visibility": null,
            "align_self": null,
            "height": null,
            "min_height": null,
            "padding": null,
            "grid_auto_rows": null,
            "grid_gap": null,
            "max_width": null,
            "order": null,
            "_view_module_version": "1.2.0",
            "grid_template_areas": null,
            "object_position": null,
            "object_fit": null,
            "grid_auto_columns": null,
            "margin": null,
            "display": null,
            "left": null
          }
        },
        "7c3d214d89554592823792d1254a753b": {
          "model_module": "@jupyter-widgets/controls",
          "model_name": "DescriptionStyleModel",
          "state": {
            "_view_name": "StyleView",
            "_model_name": "DescriptionStyleModel",
            "description_width": "",
            "_view_module": "@jupyter-widgets/base",
            "_model_module_version": "1.5.0",
            "_view_count": null,
            "_view_module_version": "1.2.0",
            "_model_module": "@jupyter-widgets/controls"
          }
        },
        "bac068e6dd2c4590ba75fd4f1cb333ef": {
          "model_module": "@jupyter-widgets/base",
          "model_name": "LayoutModel",
          "state": {
            "_view_name": "LayoutView",
            "grid_template_rows": null,
            "right": null,
            "justify_content": null,
            "_view_module": "@jupyter-widgets/base",
            "overflow": null,
            "_model_module_version": "1.2.0",
            "_view_count": null,
            "flex_flow": null,
            "width": null,
            "min_width": null,
            "border": null,
            "align_items": null,
            "bottom": null,
            "_model_module": "@jupyter-widgets/base",
            "top": null,
            "grid_column": null,
            "overflow_y": null,
            "overflow_x": null,
            "grid_auto_flow": null,
            "grid_area": null,
            "grid_template_columns": null,
            "flex": null,
            "_model_name": "LayoutModel",
            "justify_items": null,
            "grid_row": null,
            "max_height": null,
            "align_content": null,
            "visibility": null,
            "align_self": null,
            "height": null,
            "min_height": null,
            "padding": null,
            "grid_auto_rows": null,
            "grid_gap": null,
            "max_width": null,
            "order": null,
            "_view_module_version": "1.2.0",
            "grid_template_areas": null,
            "object_position": null,
            "object_fit": null,
            "grid_auto_columns": null,
            "margin": null,
            "display": null,
            "left": null
          }
        },
        "6e5ae4720af347779a6bfb96b4e125f3": {
          "model_module": "@jupyter-widgets/controls",
          "model_name": "HBoxModel",
          "state": {
            "_view_name": "HBoxView",
            "_dom_classes": [],
            "_model_name": "HBoxModel",
            "_view_module": "@jupyter-widgets/controls",
            "_model_module_version": "1.5.0",
            "_view_count": null,
            "_view_module_version": "1.5.0",
            "box_style": "",
            "layout": "IPY_MODEL_8c9da48508ab4d89865bbb1efac9db37",
            "_model_module": "@jupyter-widgets/controls",
            "children": [
              "IPY_MODEL_04a2ed588d27446d912ea3583f627562",
              "IPY_MODEL_74b667d0fdd9426ea78dbf7eb5217bc0"
            ]
          }
        },
        "8c9da48508ab4d89865bbb1efac9db37": {
          "model_module": "@jupyter-widgets/base",
          "model_name": "LayoutModel",
          "state": {
            "_view_name": "LayoutView",
            "grid_template_rows": null,
            "right": null,
            "justify_content": null,
            "_view_module": "@jupyter-widgets/base",
            "overflow": null,
            "_model_module_version": "1.2.0",
            "_view_count": null,
            "flex_flow": null,
            "width": null,
            "min_width": null,
            "border": null,
            "align_items": null,
            "bottom": null,
            "_model_module": "@jupyter-widgets/base",
            "top": null,
            "grid_column": null,
            "overflow_y": null,
            "overflow_x": null,
            "grid_auto_flow": null,
            "grid_area": null,
            "grid_template_columns": null,
            "flex": null,
            "_model_name": "LayoutModel",
            "justify_items": null,
            "grid_row": null,
            "max_height": null,
            "align_content": null,
            "visibility": null,
            "align_self": null,
            "height": null,
            "min_height": null,
            "padding": null,
            "grid_auto_rows": null,
            "grid_gap": null,
            "max_width": null,
            "order": null,
            "_view_module_version": "1.2.0",
            "grid_template_areas": null,
            "object_position": null,
            "object_fit": null,
            "grid_auto_columns": null,
            "margin": null,
            "display": null,
            "left": null
          }
        },
        "04a2ed588d27446d912ea3583f627562": {
          "model_module": "@jupyter-widgets/controls",
          "model_name": "FloatProgressModel",
          "state": {
            "_view_name": "ProgressView",
            "style": "IPY_MODEL_ec3fa0a7669a4bb5ae4aa4b96b1aa0b9",
            "_dom_classes": [],
            "description": "",
            "_model_name": "FloatProgressModel",
            "bar_style": "info",
            "max": 1,
            "_view_module": "@jupyter-widgets/controls",
            "_model_module_version": "1.5.0",
            "value": 1,
            "_view_count": null,
            "_view_module_version": "1.5.0",
            "orientation": "horizontal",
            "min": 0,
            "description_tooltip": null,
            "_model_module": "@jupyter-widgets/controls",
            "layout": "IPY_MODEL_0b413fff3c3747cfb7d27c4cf54713fd"
          }
        },
        "74b667d0fdd9426ea78dbf7eb5217bc0": {
          "model_module": "@jupyter-widgets/controls",
          "model_name": "HTMLModel",
          "state": {
            "_view_name": "HTMLView",
            "style": "IPY_MODEL_0fc1daf6ed9f4e4eb4cab527c91fde3f",
            "_dom_classes": [],
            "description": "",
            "_model_name": "HTMLModel",
            "placeholder": "​",
            "_view_module": "@jupyter-widgets/controls",
            "_model_module_version": "1.5.0",
            "value": " 1999998/0 [05:26&lt;00:00, 6251.82 examples/s]",
            "_view_count": null,
            "_view_module_version": "1.5.0",
            "description_tooltip": null,
            "_model_module": "@jupyter-widgets/controls",
            "layout": "IPY_MODEL_85e3f5ab128c4098b9a561512789d672"
          }
        },
        "ec3fa0a7669a4bb5ae4aa4b96b1aa0b9": {
          "model_module": "@jupyter-widgets/controls",
          "model_name": "ProgressStyleModel",
          "state": {
            "_view_name": "StyleView",
            "_model_name": "ProgressStyleModel",
            "description_width": "initial",
            "_view_module": "@jupyter-widgets/base",
            "_model_module_version": "1.5.0",
            "_view_count": null,
            "_view_module_version": "1.2.0",
            "bar_color": null,
            "_model_module": "@jupyter-widgets/controls"
          }
        },
        "0b413fff3c3747cfb7d27c4cf54713fd": {
          "model_module": "@jupyter-widgets/base",
          "model_name": "LayoutModel",
          "state": {
            "_view_name": "LayoutView",
            "grid_template_rows": null,
            "right": null,
            "justify_content": null,
            "_view_module": "@jupyter-widgets/base",
            "overflow": null,
            "_model_module_version": "1.2.0",
            "_view_count": null,
            "flex_flow": null,
            "width": null,
            "min_width": null,
            "border": null,
            "align_items": null,
            "bottom": null,
            "_model_module": "@jupyter-widgets/base",
            "top": null,
            "grid_column": null,
            "overflow_y": null,
            "overflow_x": null,
            "grid_auto_flow": null,
            "grid_area": null,
            "grid_template_columns": null,
            "flex": null,
            "_model_name": "LayoutModel",
            "justify_items": null,
            "grid_row": null,
            "max_height": null,
            "align_content": null,
            "visibility": null,
            "align_self": null,
            "height": null,
            "min_height": null,
            "padding": null,
            "grid_auto_rows": null,
            "grid_gap": null,
            "max_width": null,
            "order": null,
            "_view_module_version": "1.2.0",
            "grid_template_areas": null,
            "object_position": null,
            "object_fit": null,
            "grid_auto_columns": null,
            "margin": null,
            "display": null,
            "left": null
          }
        },
        "0fc1daf6ed9f4e4eb4cab527c91fde3f": {
          "model_module": "@jupyter-widgets/controls",
          "model_name": "DescriptionStyleModel",
          "state": {
            "_view_name": "StyleView",
            "_model_name": "DescriptionStyleModel",
            "description_width": "",
            "_view_module": "@jupyter-widgets/base",
            "_model_module_version": "1.5.0",
            "_view_count": null,
            "_view_module_version": "1.2.0",
            "_model_module": "@jupyter-widgets/controls"
          }
        },
        "85e3f5ab128c4098b9a561512789d672": {
          "model_module": "@jupyter-widgets/base",
          "model_name": "LayoutModel",
          "state": {
            "_view_name": "LayoutView",
            "grid_template_rows": null,
            "right": null,
            "justify_content": null,
            "_view_module": "@jupyter-widgets/base",
            "overflow": null,
            "_model_module_version": "1.2.0",
            "_view_count": null,
            "flex_flow": null,
            "width": null,
            "min_width": null,
            "border": null,
            "align_items": null,
            "bottom": null,
            "_model_module": "@jupyter-widgets/base",
            "top": null,
            "grid_column": null,
            "overflow_y": null,
            "overflow_x": null,
            "grid_auto_flow": null,
            "grid_area": null,
            "grid_template_columns": null,
            "flex": null,
            "_model_name": "LayoutModel",
            "justify_items": null,
            "grid_row": null,
            "max_height": null,
            "align_content": null,
            "visibility": null,
            "align_self": null,
            "height": null,
            "min_height": null,
            "padding": null,
            "grid_auto_rows": null,
            "grid_gap": null,
            "max_width": null,
            "order": null,
            "_view_module_version": "1.2.0",
            "grid_template_areas": null,
            "object_position": null,
            "object_fit": null,
            "grid_auto_columns": null,
            "margin": null,
            "display": null,
            "left": null
          }
        },
        "afcb5121a4e044e4a3abad6e6d3d4639": {
          "model_module": "@jupyter-widgets/controls",
          "model_name": "HBoxModel",
          "state": {
            "_view_name": "HBoxView",
            "_dom_classes": [],
            "_model_name": "HBoxModel",
            "_view_module": "@jupyter-widgets/controls",
            "_model_module_version": "1.5.0",
            "_view_count": null,
            "_view_module_version": "1.5.0",
            "box_style": "",
            "layout": "IPY_MODEL_985a5ee474b44d40a0a60ad6db0e803a",
            "_model_module": "@jupyter-widgets/controls",
            "children": [
              "IPY_MODEL_2a31b1c3f31e477a8140b7abed4c9ec2",
              "IPY_MODEL_4c181328d7e84f48a0ae6ed0dd3f88ad"
            ]
          }
        },
        "985a5ee474b44d40a0a60ad6db0e803a": {
          "model_module": "@jupyter-widgets/base",
          "model_name": "LayoutModel",
          "state": {
            "_view_name": "LayoutView",
            "grid_template_rows": null,
            "right": null,
            "justify_content": null,
            "_view_module": "@jupyter-widgets/base",
            "overflow": null,
            "_model_module_version": "1.2.0",
            "_view_count": null,
            "flex_flow": null,
            "width": null,
            "min_width": null,
            "border": null,
            "align_items": null,
            "bottom": null,
            "_model_module": "@jupyter-widgets/base",
            "top": null,
            "grid_column": null,
            "overflow_y": null,
            "overflow_x": null,
            "grid_auto_flow": null,
            "grid_area": null,
            "grid_template_columns": null,
            "flex": null,
            "_model_name": "LayoutModel",
            "justify_items": null,
            "grid_row": null,
            "max_height": null,
            "align_content": null,
            "visibility": null,
            "align_self": null,
            "height": null,
            "min_height": null,
            "padding": null,
            "grid_auto_rows": null,
            "grid_gap": null,
            "max_width": null,
            "order": null,
            "_view_module_version": "1.2.0",
            "grid_template_areas": null,
            "object_position": null,
            "object_fit": null,
            "grid_auto_columns": null,
            "margin": null,
            "display": null,
            "left": null
          }
        },
        "2a31b1c3f31e477a8140b7abed4c9ec2": {
          "model_module": "@jupyter-widgets/controls",
          "model_name": "FloatProgressModel",
          "state": {
            "_view_name": "ProgressView",
            "style": "IPY_MODEL_5807658394aa4a78804832f261cfd207",
            "_dom_classes": [],
            "description": " 99%",
            "_model_name": "FloatProgressModel",
            "bar_style": "danger",
            "max": 1999998,
            "_view_module": "@jupyter-widgets/controls",
            "_model_module_version": "1.5.0",
            "value": 1972092,
            "_view_count": null,
            "_view_module_version": "1.5.0",
            "orientation": "horizontal",
            "min": 0,
            "description_tooltip": null,
            "_model_module": "@jupyter-widgets/controls",
            "layout": "IPY_MODEL_9b22a8b704d44dd48d4b6440c083d356"
          }
        },
        "4c181328d7e84f48a0ae6ed0dd3f88ad": {
          "model_module": "@jupyter-widgets/controls",
          "model_name": "HTMLModel",
          "state": {
            "_view_name": "HTMLView",
            "style": "IPY_MODEL_f5be7559278e4eb9bdca7f224ee744a8",
            "_dom_classes": [],
            "description": "",
            "_model_name": "HTMLModel",
            "placeholder": "​",
            "_view_module": "@jupyter-widgets/controls",
            "_model_module_version": "1.5.0",
            "value": " 1972092/1999998 [00:08&lt;00:00, 215226.61 examples/s]",
            "_view_count": null,
            "_view_module_version": "1.5.0",
            "description_tooltip": null,
            "_model_module": "@jupyter-widgets/controls",
            "layout": "IPY_MODEL_adf27393016245e0a9e1a6f2a2400710"
          }
        },
        "5807658394aa4a78804832f261cfd207": {
          "model_module": "@jupyter-widgets/controls",
          "model_name": "ProgressStyleModel",
          "state": {
            "_view_name": "StyleView",
            "_model_name": "ProgressStyleModel",
            "description_width": "initial",
            "_view_module": "@jupyter-widgets/base",
            "_model_module_version": "1.5.0",
            "_view_count": null,
            "_view_module_version": "1.2.0",
            "bar_color": null,
            "_model_module": "@jupyter-widgets/controls"
          }
        },
        "9b22a8b704d44dd48d4b6440c083d356": {
          "model_module": "@jupyter-widgets/base",
          "model_name": "LayoutModel",
          "state": {
            "_view_name": "LayoutView",
            "grid_template_rows": null,
            "right": null,
            "justify_content": null,
            "_view_module": "@jupyter-widgets/base",
            "overflow": null,
            "_model_module_version": "1.2.0",
            "_view_count": null,
            "flex_flow": null,
            "width": null,
            "min_width": null,
            "border": null,
            "align_items": null,
            "bottom": null,
            "_model_module": "@jupyter-widgets/base",
            "top": null,
            "grid_column": null,
            "overflow_y": null,
            "overflow_x": null,
            "grid_auto_flow": null,
            "grid_area": null,
            "grid_template_columns": null,
            "flex": null,
            "_model_name": "LayoutModel",
            "justify_items": null,
            "grid_row": null,
            "max_height": null,
            "align_content": null,
            "visibility": null,
            "align_self": null,
            "height": null,
            "min_height": null,
            "padding": null,
            "grid_auto_rows": null,
            "grid_gap": null,
            "max_width": null,
            "order": null,
            "_view_module_version": "1.2.0",
            "grid_template_areas": null,
            "object_position": null,
            "object_fit": null,
            "grid_auto_columns": null,
            "margin": null,
            "display": null,
            "left": null
          }
        },
        "f5be7559278e4eb9bdca7f224ee744a8": {
          "model_module": "@jupyter-widgets/controls",
          "model_name": "DescriptionStyleModel",
          "state": {
            "_view_name": "StyleView",
            "_model_name": "DescriptionStyleModel",
            "description_width": "",
            "_view_module": "@jupyter-widgets/base",
            "_model_module_version": "1.5.0",
            "_view_count": null,
            "_view_module_version": "1.2.0",
            "_model_module": "@jupyter-widgets/controls"
          }
        },
        "adf27393016245e0a9e1a6f2a2400710": {
          "model_module": "@jupyter-widgets/base",
          "model_name": "LayoutModel",
          "state": {
            "_view_name": "LayoutView",
            "grid_template_rows": null,
            "right": null,
            "justify_content": null,
            "_view_module": "@jupyter-widgets/base",
            "overflow": null,
            "_model_module_version": "1.2.0",
            "_view_count": null,
            "flex_flow": null,
            "width": null,
            "min_width": null,
            "border": null,
            "align_items": null,
            "bottom": null,
            "_model_module": "@jupyter-widgets/base",
            "top": null,
            "grid_column": null,
            "overflow_y": null,
            "overflow_x": null,
            "grid_auto_flow": null,
            "grid_area": null,
            "grid_template_columns": null,
            "flex": null,
            "_model_name": "LayoutModel",
            "justify_items": null,
            "grid_row": null,
            "max_height": null,
            "align_content": null,
            "visibility": null,
            "align_self": null,
            "height": null,
            "min_height": null,
            "padding": null,
            "grid_auto_rows": null,
            "grid_gap": null,
            "max_width": null,
            "order": null,
            "_view_module_version": "1.2.0",
            "grid_template_areas": null,
            "object_position": null,
            "object_fit": null,
            "grid_auto_columns": null,
            "margin": null,
            "display": null,
            "left": null
          }
        },
        "5a5996fc2e75499a8b8f7da92c6473f7": {
          "model_module": "@jupyter-widgets/controls",
          "model_name": "HBoxModel",
          "state": {
            "_view_name": "HBoxView",
            "_dom_classes": [],
            "_model_name": "HBoxModel",
            "_view_module": "@jupyter-widgets/controls",
            "_model_module_version": "1.5.0",
            "_view_count": null,
            "_view_module_version": "1.5.0",
            "box_style": "",
            "layout": "IPY_MODEL_1aa99f52e2974b33bf92edf0d7314424",
            "_model_module": "@jupyter-widgets/controls",
            "children": [
              "IPY_MODEL_d7e398e496f44d82a441ab35c14c54c2",
              "IPY_MODEL_d2ccedf004b74e169009fe6cdeb8e2d6"
            ]
          }
        },
        "1aa99f52e2974b33bf92edf0d7314424": {
          "model_module": "@jupyter-widgets/base",
          "model_name": "LayoutModel",
          "state": {
            "_view_name": "LayoutView",
            "grid_template_rows": null,
            "right": null,
            "justify_content": null,
            "_view_module": "@jupyter-widgets/base",
            "overflow": null,
            "_model_module_version": "1.2.0",
            "_view_count": null,
            "flex_flow": null,
            "width": null,
            "min_width": null,
            "border": null,
            "align_items": null,
            "bottom": null,
            "_model_module": "@jupyter-widgets/base",
            "top": null,
            "grid_column": null,
            "overflow_y": null,
            "overflow_x": null,
            "grid_auto_flow": null,
            "grid_area": null,
            "grid_template_columns": null,
            "flex": null,
            "_model_name": "LayoutModel",
            "justify_items": null,
            "grid_row": null,
            "max_height": null,
            "align_content": null,
            "visibility": null,
            "align_self": null,
            "height": null,
            "min_height": null,
            "padding": null,
            "grid_auto_rows": null,
            "grid_gap": null,
            "max_width": null,
            "order": null,
            "_view_module_version": "1.2.0",
            "grid_template_areas": null,
            "object_position": null,
            "object_fit": null,
            "grid_auto_columns": null,
            "margin": null,
            "display": null,
            "left": null
          }
        },
        "d7e398e496f44d82a441ab35c14c54c2": {
          "model_module": "@jupyter-widgets/controls",
          "model_name": "FloatProgressModel",
          "state": {
            "_view_name": "ProgressView",
            "style": "IPY_MODEL_ea155f2746f844fa90aeda0e192b2bb5",
            "_dom_classes": [],
            "description": "",
            "_model_name": "FloatProgressModel",
            "bar_style": "info",
            "max": 1,
            "_view_module": "@jupyter-widgets/controls",
            "_model_module_version": "1.5.0",
            "value": 1,
            "_view_count": null,
            "_view_module_version": "1.5.0",
            "orientation": "horizontal",
            "min": 0,
            "description_tooltip": null,
            "_model_module": "@jupyter-widgets/controls",
            "layout": "IPY_MODEL_647a2bfa101d4860ac438f8c50773783"
          }
        },
        "d2ccedf004b74e169009fe6cdeb8e2d6": {
          "model_module": "@jupyter-widgets/controls",
          "model_name": "HTMLModel",
          "state": {
            "_view_name": "HTMLView",
            "style": "IPY_MODEL_b7dbbebc05664bfaab37a984199d1b81",
            "_dom_classes": [],
            "description": "",
            "_model_name": "HTMLModel",
            "placeholder": "​",
            "_view_module": "@jupyter-widgets/controls",
            "_model_module_version": "1.5.0",
            "value": " 10000/0 [00:01&lt;00:00, 6481.29 examples/s]",
            "_view_count": null,
            "_view_module_version": "1.5.0",
            "description_tooltip": null,
            "_model_module": "@jupyter-widgets/controls",
            "layout": "IPY_MODEL_bf82ca9103b44a47bec54f1e6ff1ea25"
          }
        },
        "ea155f2746f844fa90aeda0e192b2bb5": {
          "model_module": "@jupyter-widgets/controls",
          "model_name": "ProgressStyleModel",
          "state": {
            "_view_name": "StyleView",
            "_model_name": "ProgressStyleModel",
            "description_width": "initial",
            "_view_module": "@jupyter-widgets/base",
            "_model_module_version": "1.5.0",
            "_view_count": null,
            "_view_module_version": "1.2.0",
            "bar_color": null,
            "_model_module": "@jupyter-widgets/controls"
          }
        },
        "647a2bfa101d4860ac438f8c50773783": {
          "model_module": "@jupyter-widgets/base",
          "model_name": "LayoutModel",
          "state": {
            "_view_name": "LayoutView",
            "grid_template_rows": null,
            "right": null,
            "justify_content": null,
            "_view_module": "@jupyter-widgets/base",
            "overflow": null,
            "_model_module_version": "1.2.0",
            "_view_count": null,
            "flex_flow": null,
            "width": null,
            "min_width": null,
            "border": null,
            "align_items": null,
            "bottom": null,
            "_model_module": "@jupyter-widgets/base",
            "top": null,
            "grid_column": null,
            "overflow_y": null,
            "overflow_x": null,
            "grid_auto_flow": null,
            "grid_area": null,
            "grid_template_columns": null,
            "flex": null,
            "_model_name": "LayoutModel",
            "justify_items": null,
            "grid_row": null,
            "max_height": null,
            "align_content": null,
            "visibility": null,
            "align_self": null,
            "height": null,
            "min_height": null,
            "padding": null,
            "grid_auto_rows": null,
            "grid_gap": null,
            "max_width": null,
            "order": null,
            "_view_module_version": "1.2.0",
            "grid_template_areas": null,
            "object_position": null,
            "object_fit": null,
            "grid_auto_columns": null,
            "margin": null,
            "display": null,
            "left": null
          }
        },
        "b7dbbebc05664bfaab37a984199d1b81": {
          "model_module": "@jupyter-widgets/controls",
          "model_name": "DescriptionStyleModel",
          "state": {
            "_view_name": "StyleView",
            "_model_name": "DescriptionStyleModel",
            "description_width": "",
            "_view_module": "@jupyter-widgets/base",
            "_model_module_version": "1.5.0",
            "_view_count": null,
            "_view_module_version": "1.2.0",
            "_model_module": "@jupyter-widgets/controls"
          }
        },
        "bf82ca9103b44a47bec54f1e6ff1ea25": {
          "model_module": "@jupyter-widgets/base",
          "model_name": "LayoutModel",
          "state": {
            "_view_name": "LayoutView",
            "grid_template_rows": null,
            "right": null,
            "justify_content": null,
            "_view_module": "@jupyter-widgets/base",
            "overflow": null,
            "_model_module_version": "1.2.0",
            "_view_count": null,
            "flex_flow": null,
            "width": null,
            "min_width": null,
            "border": null,
            "align_items": null,
            "bottom": null,
            "_model_module": "@jupyter-widgets/base",
            "top": null,
            "grid_column": null,
            "overflow_y": null,
            "overflow_x": null,
            "grid_auto_flow": null,
            "grid_area": null,
            "grid_template_columns": null,
            "flex": null,
            "_model_name": "LayoutModel",
            "justify_items": null,
            "grid_row": null,
            "max_height": null,
            "align_content": null,
            "visibility": null,
            "align_self": null,
            "height": null,
            "min_height": null,
            "padding": null,
            "grid_auto_rows": null,
            "grid_gap": null,
            "max_width": null,
            "order": null,
            "_view_module_version": "1.2.0",
            "grid_template_areas": null,
            "object_position": null,
            "object_fit": null,
            "grid_auto_columns": null,
            "margin": null,
            "display": null,
            "left": null
          }
        },
        "37c93053eaa64eda982714f15b19dbb5": {
          "model_module": "@jupyter-widgets/controls",
          "model_name": "HBoxModel",
          "state": {
            "_view_name": "HBoxView",
            "_dom_classes": [],
            "_model_name": "HBoxModel",
            "_view_module": "@jupyter-widgets/controls",
            "_model_module_version": "1.5.0",
            "_view_count": null,
            "_view_module_version": "1.5.0",
            "box_style": "",
            "layout": "IPY_MODEL_13aa03b387f84b72ba232876ce8e9c2b",
            "_model_module": "@jupyter-widgets/controls",
            "children": [
              "IPY_MODEL_91a13f306c99432a91184ad817613c91",
              "IPY_MODEL_bf92e59290494a498d92043ec5822055"
            ]
          }
        },
        "13aa03b387f84b72ba232876ce8e9c2b": {
          "model_module": "@jupyter-widgets/base",
          "model_name": "LayoutModel",
          "state": {
            "_view_name": "LayoutView",
            "grid_template_rows": null,
            "right": null,
            "justify_content": null,
            "_view_module": "@jupyter-widgets/base",
            "overflow": null,
            "_model_module_version": "1.2.0",
            "_view_count": null,
            "flex_flow": null,
            "width": null,
            "min_width": null,
            "border": null,
            "align_items": null,
            "bottom": null,
            "_model_module": "@jupyter-widgets/base",
            "top": null,
            "grid_column": null,
            "overflow_y": null,
            "overflow_x": null,
            "grid_auto_flow": null,
            "grid_area": null,
            "grid_template_columns": null,
            "flex": null,
            "_model_name": "LayoutModel",
            "justify_items": null,
            "grid_row": null,
            "max_height": null,
            "align_content": null,
            "visibility": null,
            "align_self": null,
            "height": null,
            "min_height": null,
            "padding": null,
            "grid_auto_rows": null,
            "grid_gap": null,
            "max_width": null,
            "order": null,
            "_view_module_version": "1.2.0",
            "grid_template_areas": null,
            "object_position": null,
            "object_fit": null,
            "grid_auto_columns": null,
            "margin": null,
            "display": null,
            "left": null
          }
        },
        "91a13f306c99432a91184ad817613c91": {
          "model_module": "@jupyter-widgets/controls",
          "model_name": "FloatProgressModel",
          "state": {
            "_view_name": "ProgressView",
            "style": "IPY_MODEL_5d262a83dcc14054ad076a137aac679b",
            "_dom_classes": [],
            "description": "  0%",
            "_model_name": "FloatProgressModel",
            "bar_style": "danger",
            "max": 10000,
            "_view_module": "@jupyter-widgets/controls",
            "_model_module_version": "1.5.0",
            "value": 0,
            "_view_count": null,
            "_view_module_version": "1.5.0",
            "orientation": "horizontal",
            "min": 0,
            "description_tooltip": null,
            "_model_module": "@jupyter-widgets/controls",
            "layout": "IPY_MODEL_96fd4eb9dd0b446084116d26afaf3d4f"
          }
        },
        "bf92e59290494a498d92043ec5822055": {
          "model_module": "@jupyter-widgets/controls",
          "model_name": "HTMLModel",
          "state": {
            "_view_name": "HTMLView",
            "style": "IPY_MODEL_f8cdf9209c4941e0a960f6672274cc54",
            "_dom_classes": [],
            "description": "",
            "_model_name": "HTMLModel",
            "placeholder": "​",
            "_view_module": "@jupyter-widgets/controls",
            "_model_module_version": "1.5.0",
            "value": " 0/10000 [00:05&lt;?, ? examples/s]",
            "_view_count": null,
            "_view_module_version": "1.5.0",
            "description_tooltip": null,
            "_model_module": "@jupyter-widgets/controls",
            "layout": "IPY_MODEL_5480a1291fba422d8e6eca544d6295fa"
          }
        },
        "5d262a83dcc14054ad076a137aac679b": {
          "model_module": "@jupyter-widgets/controls",
          "model_name": "ProgressStyleModel",
          "state": {
            "_view_name": "StyleView",
            "_model_name": "ProgressStyleModel",
            "description_width": "initial",
            "_view_module": "@jupyter-widgets/base",
            "_model_module_version": "1.5.0",
            "_view_count": null,
            "_view_module_version": "1.2.0",
            "bar_color": null,
            "_model_module": "@jupyter-widgets/controls"
          }
        },
        "96fd4eb9dd0b446084116d26afaf3d4f": {
          "model_module": "@jupyter-widgets/base",
          "model_name": "LayoutModel",
          "state": {
            "_view_name": "LayoutView",
            "grid_template_rows": null,
            "right": null,
            "justify_content": null,
            "_view_module": "@jupyter-widgets/base",
            "overflow": null,
            "_model_module_version": "1.2.0",
            "_view_count": null,
            "flex_flow": null,
            "width": null,
            "min_width": null,
            "border": null,
            "align_items": null,
            "bottom": null,
            "_model_module": "@jupyter-widgets/base",
            "top": null,
            "grid_column": null,
            "overflow_y": null,
            "overflow_x": null,
            "grid_auto_flow": null,
            "grid_area": null,
            "grid_template_columns": null,
            "flex": null,
            "_model_name": "LayoutModel",
            "justify_items": null,
            "grid_row": null,
            "max_height": null,
            "align_content": null,
            "visibility": null,
            "align_self": null,
            "height": null,
            "min_height": null,
            "padding": null,
            "grid_auto_rows": null,
            "grid_gap": null,
            "max_width": null,
            "order": null,
            "_view_module_version": "1.2.0",
            "grid_template_areas": null,
            "object_position": null,
            "object_fit": null,
            "grid_auto_columns": null,
            "margin": null,
            "display": null,
            "left": null
          }
        },
        "f8cdf9209c4941e0a960f6672274cc54": {
          "model_module": "@jupyter-widgets/controls",
          "model_name": "DescriptionStyleModel",
          "state": {
            "_view_name": "StyleView",
            "_model_name": "DescriptionStyleModel",
            "description_width": "",
            "_view_module": "@jupyter-widgets/base",
            "_model_module_version": "1.5.0",
            "_view_count": null,
            "_view_module_version": "1.2.0",
            "_model_module": "@jupyter-widgets/controls"
          }
        },
        "5480a1291fba422d8e6eca544d6295fa": {
          "model_module": "@jupyter-widgets/base",
          "model_name": "LayoutModel",
          "state": {
            "_view_name": "LayoutView",
            "grid_template_rows": null,
            "right": null,
            "justify_content": null,
            "_view_module": "@jupyter-widgets/base",
            "overflow": null,
            "_model_module_version": "1.2.0",
            "_view_count": null,
            "flex_flow": null,
            "width": null,
            "min_width": null,
            "border": null,
            "align_items": null,
            "bottom": null,
            "_model_module": "@jupyter-widgets/base",
            "top": null,
            "grid_column": null,
            "overflow_y": null,
            "overflow_x": null,
            "grid_auto_flow": null,
            "grid_area": null,
            "grid_template_columns": null,
            "flex": null,
            "_model_name": "LayoutModel",
            "justify_items": null,
            "grid_row": null,
            "max_height": null,
            "align_content": null,
            "visibility": null,
            "align_self": null,
            "height": null,
            "min_height": null,
            "padding": null,
            "grid_auto_rows": null,
            "grid_gap": null,
            "max_width": null,
            "order": null,
            "_view_module_version": "1.2.0",
            "grid_template_areas": null,
            "object_position": null,
            "object_fit": null,
            "grid_auto_columns": null,
            "margin": null,
            "display": null,
            "left": null
          }
        }
      }
    }
  },
  "cells": [
    {
      "cell_type": "markdown",
      "metadata": {
        "id": "view-in-github",
        "colab_type": "text"
      },
      "source": [
        "<a href=\"https://colab.research.google.com/github/kyle-gao/ML_ipynb/blob/kyle-gao-patch-1/TF_Transformer_Calculus.ipynb\" target=\"_parent\"><img src=\"https://colab.research.google.com/assets/colab-badge.svg\" alt=\"Open In Colab\"/></a>"
      ]
    },
    {
      "cell_type": "markdown",
      "metadata": {
        "id": "anQuvdlJJ8_r",
        "colab_type": "text"
      },
      "source": [
        "Copyright 2020 Yi Lin(Kyle) Gao\n"
      ]
    },
    {
      "cell_type": "markdown",
      "metadata": {
        "id": "s_qNSzzyaCbD",
        "colab_type": "text"
      },
      "source": [
        "##### Copyright 2019 The TensorFlow Authors."
      ]
    },
    {
      "cell_type": "code",
      "metadata": {
        "cellView": "form",
        "id": "jmjh290raIky",
        "colab_type": "code",
        "colab": {}
      },
      "source": [
        "#@title Licensed under the Apache License, Version 2.0 (the \"License\");\n",
        "# you may not use this file except in compliance with the License.\n",
        "# You may obtain a copy of the License at\n",
        "#\n",
        "# https://www.apache.org/licenses/LICENSE-2.0\n",
        "#\n",
        "# Unless required by applicable law or agreed to in writing, software\n",
        "# distributed under the License is distributed on an \"AS IS\" BASIS,\n",
        "# WITHOUT WARRANTIES OR CONDITIONS OF ANY KIND, either express or implied.\n",
        "# See the License for the specific language governing permissions and\n",
        "# limitations under the License."
      ],
      "execution_count": 1,
      "outputs": []
    },
    {
      "cell_type": "code",
      "metadata": {
        "id": "YbRTcwfC7JVh",
        "colab_type": "code",
        "colab": {}
      },
      "source": [
        "import tensorflow as tf\n",
        "import tensorflow_datasets as tfds\n",
        "import numpy as np\n",
        "import time"
      ],
      "execution_count": 2,
      "outputs": []
    },
    {
      "cell_type": "markdown",
      "metadata": {
        "id": "jlMtl_Tr8l44",
        "colab_type": "text"
      },
      "source": [
        "# Training a transformer for symbolic mathematics (differentiation) following the Transfomer tutorial https://www.tensorflow.org/tutorials/text/transformer\n",
        "The dataset used is https://github.com/deepmind/mathematics_dataset."
      ]
    },
    {
      "cell_type": "markdown",
      "metadata": {
        "id": "J_LQw06j-KLN",
        "colab_type": "text"
      },
      "source": [
        "# Data pipeline with tfds"
      ]
    },
    {
      "cell_type": "code",
      "metadata": {
        "id": "bUctAmGT7-C2",
        "colab_type": "code",
        "colab": {
          "base_uri": "https://localhost:8080/",
          "height": 401,
          "referenced_widgets": [
            "a552f7875fd04117b5568301cac8526c",
            "872637f13166470c9bf3745fc87b9a94",
            "690bb76858dc445eb248ab55723510d6",
            "8d3ca157913f4f72a1bc5c4732b7c23a",
            "0da1054517b5442c88328f11db4354d0",
            "f27db791893c4d1ab1f5134c06f1cba5",
            "16a09e31b47340479444a7edc51a87cf",
            "55b86c650aa6430281b17ef8e1a4f3f8",
            "6a690b6a0ddb4fbb811b370ae102aba2",
            "28a1e5a170c944368d964a2d3466567e",
            "a0a2e80406364499a44b0ace310e8058",
            "3e712b3636c44d08a80a92063f7785f8",
            "d7166462e83c47d3b63b9a6be240abea",
            "d809024496b94dd4af64d328bd1b381c",
            "c1a455c68ff64d57b9a19401ca5dcec9",
            "1a1e5dff1b89475ab1e9d836316540e5",
            "c0526afff9f54d42a4fab5c4e808ae07",
            "bf2fc771e1ca4244aabf0ee85743b591",
            "9ca826291fc94cf79045bb9d3383ccc4",
            "57f600fcfe244467920fbc3a25e9e147",
            "290d66e0c3c64b2085f4416b2f430bd9",
            "95937a8c63c34094bc3e7b3930d95de1",
            "7c3d214d89554592823792d1254a753b",
            "bac068e6dd2c4590ba75fd4f1cb333ef",
            "6e5ae4720af347779a6bfb96b4e125f3",
            "8c9da48508ab4d89865bbb1efac9db37",
            "04a2ed588d27446d912ea3583f627562",
            "74b667d0fdd9426ea78dbf7eb5217bc0",
            "ec3fa0a7669a4bb5ae4aa4b96b1aa0b9",
            "0b413fff3c3747cfb7d27c4cf54713fd",
            "0fc1daf6ed9f4e4eb4cab527c91fde3f",
            "85e3f5ab128c4098b9a561512789d672",
            "afcb5121a4e044e4a3abad6e6d3d4639",
            "985a5ee474b44d40a0a60ad6db0e803a",
            "2a31b1c3f31e477a8140b7abed4c9ec2",
            "4c181328d7e84f48a0ae6ed0dd3f88ad",
            "5807658394aa4a78804832f261cfd207",
            "9b22a8b704d44dd48d4b6440c083d356",
            "f5be7559278e4eb9bdca7f224ee744a8",
            "adf27393016245e0a9e1a6f2a2400710",
            "5a5996fc2e75499a8b8f7da92c6473f7",
            "1aa99f52e2974b33bf92edf0d7314424",
            "d7e398e496f44d82a441ab35c14c54c2",
            "d2ccedf004b74e169009fe6cdeb8e2d6",
            "ea155f2746f844fa90aeda0e192b2bb5",
            "647a2bfa101d4860ac438f8c50773783",
            "b7dbbebc05664bfaab37a984199d1b81",
            "bf82ca9103b44a47bec54f1e6ff1ea25",
            "37c93053eaa64eda982714f15b19dbb5",
            "13aa03b387f84b72ba232876ce8e9c2b",
            "91a13f306c99432a91184ad817613c91",
            "bf92e59290494a498d92043ec5822055",
            "5d262a83dcc14054ad076a137aac679b",
            "96fd4eb9dd0b446084116d26afaf3d4f",
            "f8cdf9209c4941e0a960f6672274cc54",
            "5480a1291fba422d8e6eca544d6295fa"
          ]
        },
        "outputId": "5641bc35-23ca-4c25-d20d-c596c8363697"
      },
      "source": [
        "train, val = tfds.load(\n",
        "    'math_dataset/calculus__differentiate',\n",
        "    split=['train[:200000]', 'test[:5000]'],\n",
        "    as_supervised=True)"
      ],
      "execution_count": 3,
      "outputs": [
        {
          "output_type": "stream",
          "text": [
            "\u001b[1mDownloading and preparing dataset math_dataset/calculus__differentiate/1.0.0 (download: 2.17 GiB, generated: Unknown size, total: 2.17 GiB) to /root/tensorflow_datasets/math_dataset/calculus__differentiate/1.0.0...\u001b[0m\n"
          ],
          "name": "stdout"
        },
        {
          "output_type": "display_data",
          "data": {
            "application/vnd.jupyter.widget-view+json": {
              "model_id": "a552f7875fd04117b5568301cac8526c",
              "version_minor": 0,
              "version_major": 2
            },
            "text/plain": [
              "HBox(children=(FloatProgress(value=1.0, bar_style='info', description='Dl Completed...', max=1.0, style=Progre…"
            ]
          },
          "metadata": {
            "tags": []
          }
        },
        {
          "output_type": "display_data",
          "data": {
            "application/vnd.jupyter.widget-view+json": {
              "model_id": "6a690b6a0ddb4fbb811b370ae102aba2",
              "version_minor": 0,
              "version_major": 2
            },
            "text/plain": [
              "HBox(children=(FloatProgress(value=1.0, bar_style='info', description='Dl Size...', max=1.0, style=ProgressSty…"
            ]
          },
          "metadata": {
            "tags": []
          }
        },
        {
          "output_type": "display_data",
          "data": {
            "application/vnd.jupyter.widget-view+json": {
              "model_id": "c0526afff9f54d42a4fab5c4e808ae07",
              "version_minor": 0,
              "version_major": 2
            },
            "text/plain": [
              "HBox(children=(FloatProgress(value=1.0, bar_style='info', description='Extraction completed...', max=1.0, styl…"
            ]
          },
          "metadata": {
            "tags": []
          }
        },
        {
          "output_type": "stream",
          "text": [
            "/usr/local/lib/python3.6/dist-packages/urllib3/connectionpool.py:847: InsecureRequestWarning: Unverified HTTPS request is being made. Adding certificate verification is strongly advised. See: https://urllib3.readthedocs.io/en/latest/advanced-usage.html#ssl-warnings\n",
            "  InsecureRequestWarning)\n"
          ],
          "name": "stderr"
        },
        {
          "output_type": "stream",
          "text": [
            "\n",
            "\n",
            "\n",
            "\n",
            "\n",
            "\n"
          ],
          "name": "stdout"
        },
        {
          "output_type": "display_data",
          "data": {
            "application/vnd.jupyter.widget-view+json": {
              "model_id": "6e5ae4720af347779a6bfb96b4e125f3",
              "version_minor": 0,
              "version_major": 2
            },
            "text/plain": [
              "HBox(children=(FloatProgress(value=1.0, bar_style='info', max=1.0), HTML(value='')))"
            ]
          },
          "metadata": {
            "tags": []
          }
        },
        {
          "output_type": "stream",
          "text": [
            "\rShuffling and writing examples to /root/tensorflow_datasets/math_dataset/calculus__differentiate/1.0.0.incomplete9JCSWZ/math_dataset-train.tfrecord\n"
          ],
          "name": "stdout"
        },
        {
          "output_type": "display_data",
          "data": {
            "application/vnd.jupyter.widget-view+json": {
              "model_id": "afcb5121a4e044e4a3abad6e6d3d4639",
              "version_minor": 0,
              "version_major": 2
            },
            "text/plain": [
              "HBox(children=(FloatProgress(value=0.0, max=1999998.0), HTML(value='')))"
            ]
          },
          "metadata": {
            "tags": []
          }
        },
        {
          "output_type": "display_data",
          "data": {
            "application/vnd.jupyter.widget-view+json": {
              "model_id": "5a5996fc2e75499a8b8f7da92c6473f7",
              "version_minor": 0,
              "version_major": 2
            },
            "text/plain": [
              "HBox(children=(FloatProgress(value=1.0, bar_style='info', max=1.0), HTML(value='')))"
            ]
          },
          "metadata": {
            "tags": []
          }
        },
        {
          "output_type": "stream",
          "text": [
            "\rShuffling and writing examples to /root/tensorflow_datasets/math_dataset/calculus__differentiate/1.0.0.incomplete9JCSWZ/math_dataset-test.tfrecord\n"
          ],
          "name": "stdout"
        },
        {
          "output_type": "display_data",
          "data": {
            "application/vnd.jupyter.widget-view+json": {
              "model_id": "37c93053eaa64eda982714f15b19dbb5",
              "version_minor": 0,
              "version_major": 2
            },
            "text/plain": [
              "HBox(children=(FloatProgress(value=0.0, max=10000.0), HTML(value='')))"
            ]
          },
          "metadata": {
            "tags": []
          }
        },
        {
          "output_type": "stream",
          "text": [
            "\u001b[1mDataset math_dataset downloaded and prepared to /root/tensorflow_datasets/math_dataset/calculus__differentiate/1.0.0. Subsequent calls will reuse this data.\u001b[0m\n"
          ],
          "name": "stdout"
        }
      ]
    },
    {
      "cell_type": "code",
      "metadata": {
        "id": "Ba5HuWnRBbXA",
        "colab_type": "code",
        "colab": {}
      },
      "source": [
        "#since we are dealing with mathemetics, we expect a low vocabulary size\n",
        "tokenizer = tfds.features.text.SubwordTextEncoder.build_from_corpus(\n",
        "    (question.numpy() for question, answer in train), target_vocab_size=2**12)"
      ],
      "execution_count": 4,
      "outputs": []
    },
    {
      "cell_type": "code",
      "metadata": {
        "id": "G2lcMhDrAraT",
        "colab_type": "code",
        "colab": {
          "base_uri": "https://localhost:8080/",
          "height": 51
        },
        "outputId": "307f68f5-aad5-454d-c32a-dcbf21156734"
      },
      "source": [
        "#Taking a look at the dataset\n",
        "test = list(train.take(1))\n",
        "test"
      ],
      "execution_count": 5,
      "outputs": [
        {
          "output_type": "execute_result",
          "data": {
            "text/plain": [
              "[(<tf.Tensor: shape=(), dtype=string, numpy=b'Find the first derivative of -4*a**4*v - 84*a**4 - v - 226 wrt a.'>,\n",
              "  <tf.Tensor: shape=(), dtype=string, numpy=b'-16*a**3*v - 336*a**3'>)]"
            ]
          },
          "metadata": {
            "tags": []
          },
          "execution_count": 5
        }
      ]
    },
    {
      "cell_type": "code",
      "metadata": {
        "id": "F2SZRlVkVHkA",
        "colab_type": "code",
        "colab": {}
      },
      "source": [
        "def encode(question,answer):\n",
        "  #Adds start token (tokenizer.vocab_size) and end token (tokenizer.vocab_size + 1) to (question,answer)\n",
        "\n",
        "  question = [tokenizer.vocab_size] + tokenizer.encode(question.numpy()) + [tokenizer.vocab_size + 1] \n",
        "  answer = [tokenizer.vocab_size] + tokenizer.encode(answer.numpy()) + [tokenizer.vocab_size + 1] \n",
        "\n",
        "  return question,answer\n",
        "\n",
        "def tf_encode(question, answer):\n",
        "  #We have to wrap encode in a tf.py_function() since the dataset elements do not have \n",
        "  question, answer = tf.py_function(encode, [question, answer], [tf.int64, tf.int64])\n",
        "  question.set_shape([None])\n",
        "  answer.set_shape([None])\n",
        "\n",
        "  return question, answer\n",
        "\n",
        "def tf_interleave_encode(question, answer):\n",
        "  #We have to wrap encode in a tf.py_function() since the dataset elements do not have \n",
        "  question, answer = tf.py_function(encode, [question, answer], [tf.int64, tf.int64])\n",
        "  question.set_shape([None])\n",
        "  answer.set_shape([None])\n",
        "\n",
        "  return tf.data.Dataset.from_tensors((question, answer))"
      ],
      "execution_count": 6,
      "outputs": []
    },
    {
      "cell_type": "code",
      "metadata": {
        "id": "JduaOCVjd3_u",
        "colab_type": "code",
        "colab": {}
      },
      "source": [
        "train_dataset = preprocess(train, 64).take(1000)"
      ],
      "execution_count": 24,
      "outputs": []
    },
    {
      "cell_type": "code",
      "metadata": {
        "id": "BcquKjDcaIqO",
        "colab_type": "code",
        "colab": {}
      },
      "source": [
        "max_length_question = 35\n",
        "max_length_answer = 25\n",
        "def filter_max_length(x, y, max_length_question = max_length_question, max_length_answer = max_length_answer):\n",
        "  return tf.logical_and(tf.size(x) <= max_length_question,\n",
        "                        tf.size(y) <= max_length_answer)"
      ],
      "execution_count": 8,
      "outputs": []
    },
    {
      "cell_type": "code",
      "metadata": {
        "id": "tT_0GTEufgY3",
        "colab_type": "code",
        "colab": {}
      },
      "source": [
        "def preprocess(dataset,batch_size, pad_len_question = max_length_question, pad_length_answer = max_length_answer):\n",
        "  dataset = dataset.cache()\n",
        "  #dataset = dataset.map(tf_encode)\n",
        "  dataset = dataset.interleave(tf_interleave_encode, num_parallel_calls = tf.data.experimental.AUTOTUNE)\n",
        "  dataset = dataset.filter(filter_max_length)\n",
        "  dataset = dataset.shuffle(10000)\n",
        "  #dataset = dataset.padded_batch(batch_size)\n",
        "  pad = tf.cast(0,tf.int64)\n",
        "  dataset = dataset.padded_batch(batch_size, drop_remainder = True, padded_shapes = ([pad_len_question],[pad_length_answer]), padding_values = pad)\n",
        "  dataset = dataset.prefetch(tf.data.experimental.AUTOTUNE)\n",
        "  return dataset"
      ],
      "execution_count": 9,
      "outputs": []
    },
    {
      "cell_type": "markdown",
      "metadata": {
        "id": "7K3lE8cSIHe4",
        "colab_type": "text"
      },
      "source": [
        "# Positional Encoding and Masks\n"
      ]
    },
    {
      "cell_type": "code",
      "metadata": {
        "id": "spnqARtqKcY9",
        "colab_type": "code",
        "colab": {}
      },
      "source": [
        "def positional_encoding(pos, d_model):\n",
        "\n",
        "  pos_enc = np.zeros((1, pos , d_model))\n",
        "\n",
        "  for p in range(pos):\n",
        "    for i in range(d_model//2):\n",
        "      angles = p / np.power(10000, (2 * i) / np.float32(d_model))\n",
        "      pos_enc[:,p,2*i] = np.sin(angles)\n",
        "      pos_enc[:,p,2*i+1] = np.cos(angles)\n",
        "    if d_model % 2 == 1:\n",
        "      # if d_model is odd loop doesn't hit last even index\n",
        "      angles = p / np.power(10000, (2 * d_model) / np.float32(d_model))\n",
        "      pos_enc[:,p,d_model-1] = np.sin(angles)\n",
        "  return tf.cast(pos_enc, tf.float32)"
      ],
      "execution_count": 10,
      "outputs": []
    },
    {
      "cell_type": "code",
      "metadata": {
        "id": "WepVhrhFT_hA",
        "colab_type": "code",
        "colab": {}
      },
      "source": [
        "def padding_mask(seq):\n",
        "  #0's where the sequence is padded, 1 where it is not\n",
        "\n",
        "  mask = 1-tf.cast(tf.math.equal(seq,0),tf.float32)\n",
        "  return mask[:,:,tf.newaxis,tf.newaxis] #(batch, seq_len, 1, 1)"
      ],
      "execution_count": 11,
      "outputs": []
    },
    {
      "cell_type": "code",
      "metadata": {
        "id": "b_Bbh_hgIMaM",
        "colab_type": "code",
        "colab": {}
      },
      "source": [
        "def forward_mask(seq):\n",
        "  seq_len = tf.shape(seq)[1]\n",
        "  \"\"\"Returns a combined look_ahead_mask (lower triangular 1s)\n",
        "    and padding mask\"\"\"\n",
        "  look_ahead_mask = tf.linalg.band_part(tf.ones((seq_len, seq_len)), -1, 0) \n",
        "  look_ahead_mask = look_ahead_mask [tf.newaxis,:,:,tf.newaxis]\n",
        "\n",
        "  padded_mask = padding_mask(seq)\n",
        "\n",
        "  return padded_mask*look_ahead_mask  #(batch, seq_len, seq_len, 1)"
      ],
      "execution_count": 12,
      "outputs": []
    },
    {
      "cell_type": "markdown",
      "metadata": {
        "id": "CD3pDp5shvpU",
        "colab_type": "text"
      },
      "source": [
        "# The Transformer"
      ]
    },
    {
      "cell_type": "code",
      "metadata": {
        "id": "7mG-F06GoKcI",
        "colab_type": "code",
        "colab": {
          "base_uri": "https://localhost:8080/",
          "height": 51
        },
        "outputId": "d9f4c97a-b51f-446f-9d89-a4be006ba3cc"
      },
      "source": [
        "#We will use tf.einsum to save ourselfs 3 tf.transpose operations during the calculation of the attention\n",
        "#This has the additional advantange of facilitating implementation of differente types of attention kernel.\n",
        "\n",
        "q = tf.random.uniform((5000,50,8, 100))\n",
        "k = tf.random.uniform((5000,45,8, 100))\n",
        "\n",
        "\n",
        "tstart = time.time()\n",
        "qt = tf.transpose(q, perm=[0, 2, 1, 3])\n",
        "kt = tf.transpose(k, perm=[0, 2, 1, 3])\n",
        "qk = tf.matmul(qt, kt, transpose_b=True)\n",
        "qk = tf.transpose(qk, perm=[0, 2, 1, 3])\n",
        "tend = time.time()\n",
        "\n",
        "print(\"With matmul :\", tend-tstart)\n",
        "\n",
        "tstart = time.time()\n",
        "qkeinsum = tf.einsum(\"mlhd,mjhd->mljh\",q, k)\n",
        "tend = time.time()\n",
        "print(\"With einsum :\", tend-tstart)\n",
        "\n"
      ],
      "execution_count": 13,
      "outputs": [
        {
          "output_type": "stream",
          "text": [
            "With matmul : 1.544126033782959\n",
            "With einsum : 0.007376670837402344\n"
          ],
          "name": "stdout"
        }
      ]
    },
    {
      "cell_type": "code",
      "metadata": {
        "id": "Ftz-STF_NN-D",
        "colab_type": "code",
        "colab": {
          "base_uri": "https://localhost:8080/",
          "height": 68
        },
        "outputId": "d1f7860a-0a78-4a03-d001-249dd762c109"
      },
      "source": [
        "#the encoder qk has shape (batch, seq_len_question, seq_len_question, num_heads) enc_padding_mask goes here\n",
        "#the 1st decoder qk has shape (batch, seq_len_answer, seq_len_answer, num_heads) dec_forward mask goes here\n",
        "#the 2nd decoder qk has shape (batch, seq_len_answer, seq_len_question, num_heads) dec_padding_mask goes here\n",
        "\n",
        "seq_question = tf.random.uniform((5000,45))\n",
        "seq_answer = tf.random.uniform((5000,50))\n",
        "pad_mask = padding_mask(seq_answer)\n",
        "print(tf.shape(pad_mask))\n",
        "for_mask = forward_mask(seq_answer)\n",
        "print(tf.shape(for_mask))\n",
        "print(tf.shape(qkeinsum*pad_mask))"
      ],
      "execution_count": 14,
      "outputs": [
        {
          "output_type": "stream",
          "text": [
            "tf.Tensor([5000   50    1    1], shape=(4,), dtype=int32)\n",
            "tf.Tensor([5000   50   50    1], shape=(4,), dtype=int32)\n",
            "tf.Tensor([5000   50   45    8], shape=(4,), dtype=int32)\n"
          ],
          "name": "stdout"
        }
      ]
    },
    {
      "cell_type": "code",
      "metadata": {
        "id": "EOJjdEEghvGq",
        "colab_type": "code",
        "colab": {}
      },
      "source": [
        "class MultiHeadAttention(tf.keras.layers.Layer):\n",
        "\n",
        "  def __init__(self,d_model,num_heads):\n",
        "\n",
        "    super().__init__()\n",
        "\n",
        "    self.d_model = d_model\n",
        "    self.num_heads = num_heads\n",
        "    assert d_model%self.num_heads == 0\n",
        "\n",
        "    self.depth=d_model//self.num_heads\n",
        "    self.wq = tf.keras.layers.Dense(d_model)\n",
        "    self.wk = tf.keras.layers.Dense(d_model)\n",
        "    self.wv = tf.keras.layers.Dense(d_model)\n",
        "    self.dense = tf.keras.layers.Dense(d_model)\n",
        "\n",
        "  def split_heads(self,x, batch_size):\n",
        "\n",
        "    \"\"\"Split the last dimension into (num_heads,depth)\n",
        "\n",
        "    Arguments:\n",
        "    x -- A tokenized sequence (batch_size, seq_len, d_model)\n",
        "    \n",
        "    Returns:\n",
        "    A tokenized sequence with dimensions (batch_size, seq_len, num_heads, depth)\n",
        "    \"\"\"\n",
        "    x = tf.reshape(x, (batch_size, -1, self.num_heads, self.depth))\n",
        "\n",
        "    return x \n",
        "\n",
        "  def call(self,q,k,v,mask=None):\n",
        "\n",
        "    batch_size = tf.shape(q)[0]\n",
        "    q = self.wq(q) #(batch_size,len_q, dim_q) \n",
        "    k = self.wk(k) #(batch_size,len_v, dim_q) \n",
        "    v = self.wv(v) #(batch_size,len_v, dim_v) \n",
        "    \n",
        "    q = self.split_heads(q, batch_size)  # (batch_size, len_q, num_heads, depth_q) (m,l,h,d)\n",
        "    k = self.split_heads(k, batch_size)  # (batch_size, len_v, num_heads, depth_q) (m,j,h,d)\n",
        "    v = self.split_heads(v, batch_size)  # (batch_size, len_v, num_heads, depth_v) (m,j,h,e)\n",
        "\n",
        "    qk = tf.einsum(\"mlhd,mjhd->mljh\",q,k) #(batch_size, len_q, len_v, num_heads) (m,l,j,h)\n",
        "    dk = tf.cast(tf.shape(k)[-1], tf.float32) \n",
        "    qk = qk/tf.math.sqrt(dk)\n",
        "\n",
        "    if mask is not None: \n",
        "       qk = qk * mask # We are using a multiplicative mask\n",
        "\n",
        "    qk = tf.nn.softmax(qk, axis = -2) #(batch_size,len_q,len_v, num_heads) (m,l,j,h)\n",
        "    dk = tf.cast(tf.shape(k)[-1], tf.float32)\n",
        "    qk = qk/tf.math.sqrt(dk)\n",
        "\n",
        "    output = tf.einsum(\"mljh, mjhe -> mlhe\",qk,v) #(batch_size,len_q, heads, depth_v)\n",
        "    output = tf.reshape(output,(batch_size, -1, self.num_heads*self.depth)) #(batch_size,len_q, d_model)\n",
        "\n",
        "    return self.dense(output)\n"
      ],
      "execution_count": 15,
      "outputs": []
    },
    {
      "cell_type": "code",
      "metadata": {
        "id": "-nJ22J-8woib",
        "colab_type": "code",
        "colab": {}
      },
      "source": [
        "class EncoderLayer(tf.keras.layers.Layer):\n",
        "  \n",
        "  \"\"\"The EncoderLayer consisters of one MultiHeadAttention layer connected to a FeedForward layer,\n",
        "  each of these 2 layers have a residual connection.\"\"\"\n",
        "\n",
        "  def __init__(self, num_heads, d_model, dense_dim, dropout = 0.1):\n",
        "    super().__init__()\n",
        "\n",
        "    self.attention = MultiHeadAttention(d_model,num_heads)\n",
        "    self.dense = tf.keras.Sequential([tf.keras.layers.Dense(dense_dim,activation='relu'),\n",
        "                                         tf.keras.layers.Dense(d_model)])\n",
        "    \n",
        "    self.norm1 = tf.keras.layers.LayerNormalization()\n",
        "    self.norm2 = tf.keras.layers.LayerNormalization()\n",
        "\n",
        "    self.dropout1 = tf.keras.layers.Dropout(dropout)\n",
        "    self.dropout2 = tf.keras.layers.Dropout(dropout)\n",
        "\n",
        "  def call(self, x, training, mask):\n",
        "\n",
        "    out_attention = self.attention(x, x, x, mask) #(batch_size,seq_len,d_model)\n",
        "    out_attention = self.dropout1(out_attention, training=training)\n",
        "    out1 = self.norm1(x + out_attention) #residual connection (batch_size,seq_len,d_model)\n",
        "\n",
        "    out_dense = self.dense(out1) #(batch_size,seq_len,d_model)\n",
        "    out2 = self.norm2(out1 + out_dense) #residual conenction (batch_size,seq_len,d_model)\n",
        "    return out2\n",
        "\n",
        "    \n",
        "class Encoder(tf.keras.layers.Layer):\n",
        "\n",
        "  def __init__(self, num_layers, num_heads, d_model, dense_dim,\n",
        "               vocab_size, max_encoding_position, dropout  = 0.1):\n",
        "    super().__init__()\n",
        "    self.num_heads = num_heads\n",
        "    self.d_model = d_model\n",
        "    self.num_layers = num_layers \n",
        "    self.embedding = tf.keras.layers.Embedding(vocab_size, d_model)\n",
        "    self.positional_encoding = positional_encoding(max_encoding_position, d_model)\n",
        "    self.encoding_layers = [EncoderLayer(num_heads, d_model, dense_dim, dropout) for _ in range(num_layers)]\n",
        "    self.dropout = tf.keras.layers.Dropout(dropout)\n",
        "\n",
        "  def call(self, x, training, mask = None):\n",
        "\n",
        "    seq_len = tf.shape(x)[1]\n",
        "    x = self.embedding(x) #(batch_size,input_len,d_model)\n",
        "    x = x * tf.math.sqrt(tf.cast(self.d_model, tf.float32))\n",
        "    x = x + self.positional_encoding[:, :seq_len, :] \n",
        "    x = self.dropout(x, training = training)    \n",
        "    for i in range(self.num_layers):\n",
        "      x = self.encoding_layers[i](x, training, mask)  # (batch_size, input_seq_len, d_model)\n",
        "    \n",
        "    return x "
      ],
      "execution_count": 16,
      "outputs": []
    },
    {
      "cell_type": "code",
      "metadata": {
        "id": "Yoq8-hnE6dEY",
        "colab_type": "code",
        "colab": {}
      },
      "source": [
        "class DecoderLayer(tf.keras.layers.Layer):\n",
        "\n",
        "\n",
        "  def __init__(self, num_heads, d_model, dense_dim, dropout = 0.1):\n",
        "    super().__init__()\n",
        "\n",
        "    self.attention1 = MultiHeadAttention(d_model,num_heads)\n",
        "    self.attention2 = MultiHeadAttention(d_model,num_heads)\n",
        "\n",
        "    self.dense = tf.keras.Sequential([tf.keras.layers.Dense(dense_dim,activation='relu'),\n",
        "                                        tf.keras.layers.Dense(d_model)])\n",
        "\n",
        "    \n",
        "    self.norm1 = tf.keras.layers.LayerNormalization()\n",
        "    self.norm2 = tf.keras.layers.LayerNormalization()\n",
        "    self.norm3 = tf.keras.layers.LayerNormalization()\n",
        "\n",
        "    self.dropout1 = tf.keras.layers.Dropout(dropout)\n",
        "    self.dropout2 = tf.keras.layers.Dropout(dropout)\n",
        "    self.dropout3 = tf.keras.layers.Dropout(dropout)\n",
        "\n",
        "  def call(self, encoder_out, x, training, forward_mask, padding_mask):\n",
        "\n",
        "    #We will not use forward masking since it makes little sense in this context\n",
        "\n",
        "    out_attention1 = self.attention1(x, x, x, forward_mask) #(batch_size, seq_len_answer, d_model) -> The return seq_len is the same as that of the first argument of the call.\n",
        "    out_attention1 = self.dropout1(out_attention1, training = training)\n",
        "    out1 = self.norm1(x + out_attention1) #residual connection (batch_size, seq_len_answer, d_model)\n",
        "\n",
        "    out_attention2 = self.attention2(out1, encoder_out, encoder_out, padding_mask) #(batch_size, seq_len_answer, d_model)\n",
        "    out_attention2 = self.dropout2(out_attention2, training = training)\n",
        "    out2 = self.norm2(out1 + out_attention2)\n",
        "\n",
        "    out_dense = self.dense(out2)\n",
        "    out_dense = self.dropout3(out_dense + out2)\n",
        "\n",
        "    return out_dense\n",
        "\n",
        "class Decoder(tf.keras.layers.Layer):\n",
        "\n",
        "\n",
        "  def __init__(self, num_layers, num_heads, d_model, dense_dim,\n",
        "               vocab_size, max_encoding_position, dropout  = 0.1):\n",
        "    super().__init__()\n",
        "    \n",
        "    self.num_heads = num_heads\n",
        "    self.d_model = d_model\n",
        "    self.num_layers = num_layers \n",
        "    self.embedding = tf.keras.layers.Embedding(vocab_size, d_model)\n",
        "    self.positional_encoding = positional_encoding(max_encoding_position, d_model)\n",
        "    self.decoder_layers = [DecoderLayer(num_heads, d_model, dense_dim, dropout) for _ in range(num_layers)]\n",
        "    self.dropout = tf.keras.layers.Dropout(dropout)\n",
        "\n",
        "\n",
        "  def call(self, encoder_out, x, training, forward_mask = None, padding_mask = None):\n",
        "\n",
        "    seq_len = tf.shape(x)[1]\n",
        "    x = self.embedding(x) #(batch_size,input_len,d_model)\n",
        "    x = x * tf.math.sqrt(tf.cast(self.d_model, tf.float32)) \n",
        "    x = x + self.positional_encoding[:, :seq_len, :] \n",
        "    x = self.dropout(x, training = training)    \n",
        "    for i in range(self.num_layers):\n",
        "      x = self.decoder_layers[i](encoder_out, x, training, forward_mask, padding_mask)  # (batch_size, input_seq_len, d_model)\n",
        "    return x"
      ],
      "execution_count": 17,
      "outputs": []
    },
    {
      "cell_type": "code",
      "metadata": {
        "id": "ecrEgr2AF5eV",
        "colab_type": "code",
        "colab": {}
      },
      "source": [
        "class Transformer(tf.keras.Model):\n",
        "\n",
        "  \n",
        "    def __init__(self, num_layers, num_heads, d_model,  dense_dim, vocab_size,\n",
        "                 input_max_position, target_max_position, rate=0.1):\n",
        "      super().__init__()\n",
        "\n",
        "      self.encoder = Encoder(num_layers, num_heads, d_model, dense_dim,\n",
        "               vocab_size, max_encoding_position = input_max_position, dropout  = 0.1)\n",
        "      \n",
        "      self.decoder = Decoder(num_layers, num_heads, d_model, dense_dim,\n",
        "               vocab_size, max_encoding_position = target_max_position, dropout  = 0.1)\n",
        "      \n",
        "      self.dense = tf.keras.layers.Dense(vocab_size)\n",
        "\n",
        "    def call(self, input, target, training = False, enc_mask = None , dec_forward_mask= None, dec_padding_mask = None):\n",
        "\n",
        "      out_encoder = self.encoder(input, training = training, mask = enc_mask)\n",
        "\n",
        "      out_decoder = self.decoder(out_encoder, target, training = training, forward_mask = dec_forward_mask, padding_mask = dec_padding_mask)\n",
        "\n",
        "      out = self.dense(out_decoder)\n",
        "\n",
        "      return out"
      ],
      "execution_count": 18,
      "outputs": []
    },
    {
      "cell_type": "markdown",
      "metadata": {
        "id": "VRoizp-KmQge",
        "colab_type": "text"
      },
      "source": [
        "#Training"
      ]
    },
    {
      "cell_type": "code",
      "metadata": {
        "id": "4oGk0yQKdPPB",
        "colab_type": "code",
        "colab": {}
      },
      "source": [
        "num_layers = 3\n",
        "d_model = 64\n",
        "dense_dim = 256\n",
        "num_heads = 4\n",
        "\n",
        "vocab_size = tokenizer.vocab_size + 2\n",
        "\n",
        "dropout_rate = 0.1\n",
        "transformer = Transformer( num_layers = num_layers, num_heads = num_heads, d_model = d_model,  dense_dim = dense_dim, vocab_size = vocab_size,\n",
        "                 input_max_position = max_length_question, target_max_position = max_length_answer, rate=0.1)"
      ],
      "execution_count": 19,
      "outputs": []
    },
    {
      "cell_type": "code",
      "metadata": {
        "id": "HeNWYTa018fQ",
        "colab_type": "code",
        "colab": {}
      },
      "source": [
        "class CustomSchedule(tf.keras.optimizers.schedules.LearningRateSchedule):\n",
        "  def __init__(self, d_model, warmup_steps=4000):\n",
        "    super(CustomSchedule, self).__init__()\n",
        "    \n",
        "    self.d_model = d_model\n",
        "    self.d_model = tf.cast(self.d_model, tf.float32)\n",
        "\n",
        "    self.warmup_steps = warmup_steps\n",
        "    \n",
        "  def __call__(self, step):\n",
        "    arg1 = tf.math.rsqrt(step)\n",
        "    arg2 = step * (self.warmup_steps ** -1.5)\n",
        "    \n",
        "    return tf.math.rsqrt(self.d_model) * tf.math.minimum(arg1, arg2)\n",
        "learning_rate = CustomSchedule(d_model)\n",
        "optimizer = tf.keras.optimizers.Adam(learning_rate, beta_1=0.9, beta_2=0.98, \n",
        "                                     epsilon=1e-9)"
      ],
      "execution_count": 20,
      "outputs": []
    },
    {
      "cell_type": "code",
      "metadata": {
        "id": "wAq8RIZKfLbu",
        "colab_type": "code",
        "colab": {}
      },
      "source": [
        "loss_fn = tf.keras.losses.SparseCategoricalCrossentropy(\n",
        "    from_logits=True, reduction='none')\n",
        "\n",
        "def masked_loss_fn(answer, prediction):\n",
        "  mask = tf.math.logical_not(tf.math.equal(answer,0)) #0 at zeroes, 1 at non-zeroes since seq is padded\n",
        "  mask = tf.cast(mask, tf.int32)\n",
        "  loss_value = loss_fn(answer,prediction,sample_weight=mask) #set the zeros to zero weight, other values have weight of 1. \n",
        "\n",
        "  return loss_value\n",
        "\n",
        "train_loss = tf.keras.metrics.Mean(name='train_loss')\n",
        "train_accuracy = tf.keras.metrics.SparseCategoricalAccuracy(\n",
        "    name='train_accuracy')"
      ],
      "execution_count": 21,
      "outputs": []
    },
    {
      "cell_type": "code",
      "metadata": {
        "id": "neGZo1pI31rO",
        "colab_type": "code",
        "colab": {
          "base_uri": "https://localhost:8080/",
          "height": 527
        },
        "outputId": "0bee5d36-26c6-4cc5-947a-591f54be6bd7"
      },
      "source": [
        "EPOCHS = 10\n",
        "signature = [tf.TensorSpec(shape=(None, max_length_question), dtype=tf.int64), tf.TensorSpec(shape=(None, max_length_answer), dtype=tf.int64),] #quite a bit faster if we specify the signature\n",
        "\n",
        "@tf.function(input_signature=signature)\n",
        "def train_step(question, answer):\n",
        "  answer_in = answer[:, :-1]\n",
        "  answer_tar = answer[:, 1:]\n",
        "  \n",
        "  enc_padding_mask = padding_mask(question)\n",
        "  dec_padding_mask = padding_mask(answer_in)\n",
        "  dec_forward_mask = forward_mask(answer_in)\n",
        "  \n",
        "  with tf.GradientTape() as tape:\n",
        "    predictions = transformer(question, answer_in, training = True, enc_mask = enc_padding_mask , dec_forward_mask = dec_forward_mask, dec_padding_mask = dec_padding_mask)\n",
        "    loss = masked_loss_fn(answer_tar, predictions)\n",
        "\n",
        "  gradients = tape.gradient(loss, transformer.trainable_variables)    \n",
        "  optimizer.apply_gradients(zip(gradients, transformer.trainable_variables))\n",
        "  \n",
        "  train_loss(loss)\n",
        "  train_accuracy(answer_tar, predictions)\n",
        "\n",
        "\n",
        "for epoch in range(EPOCHS):\n",
        "  start = time.time()\n",
        "  \n",
        "  train_loss.reset_states()\n",
        "  train_accuracy.reset_states()\n",
        "  \n",
        "  for (batch, (question, answer)) in enumerate(train_dataset):\n",
        "    train_step(question, answer)\n",
        "\n",
        "  print ('Epoch {} Loss {:.4f} Accuracy {:.4f}'.format(epoch + 1, \n",
        "                                                train_loss.result(), \n",
        "                                                train_accuracy.result()))\n",
        "\n",
        "  print ('Time taken for 1 epoch: {} secs\\n'.format(time.time() - start))"
      ],
      "execution_count": 26,
      "outputs": [
        {
          "output_type": "stream",
          "text": [
            "Epoch 1 Loss 0.6750 Accuracy 0.2320\n",
            "Time taken for 1 epoch: 95.12350106239319 secs\n",
            "\n",
            "Epoch 2 Loss 0.5439 Accuracy 0.2563\n",
            "Time taken for 1 epoch: 91.63019752502441 secs\n",
            "\n",
            "Epoch 3 Loss 0.4196 Accuracy 0.2707\n",
            "Time taken for 1 epoch: 91.36850237846375 secs\n",
            "\n",
            "Epoch 4 Loss 0.3170 Accuracy 0.2831\n",
            "Time taken for 1 epoch: 91.55873107910156 secs\n",
            "\n",
            "Epoch 5 Loss 0.2479 Accuracy 0.2929\n",
            "Time taken for 1 epoch: 91.14557266235352 secs\n",
            "\n",
            "Epoch 6 Loss 0.2011 Accuracy 0.3005\n",
            "Time taken for 1 epoch: 91.39584112167358 secs\n",
            "\n",
            "Epoch 7 Loss 0.1743 Accuracy 0.3056\n",
            "Time taken for 1 epoch: 90.67380905151367 secs\n",
            "\n",
            "Epoch 8 Loss 0.1514 Accuracy 0.3098\n",
            "Time taken for 1 epoch: 92.1460874080658 secs\n",
            "\n",
            "Epoch 9 Loss 0.1382 Accuracy 0.3123\n",
            "Time taken for 1 epoch: 94.22340703010559 secs\n",
            "\n",
            "Epoch 10 Loss 0.1273 Accuracy 0.3142\n",
            "Time taken for 1 epoch: 92.45964097976685 secs\n",
            "\n"
          ],
          "name": "stdout"
        }
      ]
    },
    {
      "cell_type": "markdown",
      "metadata": {
        "id": "G2PezWhy3d1v",
        "colab_type": "text"
      },
      "source": [
        "# EVALUATION\n"
      ]
    },
    {
      "cell_type": "code",
      "metadata": {
        "id": "14QmhWesaJ2g",
        "colab_type": "code",
        "colab": {}
      },
      "source": [
        "def evaluate(question):\n",
        "    start_token = [tokenizer.vocab_size]\n",
        "    end_token = [tokenizer.vocab_size + 1]\n",
        "    question = start_token + tokenizer.encode(question) + end_token\n",
        "    question = tf.expand_dims(question, 0)\n",
        "    answer_in = [tokenizer.vocab_size]\n",
        "    answer_in = tf.expand_dims(answer_in, 0)\n",
        "\n",
        "    for i in range(max_length_answer):\n",
        "        enc_padding_mask = padding_mask(question)\n",
        "        dec_padding_mask = padding_mask(answer_in)\n",
        "        dec_forward_mask = forward_mask(answer_in)\n",
        "\n",
        "        predictions = transformer(question, answer_in, training=False, enc_mask=enc_padding_mask,\n",
        "                                  dec_forward_mask=dec_forward_mask, dec_padding_mask=dec_padding_mask)\n",
        "        prediction = predictions[:, -1:, :]  # select the last word to add to the outputs\n",
        "\n",
        "        predicted_id = tf.cast(tf.argmax(prediction, axis=-1), tf.int32)\n",
        "\n",
        "        if predicted_id == tokenizer.vocab_size:\n",
        "          return tf.squeeze(answer, axis=0)\n",
        "        answer_in = tf.concat([answer_in, predicted_id], axis=-1)\n",
        "\n",
        "    return tf.squeeze(answer_in, axis=0)\n",
        "\n",
        "def translate(sentence):\n",
        "    result = np.array(evaluate(sentence))\n",
        "\n",
        "    predicted_sentence = tokenizer.decode([i for i in result\n",
        "                                              if tokenizer.vocab_size > i > 0])\n",
        "    print('Input: {}'.format(sentence))\n",
        "    print('Predicted answer: {}'.format(predicted_sentence))"
      ],
      "execution_count": 67,
      "outputs": []
    },
    {
      "cell_type": "code",
      "metadata": {
        "id": "jYmpHOETC4mS",
        "colab_type": "code",
        "colab": {}
      },
      "source": [
        "def find_answer(sentence):\n",
        "  result = np.array(evaluate(sentence))\n",
        "  \n",
        "  predicted_sentence = tokenizer.decode([i for i in result \n",
        "                                            if i < tokenizer.vocab_size and i > 0])\n",
        "  print('Input: {}'.format(sentence))\n",
        "  print('Predicted answer: {}'.format(predicted_sentence))"
      ],
      "execution_count": 33,
      "outputs": []
    },
    {
      "cell_type": "code",
      "metadata": {
        "id": "MDG24peIC74f",
        "colab_type": "code",
        "colab": {
          "base_uri": "https://localhost:8080/",
          "height": 51
        },
        "outputId": "ab42c4cc-5940-4502-ed9f-cf2935838b6f"
      },
      "source": [
        "question = b'Find the first derivative of x*2 with respect to x.'\n",
        "find_answer(question)"
      ],
      "execution_count": 76,
      "outputs": [
        {
          "output_type": "stream",
          "text": [
            "Input: b'Find the first derivative of x*2 with respect to x.'\n",
            "Predicted answer: ********************x**x*\n"
          ],
          "name": "stdout"
        }
      ]
    },
    {
      "cell_type": "markdown",
      "metadata": {
        "id": "xgYkOAK9yI_A",
        "colab_type": "text"
      },
      "source": [
        "It seems that we have complete garbage results. This tokenizer represents each number as an unique token, which doesn't seem suitable for mathematics. \n",
        "Things to try.\n",
        "\n",
        "- Test the transformer on a translation task\n",
        "- Find an input format that understands the basic structure of a mathematical expression (trees?)"
      ]
    }
  ]
}