{
  "nbformat": 4,
  "nbformat_minor": 0,
  "metadata": {
    "colab": {
      "name": "DecisionTreeCART_from_scratch_with_pd.ipynb",
      "provenance": [],
      "authorship_tag": "ABX9TyPwqTyv4toLofMtaPREU2Ol",
      "include_colab_link": true
    },
    "kernelspec": {
      "name": "python3",
      "display_name": "Python 3"
    }
  },
  "cells": [
    {
      "cell_type": "markdown",
      "metadata": {
        "id": "view-in-github",
        "colab_type": "text"
      },
      "source": [
        "<a href=\"https://colab.research.google.com/github/kyle-gao/ML_ipynb/blob/master/DecisionTreeCART_from_scratch_with_pd.ipynb\" target=\"_parent\"><img src=\"https://colab.research.google.com/assets/colab-badge.svg\" alt=\"Open In Colab\"/></a>"
      ]
    },
    {
      "cell_type": "code",
      "metadata": {
        "id": "L4s1cHumPqXI",
        "colab_type": "code",
        "colab": {}
      },
      "source": [
        "import numpy as np\n",
        "import pandas as pd\n",
        "from sklearn import datasets"
      ],
      "execution_count": 32,
      "outputs": []
    },
    {
      "cell_type": "code",
      "metadata": {
        "id": "CweAKT_sQPkC",
        "colab_type": "code",
        "colab": {}
      },
      "source": [
        "iris = datasets.load_iris()"
      ],
      "execution_count": 24,
      "outputs": []
    },
    {
      "cell_type": "code",
      "metadata": {
        "id": "IUblpQUW5wrx",
        "colab_type": "code",
        "colab": {}
      },
      "source": [
        "x = iris.data\n",
        "y = iris.target[:,np.newaxis]"
      ],
      "execution_count": 212,
      "outputs": []
    },
    {
      "cell_type": "code",
      "metadata": {
        "id": "BIQa2HJeQnI3",
        "colab_type": "code",
        "colab": {}
      },
      "source": [
        "columns = ['Sepal Length', 'Sepal Width', 'Petal Length', 'Petal Width', \"Target\"]\n",
        "df = pd.DataFrame(np.concatenate((x,y),axis=1), columns =  columns)\n",
        "df.Target = df.Target.astype('category')"
      ],
      "execution_count": 211,
      "outputs": []
    },
    {
      "cell_type": "code",
      "metadata": {
        "id": "zztKDOrM3vfi",
        "colab_type": "code",
        "colab": {}
      },
      "source": [
        "def partition(df, column, value):\n",
        "  \"\"\"\n",
        "  rows - a dataframe\n",
        "  column - a column label, string or int\n",
        "  value - if a float, then the question >= ? is asked. if categorical the question ==? is asked.\n",
        "  Returns a list of rows for which the question is True and one for which question is False.\n",
        "  \"\"\"\n",
        "  if df[column].dtype.name in [\"category\",\"object\",\"bool\"]:\n",
        "    return df.loc[df[column]==value], df.loc[df[column]!=value]\n",
        "  else:\n",
        "    return df.loc[df[column]>=value], df.loc[df[column]<value]"
      ],
      "execution_count": 348,
      "outputs": []
    },
    {
      "cell_type": "code",
      "metadata": {
        "id": "F1gWsQdoSRLn",
        "colab_type": "code",
        "colab": {}
      },
      "source": [
        "def gini_inpurity(df):\n",
        "  \"\"\"\n",
        "  input:\n",
        "  df - a dataframe with the last column containing class labels\n",
        "  returns: \n",
        "  the gini inpurity\"\"\"\n",
        "\n",
        "  counts = df.iloc[:,-1].value_counts()\n",
        "  inpurity = 1\n",
        "  for label in counts.index:\n",
        "    if df.iloc[:,-1].dtype.name == 'category' and isinstance(label,float):\n",
        "      label = int(label)\n",
        "      prob_label = counts.iloc[label]/counts.sum()\n",
        "    else:\n",
        "      prob_label = counts[label]/counts.sum() \n",
        "    inpurity = inpurity - prob_label**2\n",
        "  return inpurity"
      ],
      "execution_count": 305,
      "outputs": []
    },
    {
      "cell_type": "code",
      "metadata": {
        "id": "J6qhk7v1_xPh",
        "colab_type": "code",
        "colab": {}
      },
      "source": [
        "def information_gain(left, right, current):\n",
        "  \"\"\"Returns the information gain of a node split\"\"\"\n",
        "\n",
        "  p = float(len(left))/(len(left)+len(right))\n",
        "  return current -p * gini_inpurity(left) - (1-p)*gini_inpurity(right)\n"
      ],
      "execution_count": 122,
      "outputs": []
    },
    {
      "cell_type": "code",
      "metadata": {
        "id": "lrmfuoiGBl4H",
        "colab_type": "code",
        "colab": {
          "base_uri": "https://localhost:8080/",
          "height": 34
        },
        "outputId": "63717f9a-bef2-4aa9-8e89-1fb886d92f01"
      },
      "source": [
        "current = gini_inpurity(df)\n",
        "left,right = partition(df,\"Sepal Width\", 3.0)\n",
        "information_gain(left,right,current)"
      ],
      "execution_count": 302,
      "outputs": [
        {
          "output_type": "execute_result",
          "data": {
            "text/plain": [
              "0.09771741180909241"
            ]
          },
          "metadata": {
            "tags": []
          },
          "execution_count": 302
        }
      ]
    },
    {
      "cell_type": "code",
      "metadata": {
        "id": "Z_9ZgArLGfvj",
        "colab_type": "code",
        "colab": {}
      },
      "source": [
        "def best_split(df):\n",
        "  \"\"\"\n",
        "  Finds the best partition over the feature columns\n",
        "  Input:\n",
        "  df - a pd.Dataframe\n",
        "  Returns:\n",
        "  best_gain - information gain of best partition\n",
        "  saved_col - the partition feature\n",
        "  saved_value - the partition threshold/value\n",
        "  \"\"\"\n",
        "  current = gini_inpurity(df)\n",
        "  best_gain = 0\n",
        "  saved_col = None\n",
        "  saved_value = None\n",
        "\n",
        "  for column in df.columns[:-1]:\n",
        "    values = df[column]\n",
        "    for value in values:\n",
        "      # split the data\n",
        "      left, right = partition(df, column, value)\n",
        "      # skip the split if one of the splits is empty\n",
        "      if len(left) == 0 or len(right) == 0:\n",
        "        continue\n",
        "      info_gain = information_gain(left, right, current)\n",
        "      if info_gain > best_gain:\n",
        "        best_gain = info_gain\n",
        "        saved_col = column\n",
        "        saved_value = value\n",
        "  return best_gain, saved_col, saved_value"
      ],
      "execution_count": 261,
      "outputs": []
    },
    {
      "cell_type": "code",
      "metadata": {
        "id": "7X7MHKc3Sd6Q",
        "colab_type": "code",
        "colab": {}
      },
      "source": [
        "training_data = [\n",
        "    ['Green', 3, 'Apple'],\n",
        "    ['Yellow', 3, 'Apple'],\n",
        "    ['Red', 1, 'Grape'],\n",
        "    ['Red', 1, 'Grape'],\n",
        "    ['Yellow', 3, 'Lemon'],\n",
        "]\n",
        "df_train = pd.DataFrame(training_data, columns = [\"Color\", \"Number\", \"Target\"])"
      ],
      "execution_count": 265,
      "outputs": []
    },
    {
      "cell_type": "code",
      "metadata": {
        "id": "S6D54KVlRnqS",
        "colab_type": "code",
        "colab": {}
      },
      "source": [
        "class Leaf:\n",
        "  def __init__(self, df):\n",
        "\n",
        "    #a dictionary of counts of target classes in the Leaf's branch\n",
        "    self.predictions = df.iloc[:,-1].value_counts().to_dict()\n",
        "    self.__sum = np.asarray(list(self.predictions.values())).astype(float).sum()\n",
        "    #normalize the counts to return a probability\n",
        "    self.predict = {key:str(value/self.__sum * 100)+\"%\" for (key,value) in self.predictions.items()}"
      ],
      "execution_count": 571,
      "outputs": []
    },
    {
      "cell_type": "code",
      "metadata": {
        "id": "pOfRqxokTN71",
        "colab_type": "code",
        "colab": {}
      },
      "source": [
        "class Node:\n",
        "  def __init__(self, col, value, left, right):\n",
        "    \"\"\"\n",
        "    Inputs:\n",
        "    col - a dataframe column index\n",
        "    value - a value in the column\n",
        "    left - a dataframe\n",
        "    right - a dataframe\n",
        "    \"\"\"\n",
        "\n",
        "    self.threshold = (col,value)\n",
        "    self.left = left\n",
        "    self.right = right"
      ],
      "execution_count": 497,
      "outputs": []
    },
    {
      "cell_type": "code",
      "metadata": {
        "id": "yPGFichdTgyz",
        "colab_type": "code",
        "colab": {}
      },
      "source": [
        "def build_tree(df, depth = 0, max_depth = None):\n",
        "  \"\"\"Recursively build the tree from df\"\"\"\n",
        "  \n",
        "  gain, col, val = best_split(df)\n",
        "\n",
        "  #base cases:\n",
        "  #reach Leaf node\n",
        "  #max depth is reached\n",
        "  if gain == 0:\n",
        "    return Leaf(df)\n",
        "  if isinstance(max_depth,int) and depth >= max_depth:\n",
        "    return Leaf(df)\n",
        "  \n",
        "  left, right = partition(df, col, val)\n",
        "  if depth < max_depth:\n",
        "    #recursive calls\n",
        "    left_branch = build_tree(left, depth + 1, max_depth)\n",
        "    right_branch = build_tree(right, depth + 1, max_depth)\n",
        "    return Node(col,val, left_branch, right_branch)\n",
        "\n"
      ],
      "execution_count": 458,
      "outputs": []
    },
    {
      "cell_type": "code",
      "metadata": {
        "id": "ReOVgu2XV6nq",
        "colab_type": "code",
        "colab": {}
      },
      "source": [
        "tree = build_tree(df, max_depth = 3)"
      ],
      "execution_count": 572,
      "outputs": []
    },
    {
      "cell_type": "code",
      "metadata": {
        "id": "EXiBeRA5a-_k",
        "colab_type": "code",
        "colab": {}
      },
      "source": [
        "def print_tree(node, df, spacing= \"\"):\n",
        "    \"\"\"Recursively prints the tree from df, inspired by \"\"\"\n",
        "\n",
        "    #base case: node is Leaf\n",
        "    if isinstance(node,Leaf):\n",
        "        print (spacing + \"Predict\", node.predict)\n",
        "        return\n",
        "\n",
        "    (col,val) = node.threshold\n",
        "    \n",
        "    if  df[column].dtype.name in [\"category\",\"object\",\"bool\"]:\n",
        "      print (spacing + str(col)+\"==\"+str(val)+\"?\")\n",
        "    else:\n",
        "      print (spacing + str(col)+\">=\"+str(val)+\"?\")     \n",
        "\n",
        "\n",
        "    #recursive calls  \n",
        "    print (spacing + '--> True:')\n",
        "    print_tree(node.left, df, spacing + \"  \")\n",
        "    print (spacing + '--> False:')\n",
        "    print_tree(node.right, df, spacing + \"  \")\n"
      ],
      "execution_count": 574,
      "outputs": []
    },
    {
      "cell_type": "code",
      "metadata": {
        "id": "8MmGj1z0mQwn",
        "colab_type": "code",
        "colab": {
          "base_uri": "https://localhost:8080/",
          "height": 510
        },
        "outputId": "3fa8b570-a8af-4c3e-8c63-4d3c46018788"
      },
      "source": [
        "print_tree(tree, df)"
      ],
      "execution_count": 575,
      "outputs": [
        {
          "output_type": "stream",
          "text": [
            "Petal Length==3.0?\n",
            "--> True:\n",
            "  Petal Width==1.8?\n",
            "  --> True:\n",
            "    Petal Length==4.9?\n",
            "    --> True:\n",
            "      Predict {2.0: '100.0%', 1.0: '0.0%', 0.0: '0.0%'}\n",
            "    --> False:\n",
            "      Predict {2.0: '66.66666666666666%', 1.0: '33.33333333333333%', 0.0: '0.0%'}\n",
            "  --> False:\n",
            "    Petal Length==5.0?\n",
            "    --> True:\n",
            "      Predict {2.0: '66.66666666666666%', 1.0: '33.33333333333333%', 0.0: '0.0%'}\n",
            "    --> False:\n",
            "      Predict {1.0: '97.91666666666666%', 2.0: '2.083333333333333%', 0.0: '0.0%'}\n",
            "--> False:\n",
            "  Sepal Length==5.1?\n",
            "  --> True:\n",
            "    Sepal Length==5.4?\n",
            "    --> True:\n",
            "      Predict {0.0: '100.0%', 2.0: '0.0%', 1.0: '0.0%'}\n",
            "    --> False:\n",
            "      Predict {0.0: '100.0%', 2.0: '0.0%', 1.0: '0.0%'}\n",
            "  --> False:\n",
            "    Sepal Length==4.9?\n",
            "    --> True:\n",
            "      Predict {0.0: '100.0%', 2.0: '0.0%', 1.0: '0.0%'}\n",
            "    --> False:\n",
            "      Predict {0.0: '100.0%', 2.0: '0.0%', 1.0: '0.0%'}\n"
          ],
          "name": "stdout"
        }
      ]
    },
    {
      "cell_type": "code",
      "metadata": {
        "id": "Y1rEZl1GzQ5I",
        "colab_type": "code",
        "colab": {}
      },
      "source": [
        "def classify(row, node):\n",
        "    \"Recursively follow the tree\"\n",
        "    if isinstance(node, Leaf):\n",
        "        return node.predict\n",
        "    col, val = node.threshold\n",
        "\n",
        "    if row[column].dtype.name == \"float64\":\n",
        "      if row[col]>=val:\n",
        "        return classify(row, node.left)\n",
        "      else:\n",
        "        return classify(row, node.right)\n",
        "    else:\n",
        "      if row[col]==val:\n",
        "        return classify(row, node.left)\n",
        "      else:\n",
        "        return classify(row, node.right)"
      ],
      "execution_count": 591,
      "outputs": []
    },
    {
      "cell_type": "code",
      "metadata": {
        "id": "C_wVsScu0y2h",
        "colab_type": "code",
        "colab": {
          "base_uri": "https://localhost:8080/",
          "height": 34
        },
        "outputId": "ce90a851-629f-4f65-8315-403ff4120532"
      },
      "source": [
        "classify(df.iloc[0],tree)"
      ],
      "execution_count": 592,
      "outputs": [
        {
          "output_type": "execute_result",
          "data": {
            "text/plain": [
              "{0.0: '100.0%', 1.0: '0.0%', 2.0: '0.0%'}"
            ]
          },
          "metadata": {
            "tags": []
          },
          "execution_count": 592
        }
      ]
    }
  ]
}